{
 "cells": [
  {
   "cell_type": "markdown",
   "id": "3a4d4ac8",
   "metadata": {},
   "source": [
    "# PREDICTIVE MAINTENANCE IN PYTHON"
   ]
  },
  {
   "cell_type": "markdown",
   "id": "e62ce382",
   "metadata": {},
   "source": [
    "## DATA MINING WATER TABLE"
   ]
  },
  {
   "cell_type": "markdown",
   "id": "42ab95fc",
   "metadata": {},
   "source": [
    "### Load libraries"
   ]
  },
  {
   "cell_type": "code",
   "execution_count": 1,
   "id": "b8114d99",
   "metadata": {},
   "outputs": [],
   "source": [
    "# Import data manipulation libraries\n",
    "import pandas as pd\n",
    "import numpy as np\n",
    "from datetime import datetime\n",
    "\n",
    "#Import libraries for visualization\n",
    "import matplotlib.pyplot as plt\n",
    "import seaborn as sns\n",
    "# Import data preprocessing libraries\n",
    "from sklearn.pipeline import make_pipeline\n",
    "from sklearn.preprocessing import StandardScaler, LabelEncoder\n",
    "from sklearn.impute import SimpleImputer\n",
    "from sklearn.model_selection import train_test_split\n",
    "\n",
    "# Import modeling libraries\n",
    "from sklearn.linear_model import LogisticRegression\n",
    "from sklearn.ensemble import RandomForestClassifier, GradientBoostingClassifier\n",
    "\n",
    "# Import model evaluation metrics\n",
    "from sklearn.model_selection import train_test_split, GridSearchCV, cross_val_score\n",
    "from sklearn.metrics import (ConfusionMatrixDisplay, mean_squared_error, mean_absolute_error, r2_score, accuracy_score, \n",
    "                             confusion_matrix, classification_report, precision_score, recall_score)"
   ]
  },
  {
   "cell_type": "markdown",
   "id": "452e719a",
   "metadata": {},
   "source": [
    "### Data Preparation"
   ]
  },
  {
   "cell_type": "code",
   "execution_count": 2,
   "id": "6b4a2f59",
   "metadata": {},
   "outputs": [],
   "source": [
    "# load the values and labels for the training set\n",
    "train_values = pd.read_csv(\"training_set_values.csv\", parse_dates=[\"date_recorded\"])\n",
    "train_labels = pd.read_csv(\"training_set_labels.csv\")\n",
    "\n",
    "# load the values for the test set\n",
    "test_values = pd.read_csv(\"test_set_values.csv\", parse_dates=[\"date_recorded\"])"
   ]
  },
  {
   "cell_type": "code",
   "execution_count": 3,
   "id": "5846383b",
   "metadata": {},
   "outputs": [
    {
     "name": "stdout",
     "output_type": "stream",
     "text": [
      "(59400, 40)\n"
     ]
    },
    {
     "data": {
      "text/html": [
       "<div>\n",
       "<style scoped>\n",
       "    .dataframe tbody tr th:only-of-type {\n",
       "        vertical-align: middle;\n",
       "    }\n",
       "\n",
       "    .dataframe tbody tr th {\n",
       "        vertical-align: top;\n",
       "    }\n",
       "\n",
       "    .dataframe thead th {\n",
       "        text-align: right;\n",
       "    }\n",
       "</style>\n",
       "<table border=\"1\" class=\"dataframe\">\n",
       "  <thead>\n",
       "    <tr style=\"text-align: right;\">\n",
       "      <th></th>\n",
       "      <th>id</th>\n",
       "      <th>amount_tsh</th>\n",
       "      <th>date_recorded</th>\n",
       "      <th>funder</th>\n",
       "      <th>gps_height</th>\n",
       "      <th>installer</th>\n",
       "      <th>longitude</th>\n",
       "      <th>latitude</th>\n",
       "      <th>wpt_name</th>\n",
       "      <th>num_private</th>\n",
       "      <th>...</th>\n",
       "      <th>payment_type</th>\n",
       "      <th>water_quality</th>\n",
       "      <th>quality_group</th>\n",
       "      <th>quantity</th>\n",
       "      <th>quantity_group</th>\n",
       "      <th>source</th>\n",
       "      <th>source_type</th>\n",
       "      <th>source_class</th>\n",
       "      <th>waterpoint_type</th>\n",
       "      <th>waterpoint_type_group</th>\n",
       "    </tr>\n",
       "  </thead>\n",
       "  <tbody>\n",
       "    <tr>\n",
       "      <th>0</th>\n",
       "      <td>69572</td>\n",
       "      <td>6000.0</td>\n",
       "      <td>2011-03-14</td>\n",
       "      <td>Roman</td>\n",
       "      <td>1390</td>\n",
       "      <td>Roman</td>\n",
       "      <td>34.938093</td>\n",
       "      <td>-9.856322</td>\n",
       "      <td>none</td>\n",
       "      <td>0</td>\n",
       "      <td>...</td>\n",
       "      <td>annually</td>\n",
       "      <td>soft</td>\n",
       "      <td>good</td>\n",
       "      <td>enough</td>\n",
       "      <td>enough</td>\n",
       "      <td>spring</td>\n",
       "      <td>spring</td>\n",
       "      <td>groundwater</td>\n",
       "      <td>communal standpipe</td>\n",
       "      <td>communal standpipe</td>\n",
       "    </tr>\n",
       "    <tr>\n",
       "      <th>1</th>\n",
       "      <td>8776</td>\n",
       "      <td>0.0</td>\n",
       "      <td>2013-03-06</td>\n",
       "      <td>Grumeti</td>\n",
       "      <td>1399</td>\n",
       "      <td>GRUMETI</td>\n",
       "      <td>34.698766</td>\n",
       "      <td>-2.147466</td>\n",
       "      <td>Zahanati</td>\n",
       "      <td>0</td>\n",
       "      <td>...</td>\n",
       "      <td>never pay</td>\n",
       "      <td>soft</td>\n",
       "      <td>good</td>\n",
       "      <td>insufficient</td>\n",
       "      <td>insufficient</td>\n",
       "      <td>rainwater harvesting</td>\n",
       "      <td>rainwater harvesting</td>\n",
       "      <td>surface</td>\n",
       "      <td>communal standpipe</td>\n",
       "      <td>communal standpipe</td>\n",
       "    </tr>\n",
       "    <tr>\n",
       "      <th>2</th>\n",
       "      <td>34310</td>\n",
       "      <td>25.0</td>\n",
       "      <td>2013-02-25</td>\n",
       "      <td>Lottery Club</td>\n",
       "      <td>686</td>\n",
       "      <td>World vision</td>\n",
       "      <td>37.460664</td>\n",
       "      <td>-3.821329</td>\n",
       "      <td>Kwa Mahundi</td>\n",
       "      <td>0</td>\n",
       "      <td>...</td>\n",
       "      <td>per bucket</td>\n",
       "      <td>soft</td>\n",
       "      <td>good</td>\n",
       "      <td>enough</td>\n",
       "      <td>enough</td>\n",
       "      <td>dam</td>\n",
       "      <td>dam</td>\n",
       "      <td>surface</td>\n",
       "      <td>communal standpipe multiple</td>\n",
       "      <td>communal standpipe</td>\n",
       "    </tr>\n",
       "    <tr>\n",
       "      <th>3</th>\n",
       "      <td>67743</td>\n",
       "      <td>0.0</td>\n",
       "      <td>2013-01-28</td>\n",
       "      <td>Unicef</td>\n",
       "      <td>263</td>\n",
       "      <td>UNICEF</td>\n",
       "      <td>38.486161</td>\n",
       "      <td>-11.155298</td>\n",
       "      <td>Zahanati Ya Nanyumbu</td>\n",
       "      <td>0</td>\n",
       "      <td>...</td>\n",
       "      <td>never pay</td>\n",
       "      <td>soft</td>\n",
       "      <td>good</td>\n",
       "      <td>dry</td>\n",
       "      <td>dry</td>\n",
       "      <td>machine dbh</td>\n",
       "      <td>borehole</td>\n",
       "      <td>groundwater</td>\n",
       "      <td>communal standpipe multiple</td>\n",
       "      <td>communal standpipe</td>\n",
       "    </tr>\n",
       "    <tr>\n",
       "      <th>4</th>\n",
       "      <td>19728</td>\n",
       "      <td>0.0</td>\n",
       "      <td>2011-07-13</td>\n",
       "      <td>Action In A</td>\n",
       "      <td>0</td>\n",
       "      <td>Artisan</td>\n",
       "      <td>31.130847</td>\n",
       "      <td>-1.825359</td>\n",
       "      <td>Shuleni</td>\n",
       "      <td>0</td>\n",
       "      <td>...</td>\n",
       "      <td>never pay</td>\n",
       "      <td>soft</td>\n",
       "      <td>good</td>\n",
       "      <td>seasonal</td>\n",
       "      <td>seasonal</td>\n",
       "      <td>rainwater harvesting</td>\n",
       "      <td>rainwater harvesting</td>\n",
       "      <td>surface</td>\n",
       "      <td>communal standpipe</td>\n",
       "      <td>communal standpipe</td>\n",
       "    </tr>\n",
       "  </tbody>\n",
       "</table>\n",
       "<p>5 rows × 40 columns</p>\n",
       "</div>"
      ],
      "text/plain": [
       "      id  amount_tsh date_recorded        funder  gps_height     installer  \\\n",
       "0  69572      6000.0    2011-03-14         Roman        1390         Roman   \n",
       "1   8776         0.0    2013-03-06       Grumeti        1399       GRUMETI   \n",
       "2  34310        25.0    2013-02-25  Lottery Club         686  World vision   \n",
       "3  67743         0.0    2013-01-28        Unicef         263        UNICEF   \n",
       "4  19728         0.0    2011-07-13   Action In A           0       Artisan   \n",
       "\n",
       "   longitude   latitude              wpt_name  num_private  ... payment_type  \\\n",
       "0  34.938093  -9.856322                  none            0  ...     annually   \n",
       "1  34.698766  -2.147466              Zahanati            0  ...    never pay   \n",
       "2  37.460664  -3.821329           Kwa Mahundi            0  ...   per bucket   \n",
       "3  38.486161 -11.155298  Zahanati Ya Nanyumbu            0  ...    never pay   \n",
       "4  31.130847  -1.825359               Shuleni            0  ...    never pay   \n",
       "\n",
       "  water_quality quality_group      quantity  quantity_group  \\\n",
       "0          soft          good        enough          enough   \n",
       "1          soft          good  insufficient    insufficient   \n",
       "2          soft          good        enough          enough   \n",
       "3          soft          good           dry             dry   \n",
       "4          soft          good      seasonal        seasonal   \n",
       "\n",
       "                 source           source_type  source_class  \\\n",
       "0                spring                spring   groundwater   \n",
       "1  rainwater harvesting  rainwater harvesting       surface   \n",
       "2                   dam                   dam       surface   \n",
       "3           machine dbh              borehole   groundwater   \n",
       "4  rainwater harvesting  rainwater harvesting       surface   \n",
       "\n",
       "               waterpoint_type waterpoint_type_group  \n",
       "0           communal standpipe    communal standpipe  \n",
       "1           communal standpipe    communal standpipe  \n",
       "2  communal standpipe multiple    communal standpipe  \n",
       "3  communal standpipe multiple    communal standpipe  \n",
       "4           communal standpipe    communal standpipe  \n",
       "\n",
       "[5 rows x 40 columns]"
      ]
     },
     "execution_count": 3,
     "metadata": {},
     "output_type": "execute_result"
    }
   ],
   "source": [
    "# Train set values dataframe\n",
    "\n",
    "# print the shape of the data\n",
    "print(train_values.shape)\n",
    "\n",
    "# check the first few rows of the data\n",
    "train_values.head()"
   ]
  },
  {
   "cell_type": "markdown",
   "id": "2c4ec42a",
   "metadata": {},
   "source": [
    "##### The dataframe has 40 variables and 59400 observations."
   ]
  },
  {
   "cell_type": "code",
   "execution_count": 4,
   "id": "c00c88f1",
   "metadata": {},
   "outputs": [
    {
     "name": "stdout",
     "output_type": "stream",
     "text": [
      "(59400, 2)\n"
     ]
    },
    {
     "data": {
      "text/html": [
       "<div>\n",
       "<style scoped>\n",
       "    .dataframe tbody tr th:only-of-type {\n",
       "        vertical-align: middle;\n",
       "    }\n",
       "\n",
       "    .dataframe tbody tr th {\n",
       "        vertical-align: top;\n",
       "    }\n",
       "\n",
       "    .dataframe thead th {\n",
       "        text-align: right;\n",
       "    }\n",
       "</style>\n",
       "<table border=\"1\" class=\"dataframe\">\n",
       "  <thead>\n",
       "    <tr style=\"text-align: right;\">\n",
       "      <th></th>\n",
       "      <th>id</th>\n",
       "      <th>status_group</th>\n",
       "    </tr>\n",
       "  </thead>\n",
       "  <tbody>\n",
       "    <tr>\n",
       "      <th>0</th>\n",
       "      <td>69572</td>\n",
       "      <td>functional</td>\n",
       "    </tr>\n",
       "    <tr>\n",
       "      <th>1</th>\n",
       "      <td>8776</td>\n",
       "      <td>functional</td>\n",
       "    </tr>\n",
       "    <tr>\n",
       "      <th>2</th>\n",
       "      <td>34310</td>\n",
       "      <td>functional</td>\n",
       "    </tr>\n",
       "    <tr>\n",
       "      <th>3</th>\n",
       "      <td>67743</td>\n",
       "      <td>non functional</td>\n",
       "    </tr>\n",
       "    <tr>\n",
       "      <th>4</th>\n",
       "      <td>19728</td>\n",
       "      <td>functional</td>\n",
       "    </tr>\n",
       "  </tbody>\n",
       "</table>\n",
       "</div>"
      ],
      "text/plain": [
       "      id    status_group\n",
       "0  69572      functional\n",
       "1   8776      functional\n",
       "2  34310      functional\n",
       "3  67743  non functional\n",
       "4  19728      functional"
      ]
     },
     "execution_count": 4,
     "metadata": {},
     "output_type": "execute_result"
    }
   ],
   "source": [
    "# Train set labels dataframe\n",
    "\n",
    "# print the shape of the data\n",
    "print(train_labels.shape)\n",
    "\n",
    "# check the first few rows of the data\n",
    "train_labels.head()"
   ]
  },
  {
   "cell_type": "markdown",
   "id": "703890f2",
   "metadata": {},
   "source": [
    "##### The dataframe has 2 variables and 59400 observations."
   ]
  },
  {
   "cell_type": "code",
   "execution_count": 5,
   "id": "1bb4d3d6",
   "metadata": {},
   "outputs": [
    {
     "name": "stdout",
     "output_type": "stream",
     "text": [
      "(14850, 40)\n"
     ]
    },
    {
     "data": {
      "text/html": [
       "<div>\n",
       "<style scoped>\n",
       "    .dataframe tbody tr th:only-of-type {\n",
       "        vertical-align: middle;\n",
       "    }\n",
       "\n",
       "    .dataframe tbody tr th {\n",
       "        vertical-align: top;\n",
       "    }\n",
       "\n",
       "    .dataframe thead th {\n",
       "        text-align: right;\n",
       "    }\n",
       "</style>\n",
       "<table border=\"1\" class=\"dataframe\">\n",
       "  <thead>\n",
       "    <tr style=\"text-align: right;\">\n",
       "      <th></th>\n",
       "      <th>id</th>\n",
       "      <th>amount_tsh</th>\n",
       "      <th>date_recorded</th>\n",
       "      <th>funder</th>\n",
       "      <th>gps_height</th>\n",
       "      <th>installer</th>\n",
       "      <th>longitude</th>\n",
       "      <th>latitude</th>\n",
       "      <th>wpt_name</th>\n",
       "      <th>num_private</th>\n",
       "      <th>...</th>\n",
       "      <th>payment_type</th>\n",
       "      <th>water_quality</th>\n",
       "      <th>quality_group</th>\n",
       "      <th>quantity</th>\n",
       "      <th>quantity_group</th>\n",
       "      <th>source</th>\n",
       "      <th>source_type</th>\n",
       "      <th>source_class</th>\n",
       "      <th>waterpoint_type</th>\n",
       "      <th>waterpoint_type_group</th>\n",
       "    </tr>\n",
       "  </thead>\n",
       "  <tbody>\n",
       "    <tr>\n",
       "      <th>0</th>\n",
       "      <td>50785</td>\n",
       "      <td>0.0</td>\n",
       "      <td>2013-02-04</td>\n",
       "      <td>Dmdd</td>\n",
       "      <td>1996</td>\n",
       "      <td>DMDD</td>\n",
       "      <td>35.290799</td>\n",
       "      <td>-4.059696</td>\n",
       "      <td>Dinamu Secondary School</td>\n",
       "      <td>0</td>\n",
       "      <td>...</td>\n",
       "      <td>never pay</td>\n",
       "      <td>soft</td>\n",
       "      <td>good</td>\n",
       "      <td>seasonal</td>\n",
       "      <td>seasonal</td>\n",
       "      <td>rainwater harvesting</td>\n",
       "      <td>rainwater harvesting</td>\n",
       "      <td>surface</td>\n",
       "      <td>other</td>\n",
       "      <td>other</td>\n",
       "    </tr>\n",
       "    <tr>\n",
       "      <th>1</th>\n",
       "      <td>51630</td>\n",
       "      <td>0.0</td>\n",
       "      <td>2013-02-04</td>\n",
       "      <td>Government Of Tanzania</td>\n",
       "      <td>1569</td>\n",
       "      <td>DWE</td>\n",
       "      <td>36.656709</td>\n",
       "      <td>-3.309214</td>\n",
       "      <td>Kimnyak</td>\n",
       "      <td>0</td>\n",
       "      <td>...</td>\n",
       "      <td>never pay</td>\n",
       "      <td>soft</td>\n",
       "      <td>good</td>\n",
       "      <td>insufficient</td>\n",
       "      <td>insufficient</td>\n",
       "      <td>spring</td>\n",
       "      <td>spring</td>\n",
       "      <td>groundwater</td>\n",
       "      <td>communal standpipe</td>\n",
       "      <td>communal standpipe</td>\n",
       "    </tr>\n",
       "    <tr>\n",
       "      <th>2</th>\n",
       "      <td>17168</td>\n",
       "      <td>0.0</td>\n",
       "      <td>2013-02-01</td>\n",
       "      <td>NaN</td>\n",
       "      <td>1567</td>\n",
       "      <td>NaN</td>\n",
       "      <td>34.767863</td>\n",
       "      <td>-5.004344</td>\n",
       "      <td>Puma Secondary</td>\n",
       "      <td>0</td>\n",
       "      <td>...</td>\n",
       "      <td>never pay</td>\n",
       "      <td>soft</td>\n",
       "      <td>good</td>\n",
       "      <td>insufficient</td>\n",
       "      <td>insufficient</td>\n",
       "      <td>rainwater harvesting</td>\n",
       "      <td>rainwater harvesting</td>\n",
       "      <td>surface</td>\n",
       "      <td>other</td>\n",
       "      <td>other</td>\n",
       "    </tr>\n",
       "    <tr>\n",
       "      <th>3</th>\n",
       "      <td>45559</td>\n",
       "      <td>0.0</td>\n",
       "      <td>2013-01-22</td>\n",
       "      <td>Finn Water</td>\n",
       "      <td>267</td>\n",
       "      <td>FINN WATER</td>\n",
       "      <td>38.058046</td>\n",
       "      <td>-9.418672</td>\n",
       "      <td>Kwa Mzee Pange</td>\n",
       "      <td>0</td>\n",
       "      <td>...</td>\n",
       "      <td>unknown</td>\n",
       "      <td>soft</td>\n",
       "      <td>good</td>\n",
       "      <td>dry</td>\n",
       "      <td>dry</td>\n",
       "      <td>shallow well</td>\n",
       "      <td>shallow well</td>\n",
       "      <td>groundwater</td>\n",
       "      <td>other</td>\n",
       "      <td>other</td>\n",
       "    </tr>\n",
       "    <tr>\n",
       "      <th>4</th>\n",
       "      <td>49871</td>\n",
       "      <td>500.0</td>\n",
       "      <td>2013-03-27</td>\n",
       "      <td>Bruder</td>\n",
       "      <td>1260</td>\n",
       "      <td>BRUDER</td>\n",
       "      <td>35.006123</td>\n",
       "      <td>-10.950412</td>\n",
       "      <td>Kwa Mzee Turuka</td>\n",
       "      <td>0</td>\n",
       "      <td>...</td>\n",
       "      <td>monthly</td>\n",
       "      <td>soft</td>\n",
       "      <td>good</td>\n",
       "      <td>enough</td>\n",
       "      <td>enough</td>\n",
       "      <td>spring</td>\n",
       "      <td>spring</td>\n",
       "      <td>groundwater</td>\n",
       "      <td>communal standpipe</td>\n",
       "      <td>communal standpipe</td>\n",
       "    </tr>\n",
       "  </tbody>\n",
       "</table>\n",
       "<p>5 rows × 40 columns</p>\n",
       "</div>"
      ],
      "text/plain": [
       "      id  amount_tsh date_recorded                  funder  gps_height  \\\n",
       "0  50785         0.0    2013-02-04                    Dmdd        1996   \n",
       "1  51630         0.0    2013-02-04  Government Of Tanzania        1569   \n",
       "2  17168         0.0    2013-02-01                     NaN        1567   \n",
       "3  45559         0.0    2013-01-22              Finn Water         267   \n",
       "4  49871       500.0    2013-03-27                  Bruder        1260   \n",
       "\n",
       "    installer  longitude   latitude                 wpt_name  num_private  \\\n",
       "0        DMDD  35.290799  -4.059696  Dinamu Secondary School            0   \n",
       "1         DWE  36.656709  -3.309214                  Kimnyak            0   \n",
       "2         NaN  34.767863  -5.004344           Puma Secondary            0   \n",
       "3  FINN WATER  38.058046  -9.418672           Kwa Mzee Pange            0   \n",
       "4      BRUDER  35.006123 -10.950412          Kwa Mzee Turuka            0   \n",
       "\n",
       "   ... payment_type water_quality quality_group      quantity  quantity_group  \\\n",
       "0  ...    never pay          soft          good      seasonal        seasonal   \n",
       "1  ...    never pay          soft          good  insufficient    insufficient   \n",
       "2  ...    never pay          soft          good  insufficient    insufficient   \n",
       "3  ...      unknown          soft          good           dry             dry   \n",
       "4  ...      monthly          soft          good        enough          enough   \n",
       "\n",
       "                 source           source_type  source_class  \\\n",
       "0  rainwater harvesting  rainwater harvesting       surface   \n",
       "1                spring                spring   groundwater   \n",
       "2  rainwater harvesting  rainwater harvesting       surface   \n",
       "3          shallow well          shallow well   groundwater   \n",
       "4                spring                spring   groundwater   \n",
       "\n",
       "      waterpoint_type waterpoint_type_group  \n",
       "0               other                 other  \n",
       "1  communal standpipe    communal standpipe  \n",
       "2               other                 other  \n",
       "3               other                 other  \n",
       "4  communal standpipe    communal standpipe  \n",
       "\n",
       "[5 rows x 40 columns]"
      ]
     },
     "execution_count": 5,
     "metadata": {},
     "output_type": "execute_result"
    }
   ],
   "source": [
    "# Test set values dataframe\n",
    "\n",
    "# print the shape of the dataframe\n",
    "print(test_values.shape)\n",
    "\n",
    "# check the first few rows of the data\n",
    "test_values.head()"
   ]
  },
  {
   "cell_type": "markdown",
   "id": "e9d03fda",
   "metadata": {},
   "source": [
    "##### The dataframe has 40 variables and 14850 observations."
   ]
  },
  {
   "cell_type": "code",
   "execution_count": 6,
   "id": "ecf66a83",
   "metadata": {},
   "outputs": [
    {
     "name": "stdout",
     "output_type": "stream",
     "text": [
      "(59400, 41)\n"
     ]
    },
    {
     "data": {
      "text/html": [
       "<div>\n",
       "<style scoped>\n",
       "    .dataframe tbody tr th:only-of-type {\n",
       "        vertical-align: middle;\n",
       "    }\n",
       "\n",
       "    .dataframe tbody tr th {\n",
       "        vertical-align: top;\n",
       "    }\n",
       "\n",
       "    .dataframe thead th {\n",
       "        text-align: right;\n",
       "    }\n",
       "</style>\n",
       "<table border=\"1\" class=\"dataframe\">\n",
       "  <thead>\n",
       "    <tr style=\"text-align: right;\">\n",
       "      <th></th>\n",
       "      <th>id</th>\n",
       "      <th>amount_tsh</th>\n",
       "      <th>date_recorded</th>\n",
       "      <th>funder</th>\n",
       "      <th>gps_height</th>\n",
       "      <th>installer</th>\n",
       "      <th>longitude</th>\n",
       "      <th>latitude</th>\n",
       "      <th>wpt_name</th>\n",
       "      <th>num_private</th>\n",
       "      <th>...</th>\n",
       "      <th>water_quality</th>\n",
       "      <th>quality_group</th>\n",
       "      <th>quantity</th>\n",
       "      <th>quantity_group</th>\n",
       "      <th>source</th>\n",
       "      <th>source_type</th>\n",
       "      <th>source_class</th>\n",
       "      <th>waterpoint_type</th>\n",
       "      <th>waterpoint_type_group</th>\n",
       "      <th>status_group</th>\n",
       "    </tr>\n",
       "  </thead>\n",
       "  <tbody>\n",
       "    <tr>\n",
       "      <th>0</th>\n",
       "      <td>69572</td>\n",
       "      <td>6000.0</td>\n",
       "      <td>2011-03-14</td>\n",
       "      <td>Roman</td>\n",
       "      <td>1390</td>\n",
       "      <td>Roman</td>\n",
       "      <td>34.938093</td>\n",
       "      <td>-9.856322</td>\n",
       "      <td>none</td>\n",
       "      <td>0</td>\n",
       "      <td>...</td>\n",
       "      <td>soft</td>\n",
       "      <td>good</td>\n",
       "      <td>enough</td>\n",
       "      <td>enough</td>\n",
       "      <td>spring</td>\n",
       "      <td>spring</td>\n",
       "      <td>groundwater</td>\n",
       "      <td>communal standpipe</td>\n",
       "      <td>communal standpipe</td>\n",
       "      <td>functional</td>\n",
       "    </tr>\n",
       "    <tr>\n",
       "      <th>1</th>\n",
       "      <td>8776</td>\n",
       "      <td>0.0</td>\n",
       "      <td>2013-03-06</td>\n",
       "      <td>Grumeti</td>\n",
       "      <td>1399</td>\n",
       "      <td>GRUMETI</td>\n",
       "      <td>34.698766</td>\n",
       "      <td>-2.147466</td>\n",
       "      <td>Zahanati</td>\n",
       "      <td>0</td>\n",
       "      <td>...</td>\n",
       "      <td>soft</td>\n",
       "      <td>good</td>\n",
       "      <td>insufficient</td>\n",
       "      <td>insufficient</td>\n",
       "      <td>rainwater harvesting</td>\n",
       "      <td>rainwater harvesting</td>\n",
       "      <td>surface</td>\n",
       "      <td>communal standpipe</td>\n",
       "      <td>communal standpipe</td>\n",
       "      <td>functional</td>\n",
       "    </tr>\n",
       "    <tr>\n",
       "      <th>2</th>\n",
       "      <td>34310</td>\n",
       "      <td>25.0</td>\n",
       "      <td>2013-02-25</td>\n",
       "      <td>Lottery Club</td>\n",
       "      <td>686</td>\n",
       "      <td>World vision</td>\n",
       "      <td>37.460664</td>\n",
       "      <td>-3.821329</td>\n",
       "      <td>Kwa Mahundi</td>\n",
       "      <td>0</td>\n",
       "      <td>...</td>\n",
       "      <td>soft</td>\n",
       "      <td>good</td>\n",
       "      <td>enough</td>\n",
       "      <td>enough</td>\n",
       "      <td>dam</td>\n",
       "      <td>dam</td>\n",
       "      <td>surface</td>\n",
       "      <td>communal standpipe multiple</td>\n",
       "      <td>communal standpipe</td>\n",
       "      <td>functional</td>\n",
       "    </tr>\n",
       "    <tr>\n",
       "      <th>3</th>\n",
       "      <td>67743</td>\n",
       "      <td>0.0</td>\n",
       "      <td>2013-01-28</td>\n",
       "      <td>Unicef</td>\n",
       "      <td>263</td>\n",
       "      <td>UNICEF</td>\n",
       "      <td>38.486161</td>\n",
       "      <td>-11.155298</td>\n",
       "      <td>Zahanati Ya Nanyumbu</td>\n",
       "      <td>0</td>\n",
       "      <td>...</td>\n",
       "      <td>soft</td>\n",
       "      <td>good</td>\n",
       "      <td>dry</td>\n",
       "      <td>dry</td>\n",
       "      <td>machine dbh</td>\n",
       "      <td>borehole</td>\n",
       "      <td>groundwater</td>\n",
       "      <td>communal standpipe multiple</td>\n",
       "      <td>communal standpipe</td>\n",
       "      <td>non functional</td>\n",
       "    </tr>\n",
       "    <tr>\n",
       "      <th>4</th>\n",
       "      <td>19728</td>\n",
       "      <td>0.0</td>\n",
       "      <td>2011-07-13</td>\n",
       "      <td>Action In A</td>\n",
       "      <td>0</td>\n",
       "      <td>Artisan</td>\n",
       "      <td>31.130847</td>\n",
       "      <td>-1.825359</td>\n",
       "      <td>Shuleni</td>\n",
       "      <td>0</td>\n",
       "      <td>...</td>\n",
       "      <td>soft</td>\n",
       "      <td>good</td>\n",
       "      <td>seasonal</td>\n",
       "      <td>seasonal</td>\n",
       "      <td>rainwater harvesting</td>\n",
       "      <td>rainwater harvesting</td>\n",
       "      <td>surface</td>\n",
       "      <td>communal standpipe</td>\n",
       "      <td>communal standpipe</td>\n",
       "      <td>functional</td>\n",
       "    </tr>\n",
       "  </tbody>\n",
       "</table>\n",
       "<p>5 rows × 41 columns</p>\n",
       "</div>"
      ],
      "text/plain": [
       "      id  amount_tsh date_recorded        funder  gps_height     installer  \\\n",
       "0  69572      6000.0    2011-03-14         Roman        1390         Roman   \n",
       "1   8776         0.0    2013-03-06       Grumeti        1399       GRUMETI   \n",
       "2  34310        25.0    2013-02-25  Lottery Club         686  World vision   \n",
       "3  67743         0.0    2013-01-28        Unicef         263        UNICEF   \n",
       "4  19728         0.0    2011-07-13   Action In A           0       Artisan   \n",
       "\n",
       "   longitude   latitude              wpt_name  num_private  ... water_quality  \\\n",
       "0  34.938093  -9.856322                  none            0  ...          soft   \n",
       "1  34.698766  -2.147466              Zahanati            0  ...          soft   \n",
       "2  37.460664  -3.821329           Kwa Mahundi            0  ...          soft   \n",
       "3  38.486161 -11.155298  Zahanati Ya Nanyumbu            0  ...          soft   \n",
       "4  31.130847  -1.825359               Shuleni            0  ...          soft   \n",
       "\n",
       "  quality_group      quantity  quantity_group                source  \\\n",
       "0          good        enough          enough                spring   \n",
       "1          good  insufficient    insufficient  rainwater harvesting   \n",
       "2          good        enough          enough                   dam   \n",
       "3          good           dry             dry           machine dbh   \n",
       "4          good      seasonal        seasonal  rainwater harvesting   \n",
       "\n",
       "            source_type source_class              waterpoint_type  \\\n",
       "0                spring  groundwater           communal standpipe   \n",
       "1  rainwater harvesting      surface           communal standpipe   \n",
       "2                   dam      surface  communal standpipe multiple   \n",
       "3              borehole  groundwater  communal standpipe multiple   \n",
       "4  rainwater harvesting      surface           communal standpipe   \n",
       "\n",
       "  waterpoint_type_group    status_group  \n",
       "0    communal standpipe      functional  \n",
       "1    communal standpipe      functional  \n",
       "2    communal standpipe      functional  \n",
       "3    communal standpipe  non functional  \n",
       "4    communal standpipe      functional  \n",
       "\n",
       "[5 rows x 41 columns]"
      ]
     },
     "execution_count": 6,
     "metadata": {},
     "output_type": "execute_result"
    }
   ],
   "source": [
    "# Merge the values and labels for the training set to form complete training data\n",
    "train_data = pd.merge(train_values, train_labels, on=\"id\")\n",
    "\n",
    "# print the shape of the new dataframe\n",
    "print(train_data.shape)\n",
    "\n",
    "# check the first few rows of the dataframe\n",
    "train_data.head()"
   ]
  },
  {
   "cell_type": "markdown",
   "id": "1d854d73",
   "metadata": {},
   "source": [
    "##### The resulting dataframe has 41 variables and 59400 observations."
   ]
  },
  {
   "cell_type": "code",
   "execution_count": 7,
   "id": "68935e10",
   "metadata": {},
   "outputs": [
    {
     "name": "stdout",
     "output_type": "stream",
     "text": [
      "<class 'pandas.core.frame.DataFrame'>\n",
      "Int64Index: 59400 entries, 0 to 59399\n",
      "Data columns (total 41 columns):\n",
      " #   Column                 Non-Null Count  Dtype         \n",
      "---  ------                 --------------  -----         \n",
      " 0   id                     59400 non-null  int64         \n",
      " 1   amount_tsh             59400 non-null  float64       \n",
      " 2   date_recorded          59400 non-null  datetime64[ns]\n",
      " 3   funder                 55765 non-null  object        \n",
      " 4   gps_height             59400 non-null  int64         \n",
      " 5   installer              55745 non-null  object        \n",
      " 6   longitude              59400 non-null  float64       \n",
      " 7   latitude               59400 non-null  float64       \n",
      " 8   wpt_name               59400 non-null  object        \n",
      " 9   num_private            59400 non-null  int64         \n",
      " 10  basin                  59400 non-null  object        \n",
      " 11  subvillage             59029 non-null  object        \n",
      " 12  region                 59400 non-null  object        \n",
      " 13  region_code            59400 non-null  int64         \n",
      " 14  district_code          59400 non-null  int64         \n",
      " 15  lga                    59400 non-null  object        \n",
      " 16  ward                   59400 non-null  object        \n",
      " 17  population             59400 non-null  int64         \n",
      " 18  public_meeting         56066 non-null  object        \n",
      " 19  recorded_by            59400 non-null  object        \n",
      " 20  scheme_management      55523 non-null  object        \n",
      " 21  scheme_name            31234 non-null  object        \n",
      " 22  permit                 56344 non-null  object        \n",
      " 23  construction_year      59400 non-null  int64         \n",
      " 24  extraction_type        59400 non-null  object        \n",
      " 25  extraction_type_group  59400 non-null  object        \n",
      " 26  extraction_type_class  59400 non-null  object        \n",
      " 27  management             59400 non-null  object        \n",
      " 28  management_group       59400 non-null  object        \n",
      " 29  payment                59400 non-null  object        \n",
      " 30  payment_type           59400 non-null  object        \n",
      " 31  water_quality          59400 non-null  object        \n",
      " 32  quality_group          59400 non-null  object        \n",
      " 33  quantity               59400 non-null  object        \n",
      " 34  quantity_group         59400 non-null  object        \n",
      " 35  source                 59400 non-null  object        \n",
      " 36  source_type            59400 non-null  object        \n",
      " 37  source_class           59400 non-null  object        \n",
      " 38  waterpoint_type        59400 non-null  object        \n",
      " 39  waterpoint_type_group  59400 non-null  object        \n",
      " 40  status_group           59400 non-null  object        \n",
      "dtypes: datetime64[ns](1), float64(3), int64(7), object(30)\n",
      "memory usage: 19.0+ MB\n"
     ]
    }
   ],
   "source": [
    "# check the datatypes of the different columns in the dataset\n",
    "train_data.info()"
   ]
  },
  {
   "cell_type": "markdown",
   "id": "b2f0e370",
   "metadata": {},
   "source": [
    "### Data Cleaning"
   ]
  },
  {
   "cell_type": "markdown",
   "id": "9c18e24c",
   "metadata": {},
   "source": [
    "#### Handle Missing Values"
   ]
  },
  {
   "cell_type": "code",
   "execution_count": 8,
   "id": "de9d31dc",
   "metadata": {},
   "outputs": [
    {
     "data": {
      "text/plain": [
       "id                           0\n",
       "amount_tsh                   0\n",
       "date_recorded                0\n",
       "funder                    3635\n",
       "gps_height                   0\n",
       "installer                 3655\n",
       "longitude                    0\n",
       "latitude                     0\n",
       "wpt_name                     0\n",
       "num_private                  0\n",
       "basin                        0\n",
       "subvillage                 371\n",
       "region                       0\n",
       "region_code                  0\n",
       "district_code                0\n",
       "lga                          0\n",
       "ward                         0\n",
       "population                   0\n",
       "public_meeting            3334\n",
       "recorded_by                  0\n",
       "scheme_management         3877\n",
       "scheme_name              28166\n",
       "permit                    3056\n",
       "construction_year            0\n",
       "extraction_type              0\n",
       "extraction_type_group        0\n",
       "extraction_type_class        0\n",
       "management                   0\n",
       "management_group             0\n",
       "payment                      0\n",
       "payment_type                 0\n",
       "water_quality                0\n",
       "quality_group                0\n",
       "quantity                     0\n",
       "quantity_group               0\n",
       "source                       0\n",
       "source_type                  0\n",
       "source_class                 0\n",
       "waterpoint_type              0\n",
       "waterpoint_type_group        0\n",
       "status_group                 0\n",
       "dtype: int64"
      ]
     },
     "execution_count": 8,
     "metadata": {},
     "output_type": "execute_result"
    }
   ],
   "source": [
    "# Check for missing data\n",
    "train_data.apply(lambda x: sum(x.isnull()))"
   ]
  },
  {
   "cell_type": "markdown",
   "id": "95e33853",
   "metadata": {},
   "source": [
    "##### There are columns with null values. This will necessitate me doing data cleaning."
   ]
  },
  {
   "cell_type": "markdown",
   "id": "29c830ab",
   "metadata": {},
   "source": [
    "#### Inspect columns with missing values"
   ]
  },
  {
   "cell_type": "markdown",
   "id": "b74628cb",
   "metadata": {},
   "source": [
    "1. Funder"
   ]
  },
  {
   "cell_type": "code",
   "execution_count": 9,
   "id": "188dcab4",
   "metadata": {},
   "outputs": [
    {
     "data": {
      "text/plain": [
       "Government Of Tanzania    9084\n",
       "Danida                    3114\n",
       "Hesawa                    2202\n",
       "Rwssp                     1374\n",
       "World Bank                1349\n",
       "Name: funder, dtype: int64"
      ]
     },
     "execution_count": 9,
     "metadata": {},
     "output_type": "execute_result"
    }
   ],
   "source": [
    "# check the top 5 unique funders\n",
    "train_data[\"funder\"].value_counts().head()"
   ]
  },
  {
   "cell_type": "code",
   "execution_count": 10,
   "id": "2727fdeb",
   "metadata": {},
   "outputs": [],
   "source": [
    "# Create a function to reduce the number of unique funders for the projects\n",
    "# Maintain the top 5 funders and label the rest as 'Others'\n",
    "\n",
    "def mergeFunders(funder):\n",
    "    '''\n",
    "    Input:\n",
    "    funder: string, funder of the project\n",
    "    \n",
    "    Output:\n",
    "    merged_funder: string, initial funder if top 5, Other if not top 5\n",
    "    '''\n",
    "    \n",
    "    # For the top 10 funders, maintain the funders\n",
    "    if funder == 'Government Of Tanzania':\n",
    "        merged_funder = 'GOT'\n",
    "        \n",
    "    elif funder == 'Danida':\n",
    "        merged_funder = 'Danida'\n",
    "        \n",
    "    elif funder == 'Hesawa':\n",
    "        merged_funder = 'Hesawa'\n",
    "        \n",
    "    elif funder == 'Rwssp':\n",
    "        merged_funder = 'Rwssp'\n",
    "        \n",
    "    elif funder == 'World Bank':\n",
    "        merged_funder = 'World Bank'\n",
    "        \n",
    "    # For the rest of funders, put them under the broad category 'Other'\n",
    "    else:\n",
    "        merged_funder = 'Other'\n",
    "        \n",
    "    # return the merged funder\n",
    "    return merged_funder"
   ]
  },
  {
   "cell_type": "code",
   "execution_count": 11,
   "id": "710cbf34",
   "metadata": {},
   "outputs": [
    {
     "data": {
      "text/plain": [
       "Other         42277\n",
       "GOT            9084\n",
       "Danida         3114\n",
       "Hesawa         2202\n",
       "Rwssp          1374\n",
       "World Bank     1349\n",
       "Name: funder, dtype: int64"
      ]
     },
     "execution_count": 11,
     "metadata": {},
     "output_type": "execute_result"
    }
   ],
   "source": [
    "# Apply the function to the 'funder' column\n",
    "train_data[\"funder\"] = train_data.funder.apply(mergeFunders)\n",
    "\n",
    "# check the counts of the unique values again\n",
    "train_data.funder.value_counts()"
   ]
  },
  {
   "cell_type": "code",
   "execution_count": 12,
   "id": "36787091",
   "metadata": {},
   "outputs": [
    {
     "data": {
      "text/plain": [
       "0"
      ]
     },
     "execution_count": 12,
     "metadata": {},
     "output_type": "execute_result"
    }
   ],
   "source": [
    "# Check again for missing values\n",
    "train_data.funder.isnull().sum()"
   ]
  },
  {
   "cell_type": "markdown",
   "id": "b9d09777",
   "metadata": {},
   "source": [
    "###### We have reduced the funders to 6 wth 'Other' representing all the other funders not in the top 5 category. There are also no missing values at the moment."
   ]
  },
  {
   "cell_type": "markdown",
   "id": "29df6e34",
   "metadata": {},
   "source": [
    "2. Installer"
   ]
  },
  {
   "cell_type": "code",
   "execution_count": 13,
   "id": "2c94e68d",
   "metadata": {},
   "outputs": [
    {
     "data": {
      "text/plain": [
       "DWE           17402\n",
       "Government     1825\n",
       "RWE            1206\n",
       "Commu          1060\n",
       "DANIDA         1050\n",
       "Name: installer, dtype: int64"
      ]
     },
     "execution_count": 13,
     "metadata": {},
     "output_type": "execute_result"
    }
   ],
   "source": [
    "# Check for the top 5 unique installers\n",
    "train_data.installer.value_counts().head()"
   ]
  },
  {
   "cell_type": "code",
   "execution_count": 14,
   "id": "2d9a055f",
   "metadata": {},
   "outputs": [],
   "source": [
    "# Create a function to reduce the number of installers for the projects\n",
    "# Maintain the top 5 installers and label the rest as 'Other'\n",
    "# Ignore the installer labelled '0'\n",
    "\n",
    "def mergeInstallers(installer):\n",
    "    '''\n",
    "    Input:\n",
    "    installer: string, installer of the pump\n",
    "    \n",
    "    Output:\n",
    "    merged_installer: string, initial installer if top 5, Other if not top 5\n",
    "    '''\n",
    "    \n",
    "    # For the top 5 installers, maintain the installers\n",
    "    if installer == 'DWE':\n",
    "        merged_installer = 'DWE'\n",
    "        \n",
    "    elif installer == 'Government':\n",
    "        merged_installer = 'Government'\n",
    "        \n",
    "    elif installer == 'RWE':\n",
    "        merged_installer = 'RWE'\n",
    "        \n",
    "    elif installer == 'Commu':\n",
    "        merged_installer = 'Commu'\n",
    "        \n",
    "    elif installer == 'DANIDA':\n",
    "        merged_installer = 'Danida'\n",
    "                \n",
    "    # For the rest of installers, put them under the broad category 'Other'\n",
    "    else:\n",
    "        merged_installer = 'Other'\n",
    "        \n",
    "    # return the merged installer\n",
    "    return merged_installer"
   ]
  },
  {
   "cell_type": "code",
   "execution_count": 15,
   "id": "192b0a02",
   "metadata": {},
   "outputs": [
    {
     "data": {
      "text/plain": [
       "Other         36857\n",
       "DWE           17402\n",
       "Government     1825\n",
       "RWE            1206\n",
       "Commu          1060\n",
       "Danida         1050\n",
       "Name: installer, dtype: int64"
      ]
     },
     "execution_count": 15,
     "metadata": {},
     "output_type": "execute_result"
    }
   ],
   "source": [
    "# Apply the function to the 'installer' column\n",
    "train_data[\"installer\"] = train_data.installer.apply(mergeInstallers)\n",
    "\n",
    "# check the counts of the unique values again\n",
    "train_data.installer.value_counts()"
   ]
  },
  {
   "cell_type": "code",
   "execution_count": 16,
   "id": "316b673a",
   "metadata": {},
   "outputs": [
    {
     "data": {
      "text/plain": [
       "0"
      ]
     },
     "execution_count": 16,
     "metadata": {},
     "output_type": "execute_result"
    }
   ],
   "source": [
    "# Check again for missing values\n",
    "train_data.installer.isnull().sum()"
   ]
  },
  {
   "cell_type": "markdown",
   "id": "d646c47b",
   "metadata": {},
   "source": [
    "3. subvillage"
   ]
  },
  {
   "cell_type": "code",
   "execution_count": 17,
   "id": "ea69435d",
   "metadata": {},
   "outputs": [
    {
     "data": {
      "text/plain": [
       "Madukani        508\n",
       "Shuleni         506\n",
       "Majengo         502\n",
       "Kati            373\n",
       "Mtakuja         262\n",
       "               ... \n",
       "Kipompo           1\n",
       "Chanyamilima      1\n",
       "Ikalime           1\n",
       "Kemagaka          1\n",
       "Kikatanyemba      1\n",
       "Name: subvillage, Length: 19287, dtype: int64"
      ]
     },
     "execution_count": 17,
     "metadata": {},
     "output_type": "execute_result"
    }
   ],
   "source": [
    "# Check the subvillages where the project have been executed\n",
    "train_data.subvillage.value_counts()"
   ]
  },
  {
   "cell_type": "markdown",
   "id": "c6ccae9e",
   "metadata": {},
   "source": [
    "###### There are 19287 subvillages where projects have been done. There are no dominant villages either. Therefore, creating dummy variables will result in a number of variables. The subvillage in which a project was done might not contribute significantly to the status of water pumps. We can therefore just drop the column."
   ]
  },
  {
   "cell_type": "code",
   "execution_count": 18,
   "id": "e2ff1efe",
   "metadata": {},
   "outputs": [],
   "source": [
    "# Drop the subvillage column\n",
    "train_data.drop(columns = [\"subvillage\"], inplace=True)"
   ]
  },
  {
   "cell_type": "markdown",
   "id": "e5867ab0",
   "metadata": {},
   "source": [
    "4. Public Meeting"
   ]
  },
  {
   "cell_type": "code",
   "execution_count": 19,
   "id": "c87ecd2c",
   "metadata": {},
   "outputs": [
    {
     "data": {
      "text/plain": [
       "True     0.909838\n",
       "False    0.090162\n",
       "Name: public_meeting, dtype: float64"
      ]
     },
     "execution_count": 19,
     "metadata": {},
     "output_type": "execute_result"
    }
   ],
   "source": [
    "# Check for the unique public meeting\n",
    "train_data.public_meeting.value_counts(normalize=True)\n",
    "\n",
    "# These are boolean values.\n",
    "# Over 90% of the pumps had a public meeting"
   ]
  },
  {
   "cell_type": "code",
   "execution_count": 20,
   "id": "6603484c",
   "metadata": {},
   "outputs": [],
   "source": [
    "# Fill the NAs with the mode values\n",
    "train_data[\"public_meeting\"] = train_data.public_meeting.fillna(train_data.public_meeting.mode()[0])"
   ]
  },
  {
   "cell_type": "code",
   "execution_count": 21,
   "id": "5055642e",
   "metadata": {},
   "outputs": [
    {
     "data": {
      "text/plain": [
       "0"
      ]
     },
     "execution_count": 21,
     "metadata": {},
     "output_type": "execute_result"
    }
   ],
   "source": [
    "# check if there still any missing values\n",
    "train_data.public_meeting.isnull().sum()\n",
    "\n",
    "# All the missing values have been filled."
   ]
  },
  {
   "cell_type": "markdown",
   "id": "b34eb02d",
   "metadata": {},
   "source": [
    "5. Scheme Management"
   ]
  },
  {
   "cell_type": "code",
   "execution_count": 22,
   "id": "03b92ddc",
   "metadata": {},
   "outputs": [
    {
     "data": {
      "text/plain": [
       "VWC                 36793\n",
       "WUG                  5206\n",
       "Water authority      3153\n",
       "WUA                  2883\n",
       "Water Board          2748\n",
       "Parastatal           1680\n",
       "Private operator     1063\n",
       "Company              1061\n",
       "Other                 766\n",
       "SWC                    97\n",
       "Trust                  72\n",
       "None                    1\n",
       "Name: scheme_management, dtype: int64"
      ]
     },
     "execution_count": 22,
     "metadata": {},
     "output_type": "execute_result"
    }
   ],
   "source": [
    "# Check for the unique scheme managements\n",
    "train_data.scheme_management.value_counts()"
   ]
  },
  {
   "cell_type": "code",
   "execution_count": 23,
   "id": "ca7962de",
   "metadata": {},
   "outputs": [],
   "source": [
    "# Create a function to assign projects missing management to the already existing 'Other' Category\n",
    "\n",
    "def mergeSchemeManagement(management):\n",
    "    '''\n",
    "    Input:\n",
    "    management: string, management of the scheme\n",
    "    \n",
    "    Output:\n",
    "    merged_management: string, palce missing managements to the 'Other' category, maintain all others\n",
    "    '''\n",
    "    \n",
    "    # For the managements that are not recognized, put them under the 'Other' category\n",
    "    if management not in ['VWC', 'WUG', 'Water authority', 'WUA', 'Water Board', 'Parastatal', 'Private operator', 'Company']:\n",
    "        merged_management = 'Other'\n",
    "        \n",
    "    # Maintain the rest of managements\n",
    "    else:\n",
    "        merged_management = management\n",
    "        \n",
    "    # return the merged management\n",
    "    return merged_management"
   ]
  },
  {
   "cell_type": "code",
   "execution_count": 24,
   "id": "8dd9a2a8",
   "metadata": {},
   "outputs": [
    {
     "data": {
      "text/plain": [
       "VWC                 36793\n",
       "WUG                  5206\n",
       "Other                4813\n",
       "Water authority      3153\n",
       "WUA                  2883\n",
       "Water Board          2748\n",
       "Parastatal           1680\n",
       "Private operator     1063\n",
       "Company              1061\n",
       "Name: scheme_management, dtype: int64"
      ]
     },
     "execution_count": 24,
     "metadata": {},
     "output_type": "execute_result"
    }
   ],
   "source": [
    "# Apply the function to the 'scheme_management' column\n",
    "train_data[\"scheme_management\"] = train_data.scheme_management.apply(mergeSchemeManagement)\n",
    "\n",
    "# check the counts of the unique values again\n",
    "train_data.scheme_management.value_counts()"
   ]
  },
  {
   "cell_type": "markdown",
   "id": "2d8d065e",
   "metadata": {},
   "source": [
    "6. Scheme Name"
   ]
  },
  {
   "cell_type": "code",
   "execution_count": 25,
   "id": "b635f90a",
   "metadata": {},
   "outputs": [
    {
     "data": {
      "text/plain": [
       "K                       682\n",
       "None                    644\n",
       "Borehole                546\n",
       "Chalinze wate           405\n",
       "M                       400\n",
       "                       ... \n",
       "Mradi wa maji Vijini      1\n",
       "Villagers                 1\n",
       "Magundi water supply      1\n",
       "Saadani Chumv             1\n",
       "Mtawanya                  1\n",
       "Name: scheme_name, Length: 2696, dtype: int64"
      ]
     },
     "execution_count": 25,
     "metadata": {},
     "output_type": "execute_result"
    }
   ],
   "source": [
    "# Check for the unique scheme names\n",
    "train_data.scheme_name.value_counts()"
   ]
  },
  {
   "cell_type": "code",
   "execution_count": 26,
   "id": "07788d2f",
   "metadata": {},
   "outputs": [
    {
     "data": {
      "text/plain": [
       "K                                        682\n",
       "None                                     644\n",
       "Borehole                                 546\n",
       "Chalinze wate                            405\n",
       "M                                        400\n",
       "DANIDA                                   379\n",
       "Government                               320\n",
       "Ngana water supplied scheme              270\n",
       "wanging'ombe water supply s              261\n",
       "wanging'ombe supply scheme               234\n",
       "I                                        229\n",
       "Bagamoyo wate                            229\n",
       "Uroki-Bomang'ombe water sup              209\n",
       "N                                        204\n",
       "Kirua kahe gravity water supply trust    193\n",
       "Name: scheme_name, dtype: int64"
      ]
     },
     "execution_count": 26,
     "metadata": {},
     "output_type": "execute_result"
    }
   ],
   "source": [
    "train_data.scheme_name.value_counts().head(15)"
   ]
  },
  {
   "cell_type": "markdown",
   "id": "6897cc03",
   "metadata": {},
   "source": [
    "###### There are 2696 scheme names for the water pump projects. The naming convention is not consistent and some names are not clear, for example, names like K and M. The top scheme names are also not very dominant. We can therefore just drop this column."
   ]
  },
  {
   "cell_type": "code",
   "execution_count": 27,
   "id": "e3d1b0c2",
   "metadata": {},
   "outputs": [],
   "source": [
    "# Drop the scheme_name column\n",
    "train_data.drop(columns = [\"scheme_name\"], inplace=True)"
   ]
  },
  {
   "cell_type": "markdown",
   "id": "111fa7dd",
   "metadata": {},
   "source": [
    "7. Permit"
   ]
  },
  {
   "cell_type": "code",
   "execution_count": 28,
   "id": "4803a8b0",
   "metadata": {},
   "outputs": [
    {
     "data": {
      "text/plain": [
       "True     0.68955\n",
       "False    0.31045\n",
       "Name: permit, dtype: float64"
      ]
     },
     "execution_count": 28,
     "metadata": {},
     "output_type": "execute_result"
    }
   ],
   "source": [
    "# Check for the unique permits\n",
    "train_data.permit.value_counts(normalize=True)\n",
    "\n",
    "# The values are boolean.\n",
    "# 68% of the projects have permits"
   ]
  },
  {
   "cell_type": "code",
   "execution_count": 29,
   "id": "4b2dca15",
   "metadata": {},
   "outputs": [],
   "source": [
    "# Impute the missing values with the mode\n",
    "train_data[\"permit\"] = train_data.permit.fillna(train_data.permit.mode()[0])"
   ]
  },
  {
   "cell_type": "code",
   "execution_count": 30,
   "id": "93d0c4a3",
   "metadata": {},
   "outputs": [
    {
     "data": {
      "text/plain": [
       "0"
      ]
     },
     "execution_count": 30,
     "metadata": {},
     "output_type": "execute_result"
    }
   ],
   "source": [
    "# check for missing values\n",
    "train_data.permit.isnull().sum()"
   ]
  },
  {
   "cell_type": "code",
   "execution_count": 31,
   "id": "7b23df02",
   "metadata": {},
   "outputs": [],
   "source": [
    "# Check again for missing values in the whole data"
   ]
  },
  {
   "cell_type": "code",
   "execution_count": 32,
   "id": "9bf51d36",
   "metadata": {},
   "outputs": [
    {
     "data": {
      "text/plain": [
       "id                       0\n",
       "amount_tsh               0\n",
       "date_recorded            0\n",
       "funder                   0\n",
       "gps_height               0\n",
       "installer                0\n",
       "longitude                0\n",
       "latitude                 0\n",
       "wpt_name                 0\n",
       "num_private              0\n",
       "basin                    0\n",
       "region                   0\n",
       "region_code              0\n",
       "district_code            0\n",
       "lga                      0\n",
       "ward                     0\n",
       "population               0\n",
       "public_meeting           0\n",
       "recorded_by              0\n",
       "scheme_management        0\n",
       "permit                   0\n",
       "construction_year        0\n",
       "extraction_type          0\n",
       "extraction_type_group    0\n",
       "extraction_type_class    0\n",
       "management               0\n",
       "management_group         0\n",
       "payment                  0\n",
       "payment_type             0\n",
       "water_quality            0\n",
       "quality_group            0\n",
       "quantity                 0\n",
       "quantity_group           0\n",
       "source                   0\n",
       "source_type              0\n",
       "source_class             0\n",
       "waterpoint_type          0\n",
       "waterpoint_type_group    0\n",
       "status_group             0\n",
       "dtype: int64"
      ]
     },
     "execution_count": 32,
     "metadata": {},
     "output_type": "execute_result"
    }
   ],
   "source": [
    "train_data.isnull().sum()"
   ]
  },
  {
   "cell_type": "markdown",
   "id": "3107bd79",
   "metadata": {},
   "source": [
    "###### All the missing values have been handled."
   ]
  },
  {
   "cell_type": "markdown",
   "id": "4535c1e4",
   "metadata": {},
   "source": [
    "#### Inspect data types"
   ]
  },
  {
   "cell_type": "code",
   "execution_count": 33,
   "id": "b22e0546",
   "metadata": {},
   "outputs": [
    {
     "data": {
      "text/plain": [
       "id                                int64\n",
       "amount_tsh                      float64\n",
       "date_recorded            datetime64[ns]\n",
       "funder                           object\n",
       "gps_height                        int64\n",
       "installer                        object\n",
       "longitude                       float64\n",
       "latitude                        float64\n",
       "wpt_name                         object\n",
       "num_private                       int64\n",
       "basin                            object\n",
       "region                           object\n",
       "region_code                       int64\n",
       "district_code                     int64\n",
       "lga                              object\n",
       "ward                             object\n",
       "population                        int64\n",
       "public_meeting                     bool\n",
       "recorded_by                      object\n",
       "scheme_management                object\n",
       "permit                             bool\n",
       "construction_year                 int64\n",
       "extraction_type                  object\n",
       "extraction_type_group            object\n",
       "extraction_type_class            object\n",
       "management                       object\n",
       "management_group                 object\n",
       "payment                          object\n",
       "payment_type                     object\n",
       "water_quality                    object\n",
       "quality_group                    object\n",
       "quantity                         object\n",
       "quantity_group                   object\n",
       "source                           object\n",
       "source_type                      object\n",
       "source_class                     object\n",
       "waterpoint_type                  object\n",
       "waterpoint_type_group            object\n",
       "status_group                     object\n",
       "dtype: object"
      ]
     },
     "execution_count": 33,
     "metadata": {},
     "output_type": "execute_result"
    }
   ],
   "source": [
    "# Inspect the data types of the columns\n",
    "train_data.dtypes"
   ]
  },
  {
   "cell_type": "markdown",
   "id": "b03f12d2",
   "metadata": {},
   "source": [
    "###### Inspect columns with \"object\" data type"
   ]
  },
  {
   "cell_type": "code",
   "execution_count": 34,
   "id": "7bfafe4c",
   "metadata": {},
   "outputs": [
    {
     "data": {
      "text/plain": [
       "funder                       6\n",
       "installer                    6\n",
       "wpt_name                 37400\n",
       "basin                        9\n",
       "region                      21\n",
       "lga                        125\n",
       "ward                      2092\n",
       "recorded_by                  1\n",
       "scheme_management            9\n",
       "extraction_type             18\n",
       "extraction_type_group       13\n",
       "extraction_type_class        7\n",
       "management                  12\n",
       "management_group             5\n",
       "payment                      7\n",
       "payment_type                 7\n",
       "water_quality                8\n",
       "quality_group                6\n",
       "quantity                     5\n",
       "quantity_group               5\n",
       "source                      10\n",
       "source_type                  7\n",
       "source_class                 3\n",
       "waterpoint_type              7\n",
       "waterpoint_type_group        6\n",
       "status_group                 3\n",
       "dtype: int64"
      ]
     },
     "execution_count": 34,
     "metadata": {},
     "output_type": "execute_result"
    }
   ],
   "source": [
    "# Inspect columns with 'object' data type\n",
    "object_columns = train_data.select_dtypes(include = ['object'])\n",
    "object_columns.apply(lambda x: len(x.unique()))"
   ]
  },
  {
   "cell_type": "markdown",
   "id": "0cdfdb69",
   "metadata": {},
   "source": [
    "###### We need to inspect these variables one by one, and check if we need to merge some of their values or even drop a value that is not important."
   ]
  },
  {
   "cell_type": "markdown",
   "id": "1b991397",
   "metadata": {},
   "source": [
    "1. wpt_name"
   ]
  },
  {
   "cell_type": "code",
   "execution_count": 35,
   "id": "b6f3e97e",
   "metadata": {},
   "outputs": [
    {
     "data": {
      "text/plain": [
       "none                       3563\n",
       "Shuleni                    1748\n",
       "Zahanati                    830\n",
       "Msikitini                   535\n",
       "Kanisani                    323\n",
       "                           ... \n",
       "Kwa Medadi                    1\n",
       "Kwa Kubembeni                 1\n",
       "Shule Ya Msingi Milanzi       1\n",
       "Funua                         1\n",
       "Kwa Mzee Lugawa               1\n",
       "Name: wpt_name, Length: 37400, dtype: int64"
      ]
     },
     "execution_count": 35,
     "metadata": {},
     "output_type": "execute_result"
    }
   ],
   "source": [
    "# check the distribution of unique waterpoint names\n",
    "train_data.wpt_name.value_counts()"
   ]
  },
  {
   "cell_type": "markdown",
   "id": "a65f4487",
   "metadata": {},
   "source": [
    "###### There are very waterpoints names with no dominant ones. As a result, we can just drop this column."
   ]
  },
  {
   "cell_type": "code",
   "execution_count": 36,
   "id": "e8924271",
   "metadata": {},
   "outputs": [],
   "source": [
    "# Drop the wpt_name column\n",
    "train_data.drop(columns = [\"wpt_name\"], inplace=True)"
   ]
  },
  {
   "cell_type": "markdown",
   "id": "fe952ef5",
   "metadata": {},
   "source": [
    "2. basin"
   ]
  },
  {
   "cell_type": "code",
   "execution_count": 37,
   "id": "41a821a8",
   "metadata": {},
   "outputs": [
    {
     "data": {
      "text/plain": [
       "Lake Victoria              10248\n",
       "Pangani                     8940\n",
       "Rufiji                      7976\n",
       "Internal                    7785\n",
       "Lake Tanganyika             6432\n",
       "Wami / Ruvu                 5987\n",
       "Lake Nyasa                  5085\n",
       "Ruvuma / Southern Coast     4493\n",
       "Lake Rukwa                  2454\n",
       "Name: basin, dtype: int64"
      ]
     },
     "execution_count": 37,
     "metadata": {},
     "output_type": "execute_result"
    }
   ],
   "source": [
    "train_data.basin.value_counts()"
   ]
  },
  {
   "cell_type": "code",
   "execution_count": 38,
   "id": "fe2da563",
   "metadata": {},
   "outputs": [
    {
     "data": {
      "text/html": [
       "<div>\n",
       "<style scoped>\n",
       "    .dataframe tbody tr th:only-of-type {\n",
       "        vertical-align: middle;\n",
       "    }\n",
       "\n",
       "    .dataframe tbody tr th {\n",
       "        vertical-align: top;\n",
       "    }\n",
       "\n",
       "    .dataframe thead th {\n",
       "        text-align: right;\n",
       "    }\n",
       "</style>\n",
       "<table border=\"1\" class=\"dataframe\">\n",
       "  <thead>\n",
       "    <tr style=\"text-align: right;\">\n",
       "      <th></th>\n",
       "      <th></th>\n",
       "      <th>id</th>\n",
       "    </tr>\n",
       "    <tr>\n",
       "      <th>basin</th>\n",
       "      <th>status_group</th>\n",
       "      <th></th>\n",
       "    </tr>\n",
       "  </thead>\n",
       "  <tbody>\n",
       "    <tr>\n",
       "      <th rowspan=\"3\" valign=\"top\">Internal</th>\n",
       "      <th>functional</th>\n",
       "      <td>4482</td>\n",
       "    </tr>\n",
       "    <tr>\n",
       "      <th>functional needs repair</th>\n",
       "      <td>557</td>\n",
       "    </tr>\n",
       "    <tr>\n",
       "      <th>non functional</th>\n",
       "      <td>2746</td>\n",
       "    </tr>\n",
       "    <tr>\n",
       "      <th rowspan=\"3\" valign=\"top\">Lake Nyasa</th>\n",
       "      <th>functional</th>\n",
       "      <td>3324</td>\n",
       "    </tr>\n",
       "    <tr>\n",
       "      <th>functional needs repair</th>\n",
       "      <td>250</td>\n",
       "    </tr>\n",
       "    <tr>\n",
       "      <th>non functional</th>\n",
       "      <td>1511</td>\n",
       "    </tr>\n",
       "    <tr>\n",
       "      <th rowspan=\"3\" valign=\"top\">Lake Rukwa</th>\n",
       "      <th>functional</th>\n",
       "      <td>1000</td>\n",
       "    </tr>\n",
       "    <tr>\n",
       "      <th>functional needs repair</th>\n",
       "      <td>270</td>\n",
       "    </tr>\n",
       "    <tr>\n",
       "      <th>non functional</th>\n",
       "      <td>1184</td>\n",
       "    </tr>\n",
       "    <tr>\n",
       "      <th rowspan=\"3\" valign=\"top\">Lake Tanganyika</th>\n",
       "      <th>functional</th>\n",
       "      <td>3107</td>\n",
       "    </tr>\n",
       "    <tr>\n",
       "      <th>functional needs repair</th>\n",
       "      <td>742</td>\n",
       "    </tr>\n",
       "    <tr>\n",
       "      <th>non functional</th>\n",
       "      <td>2583</td>\n",
       "    </tr>\n",
       "    <tr>\n",
       "      <th rowspan=\"3\" valign=\"top\">Lake Victoria</th>\n",
       "      <th>functional</th>\n",
       "      <td>5100</td>\n",
       "    </tr>\n",
       "    <tr>\n",
       "      <th>functional needs repair</th>\n",
       "      <td>989</td>\n",
       "    </tr>\n",
       "    <tr>\n",
       "      <th>non functional</th>\n",
       "      <td>4159</td>\n",
       "    </tr>\n",
       "    <tr>\n",
       "      <th rowspan=\"3\" valign=\"top\">Pangani</th>\n",
       "      <th>functional</th>\n",
       "      <td>5372</td>\n",
       "    </tr>\n",
       "    <tr>\n",
       "      <th>functional needs repair</th>\n",
       "      <td>477</td>\n",
       "    </tr>\n",
       "    <tr>\n",
       "      <th>non functional</th>\n",
       "      <td>3091</td>\n",
       "    </tr>\n",
       "    <tr>\n",
       "      <th rowspan=\"3\" valign=\"top\">Rufiji</th>\n",
       "      <th>functional</th>\n",
       "      <td>5068</td>\n",
       "    </tr>\n",
       "    <tr>\n",
       "      <th>functional needs repair</th>\n",
       "      <td>437</td>\n",
       "    </tr>\n",
       "    <tr>\n",
       "      <th>non functional</th>\n",
       "      <td>2471</td>\n",
       "    </tr>\n",
       "    <tr>\n",
       "      <th rowspan=\"3\" valign=\"top\">Ruvuma / Southern Coast</th>\n",
       "      <th>functional</th>\n",
       "      <td>1670</td>\n",
       "    </tr>\n",
       "    <tr>\n",
       "      <th>functional needs repair</th>\n",
       "      <td>326</td>\n",
       "    </tr>\n",
       "    <tr>\n",
       "      <th>non functional</th>\n",
       "      <td>2497</td>\n",
       "    </tr>\n",
       "    <tr>\n",
       "      <th rowspan=\"3\" valign=\"top\">Wami / Ruvu</th>\n",
       "      <th>functional</th>\n",
       "      <td>3136</td>\n",
       "    </tr>\n",
       "    <tr>\n",
       "      <th>functional needs repair</th>\n",
       "      <td>269</td>\n",
       "    </tr>\n",
       "    <tr>\n",
       "      <th>non functional</th>\n",
       "      <td>2582</td>\n",
       "    </tr>\n",
       "  </tbody>\n",
       "</table>\n",
       "</div>"
      ],
      "text/plain": [
       "                                                   id\n",
       "basin                   status_group                 \n",
       "Internal                functional               4482\n",
       "                        functional needs repair   557\n",
       "                        non functional           2746\n",
       "Lake Nyasa              functional               3324\n",
       "                        functional needs repair   250\n",
       "                        non functional           1511\n",
       "Lake Rukwa              functional               1000\n",
       "                        functional needs repair   270\n",
       "                        non functional           1184\n",
       "Lake Tanganyika         functional               3107\n",
       "                        functional needs repair   742\n",
       "                        non functional           2583\n",
       "Lake Victoria           functional               5100\n",
       "                        functional needs repair   989\n",
       "                        non functional           4159\n",
       "Pangani                 functional               5372\n",
       "                        functional needs repair   477\n",
       "                        non functional           3091\n",
       "Rufiji                  functional               5068\n",
       "                        functional needs repair   437\n",
       "                        non functional           2471\n",
       "Ruvuma / Southern Coast functional               1670\n",
       "                        functional needs repair   326\n",
       "                        non functional           2497\n",
       "Wami / Ruvu             functional               3136\n",
       "                        functional needs repair   269\n",
       "                        non functional           2582"
      ]
     },
     "execution_count": 38,
     "metadata": {},
     "output_type": "execute_result"
    }
   ],
   "source": [
    "# check the distribution of the status groups across the basins\n",
    "basin_status_pivot_table = pd.pivot_table(train_data, index=['basin', 'status_group'],\n",
    "                           values=['id'], aggfunc='count')\n",
    "basin_status_pivot_table"
   ]
  },
  {
   "cell_type": "markdown",
   "id": "87ad5c48",
   "metadata": {},
   "source": [
    "###### Most of the basins have more functional pumps than non-functional ones. There seems to be a good distribution of these. Moreover, all the basins have a significant number of projects associated with them. We can therefore keep this column."
   ]
  },
  {
   "cell_type": "markdown",
   "id": "11fb4ebc",
   "metadata": {},
   "source": [
    "3. region"
   ]
  },
  {
   "cell_type": "code",
   "execution_count": 39,
   "id": "5cfe72b0",
   "metadata": {},
   "outputs": [
    {
     "data": {
      "text/plain": [
       "Iringa           5294\n",
       "Shinyanga        4982\n",
       "Mbeya            4639\n",
       "Kilimanjaro      4379\n",
       "Morogoro         4006\n",
       "Arusha           3350\n",
       "Kagera           3316\n",
       "Mwanza           3102\n",
       "Kigoma           2816\n",
       "Ruvuma           2640\n",
       "Pwani            2635\n",
       "Tanga            2547\n",
       "Dodoma           2201\n",
       "Singida          2093\n",
       "Mara             1969\n",
       "Tabora           1959\n",
       "Rukwa            1808\n",
       "Mtwara           1730\n",
       "Manyara          1583\n",
       "Lindi            1546\n",
       "Dar es Salaam     805\n",
       "Name: region, dtype: int64"
      ]
     },
     "execution_count": 39,
     "metadata": {},
     "output_type": "execute_result"
    }
   ],
   "source": [
    "# check the counts of the unique values\n",
    "train_data.region.value_counts()"
   ]
  },
  {
   "cell_type": "code",
   "execution_count": 40,
   "id": "769c7390",
   "metadata": {},
   "outputs": [],
   "source": [
    "# Create a function to reduce the number of regions where the projects have been done\n",
    "# Maintain the top 5 regions and label the rest as 'Other'\n",
    "\n",
    "def mergeRegion(region):\n",
    "    '''\n",
    "    Input:\n",
    "    region: string, region of the pump\n",
    "    \n",
    "    Output:\n",
    "    merged_region: string, initial region if top 5, Other if not top 5 dominant\n",
    "    '''\n",
    "    \n",
    "    # For the top 5 regions, maintain the regions\n",
    "    if region == 'Iringa':\n",
    "        merged_region = 'iringa'\n",
    "        \n",
    "    elif region == 'Shinyanga':\n",
    "        merged_region = 'shinyanga'\n",
    "        \n",
    "    elif region == 'Mbeya':\n",
    "        merged_region = 'mbeya'\n",
    "        \n",
    "    elif region == 'Kilimanjaro':\n",
    "        merged_region = 'kilimanjaro'\n",
    "        \n",
    "    elif region == 'Morogoro':\n",
    "        merged_region = 'morogoro'\n",
    "                \n",
    "    # For the rest of regions, put them under the broad category 'Other'\n",
    "    else:\n",
    "        merged_region = 'Other'\n",
    "        \n",
    "    # return the merged region\n",
    "    return merged_region"
   ]
  },
  {
   "cell_type": "code",
   "execution_count": 41,
   "id": "9ecd10cf",
   "metadata": {},
   "outputs": [
    {
     "data": {
      "text/plain": [
       "Other          36100\n",
       "iringa          5294\n",
       "shinyanga       4982\n",
       "mbeya           4639\n",
       "kilimanjaro     4379\n",
       "morogoro        4006\n",
       "Name: region, dtype: int64"
      ]
     },
     "execution_count": 41,
     "metadata": {},
     "output_type": "execute_result"
    }
   ],
   "source": [
    "# Apply the function to the 'region' column\n",
    "train_data[\"region\"] = train_data.region.apply(mergeRegion)\n",
    "\n",
    "# check the counts of the unique values again\n",
    "train_data.region.value_counts()"
   ]
  },
  {
   "cell_type": "markdown",
   "id": "6017140a",
   "metadata": {},
   "source": [
    "###### There following columns: `region`, `lga`, and `ward` all represent geographical information where the projects were done. They could be correlated with each other. Therefore, we need to keep `region` and drop both `lga` and `ward`."
   ]
  },
  {
   "cell_type": "code",
   "execution_count": 42,
   "id": "00f8d955",
   "metadata": {},
   "outputs": [],
   "source": [
    "# drop the other two geographical information\n",
    "train_data.drop(columns=[\"lga\", \"ward\"], inplace=True)"
   ]
  },
  {
   "cell_type": "markdown",
   "id": "7eadf4b1",
   "metadata": {},
   "source": [
    "4. recorded_by"
   ]
  },
  {
   "cell_type": "code",
   "execution_count": 43,
   "id": "cea2b23a",
   "metadata": {},
   "outputs": [
    {
     "data": {
      "text/plain": [
       "GeoData Consultants Ltd    59400\n",
       "Name: recorded_by, dtype: int64"
      ]
     },
     "execution_count": 43,
     "metadata": {},
     "output_type": "execute_result"
    }
   ],
   "source": [
    "# get the value counts\n",
    "train_data.recorded_by.value_counts()"
   ]
  },
  {
   "cell_type": "markdown",
   "id": "60f7817d",
   "metadata": {},
   "source": [
    "###### All the values were recorded by `GeoData Consultants Ltd`. This column is therefore not important in predicting the status of the pumps."
   ]
  },
  {
   "cell_type": "code",
   "execution_count": 44,
   "id": "f0c79d12",
   "metadata": {},
   "outputs": [],
   "source": [
    "# Drop the column\n",
    "train_data.drop(columns=[\"recorded_by\"], inplace=True)"
   ]
  },
  {
   "cell_type": "markdown",
   "id": "ff8a9a4a",
   "metadata": {},
   "source": [
    "5. extraction_type      \n",
    "`extraction_type`, `extraction_type_group`, and `extraction_type_class` seem related."
   ]
  },
  {
   "cell_type": "code",
   "execution_count": 45,
   "id": "17960f54",
   "metadata": {},
   "outputs": [
    {
     "data": {
      "text/html": [
       "<div>\n",
       "<style scoped>\n",
       "    .dataframe tbody tr th:only-of-type {\n",
       "        vertical-align: middle;\n",
       "    }\n",
       "\n",
       "    .dataframe tbody tr th {\n",
       "        vertical-align: top;\n",
       "    }\n",
       "\n",
       "    .dataframe thead th {\n",
       "        text-align: right;\n",
       "    }\n",
       "</style>\n",
       "<table border=\"1\" class=\"dataframe\">\n",
       "  <thead>\n",
       "    <tr style=\"text-align: right;\">\n",
       "      <th></th>\n",
       "      <th>extraction_type</th>\n",
       "      <th>extraction_type_group</th>\n",
       "      <th>extraction_type_class</th>\n",
       "    </tr>\n",
       "  </thead>\n",
       "  <tbody>\n",
       "    <tr>\n",
       "      <th>0</th>\n",
       "      <td>gravity</td>\n",
       "      <td>gravity</td>\n",
       "      <td>gravity</td>\n",
       "    </tr>\n",
       "    <tr>\n",
       "      <th>1</th>\n",
       "      <td>gravity</td>\n",
       "      <td>gravity</td>\n",
       "      <td>gravity</td>\n",
       "    </tr>\n",
       "    <tr>\n",
       "      <th>2</th>\n",
       "      <td>gravity</td>\n",
       "      <td>gravity</td>\n",
       "      <td>gravity</td>\n",
       "    </tr>\n",
       "    <tr>\n",
       "      <th>3</th>\n",
       "      <td>submersible</td>\n",
       "      <td>submersible</td>\n",
       "      <td>submersible</td>\n",
       "    </tr>\n",
       "    <tr>\n",
       "      <th>4</th>\n",
       "      <td>gravity</td>\n",
       "      <td>gravity</td>\n",
       "      <td>gravity</td>\n",
       "    </tr>\n",
       "    <tr>\n",
       "      <th>...</th>\n",
       "      <td>...</td>\n",
       "      <td>...</td>\n",
       "      <td>...</td>\n",
       "    </tr>\n",
       "    <tr>\n",
       "      <th>59395</th>\n",
       "      <td>gravity</td>\n",
       "      <td>gravity</td>\n",
       "      <td>gravity</td>\n",
       "    </tr>\n",
       "    <tr>\n",
       "      <th>59396</th>\n",
       "      <td>gravity</td>\n",
       "      <td>gravity</td>\n",
       "      <td>gravity</td>\n",
       "    </tr>\n",
       "    <tr>\n",
       "      <th>59397</th>\n",
       "      <td>swn 80</td>\n",
       "      <td>swn 80</td>\n",
       "      <td>handpump</td>\n",
       "    </tr>\n",
       "    <tr>\n",
       "      <th>59398</th>\n",
       "      <td>nira/tanira</td>\n",
       "      <td>nira/tanira</td>\n",
       "      <td>handpump</td>\n",
       "    </tr>\n",
       "    <tr>\n",
       "      <th>59399</th>\n",
       "      <td>nira/tanira</td>\n",
       "      <td>nira/tanira</td>\n",
       "      <td>handpump</td>\n",
       "    </tr>\n",
       "  </tbody>\n",
       "</table>\n",
       "<p>59400 rows × 3 columns</p>\n",
       "</div>"
      ],
      "text/plain": [
       "      extraction_type extraction_type_group extraction_type_class\n",
       "0             gravity               gravity               gravity\n",
       "1             gravity               gravity               gravity\n",
       "2             gravity               gravity               gravity\n",
       "3         submersible           submersible           submersible\n",
       "4             gravity               gravity               gravity\n",
       "...               ...                   ...                   ...\n",
       "59395         gravity               gravity               gravity\n",
       "59396         gravity               gravity               gravity\n",
       "59397          swn 80                swn 80              handpump\n",
       "59398     nira/tanira           nira/tanira              handpump\n",
       "59399     nira/tanira           nira/tanira              handpump\n",
       "\n",
       "[59400 rows x 3 columns]"
      ]
     },
     "execution_count": 45,
     "metadata": {},
     "output_type": "execute_result"
    }
   ],
   "source": [
    "train_data[[\"extraction_type\", \"extraction_type_group\", \"extraction_type_class\"]]\n",
    "\n",
    "# They all have the same values. I will therefore drop \"extraction_type_group\" and \"extraction_type_class\"."
   ]
  },
  {
   "cell_type": "code",
   "execution_count": 46,
   "id": "ed71c848",
   "metadata": {},
   "outputs": [],
   "source": [
    "# Drop 2 of the columns\n",
    "train_data.drop(columns=[\"extraction_type_group\", \"extraction_type_class\"], inplace=True)"
   ]
  },
  {
   "cell_type": "code",
   "execution_count": 47,
   "id": "5edcc87d",
   "metadata": {},
   "outputs": [
    {
     "data": {
      "text/plain": [
       "gravity                      26780\n",
       "nira/tanira                   8154\n",
       "other                         6430\n",
       "submersible                   4764\n",
       "swn 80                        3670\n",
       "mono                          2865\n",
       "india mark ii                 2400\n",
       "afridev                       1770\n",
       "ksb                           1415\n",
       "other - rope pump              451\n",
       "other - swn 81                 229\n",
       "windmill                       117\n",
       "india mark iii                  98\n",
       "cemo                            90\n",
       "other - play pump               85\n",
       "walimi                          48\n",
       "climax                          32\n",
       "other - mkulima/shinyanga        2\n",
       "Name: extraction_type, dtype: int64"
      ]
     },
     "execution_count": 47,
     "metadata": {},
     "output_type": "execute_result"
    }
   ],
   "source": [
    "# check value counts of \"extraction_type\" column\n",
    "train_data.extraction_type.value_counts()\n",
    "\n",
    "# There is need to reduce the number of unique values"
   ]
  },
  {
   "cell_type": "code",
   "execution_count": 48,
   "id": "e4a43b96",
   "metadata": {},
   "outputs": [],
   "source": [
    "# Create a function to reduce the number of extraction types\n",
    "# Maintain the top 3 extraction types and label the rest as 'Other'\n",
    "\n",
    "def mergeExtraction(extraction):\n",
    "    '''\n",
    "    Input:\n",
    "    extraction: string, extraction type of the project\n",
    "    \n",
    "    Output:\n",
    "    merged_extraction: string, initial extraction if top 3, Other if not top 3 dominant\n",
    "    '''\n",
    "    \n",
    "    # For the top 3 extraction types, maintain the type\n",
    "    if extraction == 'gravity':\n",
    "        merged_extraction = 'gravity'\n",
    "        \n",
    "    elif extraction == 'nira/tanira':\n",
    "        merged_extraction = 'nira/tanira'\n",
    "        \n",
    "    elif extraction == 'submersible':\n",
    "        merged_extraction = 'submersible'\n",
    "                \n",
    "    # For the rest of extraction types, put them under the broad category 'Other'\n",
    "    else:\n",
    "        merged_extraction = 'Other'\n",
    "        \n",
    "    # return the merged extraction type\n",
    "    return merged_extraction"
   ]
  },
  {
   "cell_type": "code",
   "execution_count": 49,
   "id": "024f9ed2",
   "metadata": {},
   "outputs": [
    {
     "data": {
      "text/plain": [
       "gravity        26780\n",
       "Other          19702\n",
       "nira/tanira     8154\n",
       "submersible     4764\n",
       "Name: extraction_type, dtype: int64"
      ]
     },
     "execution_count": 49,
     "metadata": {},
     "output_type": "execute_result"
    }
   ],
   "source": [
    "# Apply the function to the 'extraction_type' column\n",
    "train_data[\"extraction_type\"] = train_data.extraction_type.apply(mergeExtraction)\n",
    "\n",
    "# check the counts of the unique values again\n",
    "train_data.extraction_type.value_counts()"
   ]
  },
  {
   "cell_type": "markdown",
   "id": "29d7deba",
   "metadata": {},
   "source": [
    "6. Management     \n",
    "`management` and `management_group` seem related."
   ]
  },
  {
   "cell_type": "code",
   "execution_count": 50,
   "id": "f6d2a81a",
   "metadata": {},
   "outputs": [
    {
     "data": {
      "text/html": [
       "<div>\n",
       "<style scoped>\n",
       "    .dataframe tbody tr th:only-of-type {\n",
       "        vertical-align: middle;\n",
       "    }\n",
       "\n",
       "    .dataframe tbody tr th {\n",
       "        vertical-align: top;\n",
       "    }\n",
       "\n",
       "    .dataframe thead th {\n",
       "        text-align: right;\n",
       "    }\n",
       "</style>\n",
       "<table border=\"1\" class=\"dataframe\">\n",
       "  <thead>\n",
       "    <tr style=\"text-align: right;\">\n",
       "      <th></th>\n",
       "      <th>scheme_management</th>\n",
       "      <th>management</th>\n",
       "      <th>management_group</th>\n",
       "    </tr>\n",
       "  </thead>\n",
       "  <tbody>\n",
       "    <tr>\n",
       "      <th>0</th>\n",
       "      <td>VWC</td>\n",
       "      <td>vwc</td>\n",
       "      <td>user-group</td>\n",
       "    </tr>\n",
       "    <tr>\n",
       "      <th>1</th>\n",
       "      <td>Other</td>\n",
       "      <td>wug</td>\n",
       "      <td>user-group</td>\n",
       "    </tr>\n",
       "    <tr>\n",
       "      <th>2</th>\n",
       "      <td>VWC</td>\n",
       "      <td>vwc</td>\n",
       "      <td>user-group</td>\n",
       "    </tr>\n",
       "    <tr>\n",
       "      <th>3</th>\n",
       "      <td>VWC</td>\n",
       "      <td>vwc</td>\n",
       "      <td>user-group</td>\n",
       "    </tr>\n",
       "    <tr>\n",
       "      <th>4</th>\n",
       "      <td>Other</td>\n",
       "      <td>other</td>\n",
       "      <td>other</td>\n",
       "    </tr>\n",
       "    <tr>\n",
       "      <th>...</th>\n",
       "      <td>...</td>\n",
       "      <td>...</td>\n",
       "      <td>...</td>\n",
       "    </tr>\n",
       "    <tr>\n",
       "      <th>59395</th>\n",
       "      <td>Water Board</td>\n",
       "      <td>water board</td>\n",
       "      <td>user-group</td>\n",
       "    </tr>\n",
       "    <tr>\n",
       "      <th>59396</th>\n",
       "      <td>VWC</td>\n",
       "      <td>vwc</td>\n",
       "      <td>user-group</td>\n",
       "    </tr>\n",
       "    <tr>\n",
       "      <th>59397</th>\n",
       "      <td>VWC</td>\n",
       "      <td>vwc</td>\n",
       "      <td>user-group</td>\n",
       "    </tr>\n",
       "    <tr>\n",
       "      <th>59398</th>\n",
       "      <td>VWC</td>\n",
       "      <td>vwc</td>\n",
       "      <td>user-group</td>\n",
       "    </tr>\n",
       "    <tr>\n",
       "      <th>59399</th>\n",
       "      <td>VWC</td>\n",
       "      <td>vwc</td>\n",
       "      <td>user-group</td>\n",
       "    </tr>\n",
       "  </tbody>\n",
       "</table>\n",
       "<p>59400 rows × 3 columns</p>\n",
       "</div>"
      ],
      "text/plain": [
       "      scheme_management   management management_group\n",
       "0                   VWC          vwc       user-group\n",
       "1                 Other          wug       user-group\n",
       "2                   VWC          vwc       user-group\n",
       "3                   VWC          vwc       user-group\n",
       "4                 Other        other            other\n",
       "...                 ...          ...              ...\n",
       "59395       Water Board  water board       user-group\n",
       "59396               VWC          vwc       user-group\n",
       "59397               VWC          vwc       user-group\n",
       "59398               VWC          vwc       user-group\n",
       "59399               VWC          vwc       user-group\n",
       "\n",
       "[59400 rows x 3 columns]"
      ]
     },
     "execution_count": 50,
     "metadata": {},
     "output_type": "execute_result"
    }
   ],
   "source": [
    "# check the values of the two columns\n",
    "train_data[[\"scheme_management\", \"management\", \"management_group\"]]\n",
    "\n",
    "# \"management\" is almost similar to \"scheme_management\" with \"management_group\" showing the broader category for the management."
   ]
  },
  {
   "cell_type": "code",
   "execution_count": 51,
   "id": "d1356fd4",
   "metadata": {},
   "outputs": [
    {
     "data": {
      "text/plain": [
       "user-group    52490\n",
       "commercial     3638\n",
       "parastatal     1768\n",
       "other           943\n",
       "unknown         561\n",
       "Name: management_group, dtype: int64"
      ]
     },
     "execution_count": 51,
     "metadata": {},
     "output_type": "execute_result"
    }
   ],
   "source": [
    "# check the groups for amanagement\n",
    "train_data.management_group.value_counts()\n",
    "\n",
    "# These doesn't provide us with any new infromation and can just drop the column."
   ]
  },
  {
   "cell_type": "code",
   "execution_count": 52,
   "id": "1a859102",
   "metadata": {},
   "outputs": [],
   "source": [
    "# Drop \"management\" and \"management_group\" columns\n",
    "train_data.drop(columns=[\"management\", \"management_group\"], inplace=True)"
   ]
  },
  {
   "cell_type": "markdown",
   "id": "a89e2f47",
   "metadata": {},
   "source": [
    "7. payment and payment_type"
   ]
  },
  {
   "cell_type": "code",
   "execution_count": 53,
   "id": "9ba62f64",
   "metadata": {},
   "outputs": [
    {
     "data": {
      "text/html": [
       "<div>\n",
       "<style scoped>\n",
       "    .dataframe tbody tr th:only-of-type {\n",
       "        vertical-align: middle;\n",
       "    }\n",
       "\n",
       "    .dataframe tbody tr th {\n",
       "        vertical-align: top;\n",
       "    }\n",
       "\n",
       "    .dataframe thead th {\n",
       "        text-align: right;\n",
       "    }\n",
       "</style>\n",
       "<table border=\"1\" class=\"dataframe\">\n",
       "  <thead>\n",
       "    <tr style=\"text-align: right;\">\n",
       "      <th></th>\n",
       "      <th>payment</th>\n",
       "      <th>payment_type</th>\n",
       "    </tr>\n",
       "  </thead>\n",
       "  <tbody>\n",
       "    <tr>\n",
       "      <th>0</th>\n",
       "      <td>pay annually</td>\n",
       "      <td>annually</td>\n",
       "    </tr>\n",
       "    <tr>\n",
       "      <th>1</th>\n",
       "      <td>never pay</td>\n",
       "      <td>never pay</td>\n",
       "    </tr>\n",
       "    <tr>\n",
       "      <th>2</th>\n",
       "      <td>pay per bucket</td>\n",
       "      <td>per bucket</td>\n",
       "    </tr>\n",
       "    <tr>\n",
       "      <th>3</th>\n",
       "      <td>never pay</td>\n",
       "      <td>never pay</td>\n",
       "    </tr>\n",
       "    <tr>\n",
       "      <th>4</th>\n",
       "      <td>never pay</td>\n",
       "      <td>never pay</td>\n",
       "    </tr>\n",
       "    <tr>\n",
       "      <th>...</th>\n",
       "      <td>...</td>\n",
       "      <td>...</td>\n",
       "    </tr>\n",
       "    <tr>\n",
       "      <th>59395</th>\n",
       "      <td>pay per bucket</td>\n",
       "      <td>per bucket</td>\n",
       "    </tr>\n",
       "    <tr>\n",
       "      <th>59396</th>\n",
       "      <td>pay annually</td>\n",
       "      <td>annually</td>\n",
       "    </tr>\n",
       "    <tr>\n",
       "      <th>59397</th>\n",
       "      <td>pay monthly</td>\n",
       "      <td>monthly</td>\n",
       "    </tr>\n",
       "    <tr>\n",
       "      <th>59398</th>\n",
       "      <td>never pay</td>\n",
       "      <td>never pay</td>\n",
       "    </tr>\n",
       "    <tr>\n",
       "      <th>59399</th>\n",
       "      <td>pay when scheme fails</td>\n",
       "      <td>on failure</td>\n",
       "    </tr>\n",
       "  </tbody>\n",
       "</table>\n",
       "<p>59400 rows × 2 columns</p>\n",
       "</div>"
      ],
      "text/plain": [
       "                     payment payment_type\n",
       "0               pay annually     annually\n",
       "1                  never pay    never pay\n",
       "2             pay per bucket   per bucket\n",
       "3                  never pay    never pay\n",
       "4                  never pay    never pay\n",
       "...                      ...          ...\n",
       "59395         pay per bucket   per bucket\n",
       "59396           pay annually     annually\n",
       "59397            pay monthly      monthly\n",
       "59398              never pay    never pay\n",
       "59399  pay when scheme fails   on failure\n",
       "\n",
       "[59400 rows x 2 columns]"
      ]
     },
     "execution_count": 53,
     "metadata": {},
     "output_type": "execute_result"
    }
   ],
   "source": [
    "# check the values of the columns\n",
    "train_data[[\"payment\", \"payment_type\"]]\n",
    "\n",
    "# The two columns contain the same information. We need to drop one of the columns"
   ]
  },
  {
   "cell_type": "code",
   "execution_count": 54,
   "id": "91fe0e37",
   "metadata": {},
   "outputs": [
    {
     "data": {
      "text/plain": [
       "never pay                25348\n",
       "pay per bucket            8985\n",
       "pay monthly               8300\n",
       "unknown                   8157\n",
       "pay when scheme fails     3914\n",
       "pay annually              3642\n",
       "other                     1054\n",
       "Name: payment, dtype: int64"
      ]
     },
     "execution_count": 54,
     "metadata": {},
     "output_type": "execute_result"
    }
   ],
   "source": [
    "# check unique values of the payment column\n",
    "train_data.payment.value_counts()"
   ]
  },
  {
   "cell_type": "code",
   "execution_count": 55,
   "id": "70587214",
   "metadata": {},
   "outputs": [],
   "source": [
    "# Drop \"payment_type\" column\n",
    "train_data.drop(columns=[\"payment_type\"], inplace=True)"
   ]
  },
  {
   "cell_type": "markdown",
   "id": "37c2ad29",
   "metadata": {},
   "source": [
    "8. water_quality and quality_group"
   ]
  },
  {
   "cell_type": "code",
   "execution_count": 56,
   "id": "de0366c2",
   "metadata": {},
   "outputs": [
    {
     "data": {
      "text/html": [
       "<div>\n",
       "<style scoped>\n",
       "    .dataframe tbody tr th:only-of-type {\n",
       "        vertical-align: middle;\n",
       "    }\n",
       "\n",
       "    .dataframe tbody tr th {\n",
       "        vertical-align: top;\n",
       "    }\n",
       "\n",
       "    .dataframe thead th {\n",
       "        text-align: right;\n",
       "    }\n",
       "</style>\n",
       "<table border=\"1\" class=\"dataframe\">\n",
       "  <thead>\n",
       "    <tr style=\"text-align: right;\">\n",
       "      <th></th>\n",
       "      <th>water_quality</th>\n",
       "      <th>quality_group</th>\n",
       "    </tr>\n",
       "  </thead>\n",
       "  <tbody>\n",
       "    <tr>\n",
       "      <th>0</th>\n",
       "      <td>soft</td>\n",
       "      <td>good</td>\n",
       "    </tr>\n",
       "    <tr>\n",
       "      <th>1</th>\n",
       "      <td>soft</td>\n",
       "      <td>good</td>\n",
       "    </tr>\n",
       "    <tr>\n",
       "      <th>2</th>\n",
       "      <td>soft</td>\n",
       "      <td>good</td>\n",
       "    </tr>\n",
       "    <tr>\n",
       "      <th>3</th>\n",
       "      <td>soft</td>\n",
       "      <td>good</td>\n",
       "    </tr>\n",
       "    <tr>\n",
       "      <th>4</th>\n",
       "      <td>soft</td>\n",
       "      <td>good</td>\n",
       "    </tr>\n",
       "    <tr>\n",
       "      <th>...</th>\n",
       "      <td>...</td>\n",
       "      <td>...</td>\n",
       "    </tr>\n",
       "    <tr>\n",
       "      <th>59395</th>\n",
       "      <td>soft</td>\n",
       "      <td>good</td>\n",
       "    </tr>\n",
       "    <tr>\n",
       "      <th>59396</th>\n",
       "      <td>soft</td>\n",
       "      <td>good</td>\n",
       "    </tr>\n",
       "    <tr>\n",
       "      <th>59397</th>\n",
       "      <td>fluoride</td>\n",
       "      <td>fluoride</td>\n",
       "    </tr>\n",
       "    <tr>\n",
       "      <th>59398</th>\n",
       "      <td>soft</td>\n",
       "      <td>good</td>\n",
       "    </tr>\n",
       "    <tr>\n",
       "      <th>59399</th>\n",
       "      <td>salty</td>\n",
       "      <td>salty</td>\n",
       "    </tr>\n",
       "  </tbody>\n",
       "</table>\n",
       "<p>59400 rows × 2 columns</p>\n",
       "</div>"
      ],
      "text/plain": [
       "      water_quality quality_group\n",
       "0              soft          good\n",
       "1              soft          good\n",
       "2              soft          good\n",
       "3              soft          good\n",
       "4              soft          good\n",
       "...             ...           ...\n",
       "59395          soft          good\n",
       "59396          soft          good\n",
       "59397      fluoride      fluoride\n",
       "59398          soft          good\n",
       "59399         salty         salty\n",
       "\n",
       "[59400 rows x 2 columns]"
      ]
     },
     "execution_count": 56,
     "metadata": {},
     "output_type": "execute_result"
    }
   ],
   "source": [
    "# check the values of the two columns\n",
    "train_data[[\"water_quality\", \"quality_group\"]]\n",
    "\n",
    "# These values seem to represent the same things (similar)."
   ]
  },
  {
   "cell_type": "code",
   "execution_count": 57,
   "id": "4764bf88",
   "metadata": {},
   "outputs": [
    {
     "data": {
      "text/plain": [
       "soft                  50818\n",
       "salty                  4856\n",
       "unknown                1876\n",
       "milky                   804\n",
       "coloured                490\n",
       "salty abandoned         339\n",
       "fluoride                200\n",
       "fluoride abandoned       17\n",
       "Name: water_quality, dtype: int64"
      ]
     },
     "execution_count": 57,
     "metadata": {},
     "output_type": "execute_result"
    }
   ],
   "source": [
    "# check distribution of unique values in the water_quality column\n",
    "train_data.water_quality.value_counts()"
   ]
  },
  {
   "cell_type": "code",
   "execution_count": 58,
   "id": "e3954c67",
   "metadata": {},
   "outputs": [],
   "source": [
    "# drop the quality_group column\n",
    "train_data.drop(columns=[\"quality_group\"], inplace=True)"
   ]
  },
  {
   "cell_type": "markdown",
   "id": "39ae0f03",
   "metadata": {},
   "source": [
    "9. quantity and quantity_group"
   ]
  },
  {
   "cell_type": "code",
   "execution_count": 59,
   "id": "8586bf5e",
   "metadata": {},
   "outputs": [
    {
     "data": {
      "text/html": [
       "<div>\n",
       "<style scoped>\n",
       "    .dataframe tbody tr th:only-of-type {\n",
       "        vertical-align: middle;\n",
       "    }\n",
       "\n",
       "    .dataframe tbody tr th {\n",
       "        vertical-align: top;\n",
       "    }\n",
       "\n",
       "    .dataframe thead th {\n",
       "        text-align: right;\n",
       "    }\n",
       "</style>\n",
       "<table border=\"1\" class=\"dataframe\">\n",
       "  <thead>\n",
       "    <tr style=\"text-align: right;\">\n",
       "      <th></th>\n",
       "      <th>quantity</th>\n",
       "      <th>quantity_group</th>\n",
       "    </tr>\n",
       "  </thead>\n",
       "  <tbody>\n",
       "    <tr>\n",
       "      <th>0</th>\n",
       "      <td>enough</td>\n",
       "      <td>enough</td>\n",
       "    </tr>\n",
       "    <tr>\n",
       "      <th>1</th>\n",
       "      <td>insufficient</td>\n",
       "      <td>insufficient</td>\n",
       "    </tr>\n",
       "    <tr>\n",
       "      <th>2</th>\n",
       "      <td>enough</td>\n",
       "      <td>enough</td>\n",
       "    </tr>\n",
       "    <tr>\n",
       "      <th>3</th>\n",
       "      <td>dry</td>\n",
       "      <td>dry</td>\n",
       "    </tr>\n",
       "    <tr>\n",
       "      <th>4</th>\n",
       "      <td>seasonal</td>\n",
       "      <td>seasonal</td>\n",
       "    </tr>\n",
       "    <tr>\n",
       "      <th>...</th>\n",
       "      <td>...</td>\n",
       "      <td>...</td>\n",
       "    </tr>\n",
       "    <tr>\n",
       "      <th>59395</th>\n",
       "      <td>enough</td>\n",
       "      <td>enough</td>\n",
       "    </tr>\n",
       "    <tr>\n",
       "      <th>59396</th>\n",
       "      <td>enough</td>\n",
       "      <td>enough</td>\n",
       "    </tr>\n",
       "    <tr>\n",
       "      <th>59397</th>\n",
       "      <td>enough</td>\n",
       "      <td>enough</td>\n",
       "    </tr>\n",
       "    <tr>\n",
       "      <th>59398</th>\n",
       "      <td>insufficient</td>\n",
       "      <td>insufficient</td>\n",
       "    </tr>\n",
       "    <tr>\n",
       "      <th>59399</th>\n",
       "      <td>enough</td>\n",
       "      <td>enough</td>\n",
       "    </tr>\n",
       "  </tbody>\n",
       "</table>\n",
       "<p>59400 rows × 2 columns</p>\n",
       "</div>"
      ],
      "text/plain": [
       "           quantity quantity_group\n",
       "0            enough         enough\n",
       "1      insufficient   insufficient\n",
       "2            enough         enough\n",
       "3               dry            dry\n",
       "4          seasonal       seasonal\n",
       "...             ...            ...\n",
       "59395        enough         enough\n",
       "59396        enough         enough\n",
       "59397        enough         enough\n",
       "59398  insufficient   insufficient\n",
       "59399        enough         enough\n",
       "\n",
       "[59400 rows x 2 columns]"
      ]
     },
     "execution_count": 59,
     "metadata": {},
     "output_type": "execute_result"
    }
   ],
   "source": [
    "# check the values of these two columns\n",
    "train_data[[\"quantity\", \"quantity_group\"]]\n",
    "\n",
    "# The values in the two columns are very identical. We therefore need to drop one of the columns."
   ]
  },
  {
   "cell_type": "code",
   "execution_count": 60,
   "id": "8826ec62",
   "metadata": {},
   "outputs": [],
   "source": [
    "# Drop the quantity_group column\n",
    "train_data.drop(columns=[\"quantity_group\"], inplace=True)"
   ]
  },
  {
   "cell_type": "markdown",
   "id": "0a2b4726",
   "metadata": {},
   "source": [
    "10. source, source_type, and source_class"
   ]
  },
  {
   "cell_type": "code",
   "execution_count": 61,
   "id": "58f7875b",
   "metadata": {},
   "outputs": [
    {
     "data": {
      "text/html": [
       "<div>\n",
       "<style scoped>\n",
       "    .dataframe tbody tr th:only-of-type {\n",
       "        vertical-align: middle;\n",
       "    }\n",
       "\n",
       "    .dataframe tbody tr th {\n",
       "        vertical-align: top;\n",
       "    }\n",
       "\n",
       "    .dataframe thead th {\n",
       "        text-align: right;\n",
       "    }\n",
       "</style>\n",
       "<table border=\"1\" class=\"dataframe\">\n",
       "  <thead>\n",
       "    <tr style=\"text-align: right;\">\n",
       "      <th></th>\n",
       "      <th>source</th>\n",
       "      <th>source_type</th>\n",
       "      <th>source_class</th>\n",
       "    </tr>\n",
       "  </thead>\n",
       "  <tbody>\n",
       "    <tr>\n",
       "      <th>0</th>\n",
       "      <td>spring</td>\n",
       "      <td>spring</td>\n",
       "      <td>groundwater</td>\n",
       "    </tr>\n",
       "    <tr>\n",
       "      <th>1</th>\n",
       "      <td>rainwater harvesting</td>\n",
       "      <td>rainwater harvesting</td>\n",
       "      <td>surface</td>\n",
       "    </tr>\n",
       "    <tr>\n",
       "      <th>2</th>\n",
       "      <td>dam</td>\n",
       "      <td>dam</td>\n",
       "      <td>surface</td>\n",
       "    </tr>\n",
       "    <tr>\n",
       "      <th>3</th>\n",
       "      <td>machine dbh</td>\n",
       "      <td>borehole</td>\n",
       "      <td>groundwater</td>\n",
       "    </tr>\n",
       "    <tr>\n",
       "      <th>4</th>\n",
       "      <td>rainwater harvesting</td>\n",
       "      <td>rainwater harvesting</td>\n",
       "      <td>surface</td>\n",
       "    </tr>\n",
       "    <tr>\n",
       "      <th>...</th>\n",
       "      <td>...</td>\n",
       "      <td>...</td>\n",
       "      <td>...</td>\n",
       "    </tr>\n",
       "    <tr>\n",
       "      <th>59395</th>\n",
       "      <td>spring</td>\n",
       "      <td>spring</td>\n",
       "      <td>groundwater</td>\n",
       "    </tr>\n",
       "    <tr>\n",
       "      <th>59396</th>\n",
       "      <td>river</td>\n",
       "      <td>river/lake</td>\n",
       "      <td>surface</td>\n",
       "    </tr>\n",
       "    <tr>\n",
       "      <th>59397</th>\n",
       "      <td>machine dbh</td>\n",
       "      <td>borehole</td>\n",
       "      <td>groundwater</td>\n",
       "    </tr>\n",
       "    <tr>\n",
       "      <th>59398</th>\n",
       "      <td>shallow well</td>\n",
       "      <td>shallow well</td>\n",
       "      <td>groundwater</td>\n",
       "    </tr>\n",
       "    <tr>\n",
       "      <th>59399</th>\n",
       "      <td>shallow well</td>\n",
       "      <td>shallow well</td>\n",
       "      <td>groundwater</td>\n",
       "    </tr>\n",
       "  </tbody>\n",
       "</table>\n",
       "<p>59400 rows × 3 columns</p>\n",
       "</div>"
      ],
      "text/plain": [
       "                     source           source_type source_class\n",
       "0                    spring                spring  groundwater\n",
       "1      rainwater harvesting  rainwater harvesting      surface\n",
       "2                       dam                   dam      surface\n",
       "3               machine dbh              borehole  groundwater\n",
       "4      rainwater harvesting  rainwater harvesting      surface\n",
       "...                     ...                   ...          ...\n",
       "59395                spring                spring  groundwater\n",
       "59396                 river            river/lake      surface\n",
       "59397           machine dbh              borehole  groundwater\n",
       "59398          shallow well          shallow well  groundwater\n",
       "59399          shallow well          shallow well  groundwater\n",
       "\n",
       "[59400 rows x 3 columns]"
      ]
     },
     "execution_count": 61,
     "metadata": {},
     "output_type": "execute_result"
    }
   ],
   "source": [
    "# check the values\n",
    "train_data[[\"source\", \"source_type\", \"source_class\"]]\n",
    "\n",
    "# \"source\" and \"source_type\" columns almost have all values similar. \"source_class\" column tells us the class of the source, therefore does not present very new information but is important. We can drop the \"source_type\" column."
   ]
  },
  {
   "cell_type": "code",
   "execution_count": 62,
   "id": "0fac86d2",
   "metadata": {},
   "outputs": [
    {
     "data": {
      "text/plain": [
       "spring                  17021\n",
       "shallow well            16824\n",
       "machine dbh             11075\n",
       "river                    9612\n",
       "rainwater harvesting     2295\n",
       "hand dtw                  874\n",
       "lake                      765\n",
       "dam                       656\n",
       "other                     212\n",
       "unknown                    66\n",
       "Name: source, dtype: int64"
      ]
     },
     "execution_count": 62,
     "metadata": {},
     "output_type": "execute_result"
    }
   ],
   "source": [
    "# check distribution of unique values\n",
    "train_data.source.value_counts()"
   ]
  },
  {
   "cell_type": "code",
   "execution_count": 63,
   "id": "18e09ecf",
   "metadata": {},
   "outputs": [
    {
     "data": {
      "text/plain": [
       "groundwater    45794\n",
       "surface        13328\n",
       "unknown          278\n",
       "Name: source_class, dtype: int64"
      ]
     },
     "execution_count": 63,
     "metadata": {},
     "output_type": "execute_result"
    }
   ],
   "source": [
    "# check distribution of unique values for source_class\n",
    "train_data.source_class.value_counts()"
   ]
  },
  {
   "cell_type": "code",
   "execution_count": 64,
   "id": "177028c7",
   "metadata": {},
   "outputs": [],
   "source": [
    "# drop \"source_type\" column\n",
    "train_data.drop(columns=[\"source_type\"], inplace=True)"
   ]
  },
  {
   "cell_type": "markdown",
   "id": "331ce77e",
   "metadata": {},
   "source": [
    "11. waterpoint_type and waterpoint_type_group"
   ]
  },
  {
   "cell_type": "code",
   "execution_count": 65,
   "id": "f7bf8b26",
   "metadata": {},
   "outputs": [
    {
     "data": {
      "text/html": [
       "<div>\n",
       "<style scoped>\n",
       "    .dataframe tbody tr th:only-of-type {\n",
       "        vertical-align: middle;\n",
       "    }\n",
       "\n",
       "    .dataframe tbody tr th {\n",
       "        vertical-align: top;\n",
       "    }\n",
       "\n",
       "    .dataframe thead th {\n",
       "        text-align: right;\n",
       "    }\n",
       "</style>\n",
       "<table border=\"1\" class=\"dataframe\">\n",
       "  <thead>\n",
       "    <tr style=\"text-align: right;\">\n",
       "      <th></th>\n",
       "      <th>waterpoint_type</th>\n",
       "      <th>waterpoint_type_group</th>\n",
       "    </tr>\n",
       "  </thead>\n",
       "  <tbody>\n",
       "    <tr>\n",
       "      <th>0</th>\n",
       "      <td>communal standpipe</td>\n",
       "      <td>communal standpipe</td>\n",
       "    </tr>\n",
       "    <tr>\n",
       "      <th>1</th>\n",
       "      <td>communal standpipe</td>\n",
       "      <td>communal standpipe</td>\n",
       "    </tr>\n",
       "    <tr>\n",
       "      <th>2</th>\n",
       "      <td>communal standpipe multiple</td>\n",
       "      <td>communal standpipe</td>\n",
       "    </tr>\n",
       "    <tr>\n",
       "      <th>3</th>\n",
       "      <td>communal standpipe multiple</td>\n",
       "      <td>communal standpipe</td>\n",
       "    </tr>\n",
       "    <tr>\n",
       "      <th>4</th>\n",
       "      <td>communal standpipe</td>\n",
       "      <td>communal standpipe</td>\n",
       "    </tr>\n",
       "    <tr>\n",
       "      <th>...</th>\n",
       "      <td>...</td>\n",
       "      <td>...</td>\n",
       "    </tr>\n",
       "    <tr>\n",
       "      <th>59395</th>\n",
       "      <td>communal standpipe</td>\n",
       "      <td>communal standpipe</td>\n",
       "    </tr>\n",
       "    <tr>\n",
       "      <th>59396</th>\n",
       "      <td>communal standpipe</td>\n",
       "      <td>communal standpipe</td>\n",
       "    </tr>\n",
       "    <tr>\n",
       "      <th>59397</th>\n",
       "      <td>hand pump</td>\n",
       "      <td>hand pump</td>\n",
       "    </tr>\n",
       "    <tr>\n",
       "      <th>59398</th>\n",
       "      <td>hand pump</td>\n",
       "      <td>hand pump</td>\n",
       "    </tr>\n",
       "    <tr>\n",
       "      <th>59399</th>\n",
       "      <td>hand pump</td>\n",
       "      <td>hand pump</td>\n",
       "    </tr>\n",
       "  </tbody>\n",
       "</table>\n",
       "<p>59400 rows × 2 columns</p>\n",
       "</div>"
      ],
      "text/plain": [
       "                   waterpoint_type waterpoint_type_group\n",
       "0               communal standpipe    communal standpipe\n",
       "1               communal standpipe    communal standpipe\n",
       "2      communal standpipe multiple    communal standpipe\n",
       "3      communal standpipe multiple    communal standpipe\n",
       "4               communal standpipe    communal standpipe\n",
       "...                            ...                   ...\n",
       "59395           communal standpipe    communal standpipe\n",
       "59396           communal standpipe    communal standpipe\n",
       "59397                    hand pump             hand pump\n",
       "59398                    hand pump             hand pump\n",
       "59399                    hand pump             hand pump\n",
       "\n",
       "[59400 rows x 2 columns]"
      ]
     },
     "execution_count": 65,
     "metadata": {},
     "output_type": "execute_result"
    }
   ],
   "source": [
    "# check the values\n",
    "train_data[[\"waterpoint_type\", \"waterpoint_type_group\"]]\n",
    "\n",
    "# These two columns contains similar information. I need to drop one of them"
   ]
  },
  {
   "cell_type": "code",
   "execution_count": 66,
   "id": "240fb232",
   "metadata": {},
   "outputs": [
    {
     "data": {
      "text/plain": [
       "communal standpipe             28522\n",
       "hand pump                      17488\n",
       "other                           6380\n",
       "communal standpipe multiple     6103\n",
       "improved spring                  784\n",
       "cattle trough                    116\n",
       "dam                                7\n",
       "Name: waterpoint_type, dtype: int64"
      ]
     },
     "execution_count": 66,
     "metadata": {},
     "output_type": "execute_result"
    }
   ],
   "source": [
    "# check the value count of the waterpoint types\n",
    "train_data.waterpoint_type.value_counts()"
   ]
  },
  {
   "cell_type": "code",
   "execution_count": 67,
   "id": "5f3e545d",
   "metadata": {},
   "outputs": [],
   "source": [
    "# drop one of the columns\n",
    "train_data.drop(columns=[\"waterpoint_type_group\"], inplace=True)"
   ]
  },
  {
   "cell_type": "markdown",
   "id": "962139fa",
   "metadata": {},
   "source": [
    "12. status_group"
   ]
  },
  {
   "cell_type": "code",
   "execution_count": 68,
   "id": "7ae2630a",
   "metadata": {},
   "outputs": [
    {
     "data": {
      "text/plain": [
       "functional                 32259\n",
       "non functional             22824\n",
       "functional needs repair     4317\n",
       "Name: status_group, dtype: int64"
      ]
     },
     "execution_count": 68,
     "metadata": {},
     "output_type": "execute_result"
    }
   ],
   "source": [
    "# check the values\n",
    "train_data.status_group.value_counts()"
   ]
  },
  {
   "cell_type": "markdown",
   "id": "7800f1c2",
   "metadata": {},
   "source": [
    "###### Inspect other columns"
   ]
  },
  {
   "cell_type": "code",
   "execution_count": 69,
   "id": "4abd13b9",
   "metadata": {},
   "outputs": [
    {
     "data": {
      "text/plain": [
       "id                   59400\n",
       "amount_tsh              98\n",
       "date_recorded          356\n",
       "gps_height            2428\n",
       "longitude            57516\n",
       "latitude             57517\n",
       "num_private             65\n",
       "region_code             27\n",
       "district_code           20\n",
       "population            1049\n",
       "public_meeting           2\n",
       "permit                   2\n",
       "construction_year       55\n",
       "dtype: int64"
      ]
     },
     "execution_count": 69,
     "metadata": {},
     "output_type": "execute_result"
    }
   ],
   "source": [
    "# Inspect the column with other data types apart from 'object'\n",
    "other_columns = train_data.select_dtypes(exclude = ['object'])\n",
    "other_columns.apply(lambda x: len(x.unique()))"
   ]
  },
  {
   "cell_type": "code",
   "execution_count": 70,
   "id": "d2534e60",
   "metadata": {},
   "outputs": [
    {
     "name": "stdout",
     "output_type": "stream",
     "text": [
      "<class 'pandas.core.frame.DataFrame'>\n",
      "Int64Index: 59400 entries, 0 to 59399\n",
      "Data columns (total 13 columns):\n",
      " #   Column             Non-Null Count  Dtype         \n",
      "---  ------             --------------  -----         \n",
      " 0   id                 59400 non-null  int64         \n",
      " 1   amount_tsh         59400 non-null  float64       \n",
      " 2   date_recorded      59400 non-null  datetime64[ns]\n",
      " 3   gps_height         59400 non-null  int64         \n",
      " 4   longitude          59400 non-null  float64       \n",
      " 5   latitude           59400 non-null  float64       \n",
      " 6   num_private        59400 non-null  int64         \n",
      " 7   region_code        59400 non-null  int64         \n",
      " 8   district_code      59400 non-null  int64         \n",
      " 9   population         59400 non-null  int64         \n",
      " 10  public_meeting     59400 non-null  bool          \n",
      " 11  permit             59400 non-null  bool          \n",
      " 12  construction_year  59400 non-null  int64         \n",
      "dtypes: bool(2), datetime64[ns](1), float64(3), int64(7)\n",
      "memory usage: 5.6 MB\n"
     ]
    }
   ],
   "source": [
    "# check their data types\n",
    "other_columns.info()"
   ]
  },
  {
   "cell_type": "code",
   "execution_count": 71,
   "id": "b584e89d",
   "metadata": {},
   "outputs": [
    {
     "data": {
      "text/html": [
       "<div>\n",
       "<style scoped>\n",
       "    .dataframe tbody tr th:only-of-type {\n",
       "        vertical-align: middle;\n",
       "    }\n",
       "\n",
       "    .dataframe tbody tr th {\n",
       "        vertical-align: top;\n",
       "    }\n",
       "\n",
       "    .dataframe thead th {\n",
       "        text-align: right;\n",
       "    }\n",
       "</style>\n",
       "<table border=\"1\" class=\"dataframe\">\n",
       "  <thead>\n",
       "    <tr style=\"text-align: right;\">\n",
       "      <th></th>\n",
       "      <th>gps_height</th>\n",
       "      <th>latitude</th>\n",
       "      <th>longitude</th>\n",
       "      <th>region_code</th>\n",
       "      <th>district_code</th>\n",
       "    </tr>\n",
       "  </thead>\n",
       "  <tbody>\n",
       "    <tr>\n",
       "      <th>0</th>\n",
       "      <td>1390</td>\n",
       "      <td>-9.856322</td>\n",
       "      <td>34.938093</td>\n",
       "      <td>11</td>\n",
       "      <td>5</td>\n",
       "    </tr>\n",
       "    <tr>\n",
       "      <th>1</th>\n",
       "      <td>1399</td>\n",
       "      <td>-2.147466</td>\n",
       "      <td>34.698766</td>\n",
       "      <td>20</td>\n",
       "      <td>2</td>\n",
       "    </tr>\n",
       "    <tr>\n",
       "      <th>2</th>\n",
       "      <td>686</td>\n",
       "      <td>-3.821329</td>\n",
       "      <td>37.460664</td>\n",
       "      <td>21</td>\n",
       "      <td>4</td>\n",
       "    </tr>\n",
       "    <tr>\n",
       "      <th>3</th>\n",
       "      <td>263</td>\n",
       "      <td>-11.155298</td>\n",
       "      <td>38.486161</td>\n",
       "      <td>90</td>\n",
       "      <td>63</td>\n",
       "    </tr>\n",
       "    <tr>\n",
       "      <th>4</th>\n",
       "      <td>0</td>\n",
       "      <td>-1.825359</td>\n",
       "      <td>31.130847</td>\n",
       "      <td>18</td>\n",
       "      <td>1</td>\n",
       "    </tr>\n",
       "  </tbody>\n",
       "</table>\n",
       "</div>"
      ],
      "text/plain": [
       "   gps_height   latitude  longitude  region_code  district_code\n",
       "0        1390  -9.856322  34.938093           11              5\n",
       "1        1399  -2.147466  34.698766           20              2\n",
       "2         686  -3.821329  37.460664           21              4\n",
       "3         263 -11.155298  38.486161           90             63\n",
       "4           0  -1.825359  31.130847           18              1"
      ]
     },
     "execution_count": 71,
     "metadata": {},
     "output_type": "execute_result"
    }
   ],
   "source": [
    "# inspect the columns with geographical information above\n",
    "train_data[[\"gps_height\", \"latitude\", \"longitude\", \"region_code\", \"district_code\"]].head()\n",
    "\n",
    "# The information represented by these columns may as well have been captured by other columns like \"region\".\n",
    "# I will therefore drop them."
   ]
  },
  {
   "cell_type": "code",
   "execution_count": 72,
   "id": "cf4fc51d",
   "metadata": {},
   "outputs": [
    {
     "data": {
      "text/plain": [
       "0       58643\n",
       "6          81\n",
       "1          73\n",
       "5          46\n",
       "8          46\n",
       "        ...  \n",
       "42          1\n",
       "23          1\n",
       "136         1\n",
       "698         1\n",
       "1402        1\n",
       "Name: num_private, Length: 65, dtype: int64"
      ]
     },
     "execution_count": 72,
     "metadata": {},
     "output_type": "execute_result"
    }
   ],
   "source": [
    "# inspect the \"num_private\" column\n",
    "train_data.num_private.value_counts()\n",
    "\n",
    "# It is not clear what this column represents."
   ]
  },
  {
   "cell_type": "code",
   "execution_count": 73,
   "id": "1dde43b0",
   "metadata": {},
   "outputs": [
    {
     "data": {
      "text/plain": [
       "0.0         41639\n",
       "500.0        3102\n",
       "50.0         2472\n",
       "1000.0       1488\n",
       "20.0         1463\n",
       "            ...  \n",
       "6300.0          1\n",
       "120000.0        1\n",
       "138000.0        1\n",
       "350000.0        1\n",
       "59.0            1\n",
       "Name: amount_tsh, Length: 98, dtype: int64"
      ]
     },
     "execution_count": 73,
     "metadata": {},
     "output_type": "execute_result"
    }
   ],
   "source": [
    "# inspect the \"amount_tsh\" column\n",
    "train_data.amount_tsh.value_counts()"
   ]
  },
  {
   "cell_type": "code",
   "execution_count": 74,
   "id": "2137a9db",
   "metadata": {},
   "outputs": [],
   "source": [
    "# Drop the unnecessary columns identified above\n",
    "# Additionally, drop the \"id\" column as it is just a unique identifier for the records\n",
    "train_data.drop(columns=[\"gps_height\", \"latitude\", \"longitude\", \"region_code\", \"district_code\", \"num_private\", \"id\"], inplace=True)"
   ]
  },
  {
   "cell_type": "markdown",
   "id": "2c584ec1",
   "metadata": {},
   "source": [
    "date_recorded    \n",
    "Convert this column to datetime. We can then create a new column `days_elapsed` to represent the number of days that have elapsed since the date the data for that project was recorded and the date of the most recent recorded project. This variable might be well correlated to the status of the pumps."
   ]
  },
  {
   "cell_type": "code",
   "execution_count": 75,
   "id": "0d93066a",
   "metadata": {},
   "outputs": [
    {
     "data": {
      "text/plain": [
       "0       2011-03-14\n",
       "1       2013-03-06\n",
       "2       2013-02-25\n",
       "3       2013-01-28\n",
       "4       2011-07-13\n",
       "           ...    \n",
       "59395   2013-05-03\n",
       "59396   2011-05-07\n",
       "59397   2011-04-11\n",
       "59398   2011-03-08\n",
       "59399   2011-03-23\n",
       "Name: date_recorded, Length: 59400, dtype: datetime64[ns]"
      ]
     },
     "execution_count": 75,
     "metadata": {},
     "output_type": "execute_result"
    }
   ],
   "source": [
    "# check the values of the date_recorded column\n",
    "train_data.date_recorded"
   ]
  },
  {
   "cell_type": "code",
   "execution_count": 76,
   "id": "16952965",
   "metadata": {},
   "outputs": [],
   "source": [
    "# convert the column to datetime\n",
    "train_data.date_recorded = pd.to_datetime(train_data.date_recorded)"
   ]
  },
  {
   "cell_type": "code",
   "execution_count": 77,
   "id": "e2200a59",
   "metadata": {},
   "outputs": [
    {
     "data": {
      "text/plain": [
       "count                            59400\n",
       "mean     2012-03-29 09:11:33.818181888\n",
       "min                2002-10-14 00:00:00\n",
       "25%                2011-04-01 00:00:00\n",
       "50%                2012-10-10 00:00:00\n",
       "75%                2013-02-09 00:00:00\n",
       "max                2013-12-03 00:00:00\n",
       "Name: date_recorded, dtype: object"
      ]
     },
     "execution_count": 77,
     "metadata": {},
     "output_type": "execute_result"
    }
   ],
   "source": [
    "# get general description of this column\n",
    "train_data.date_recorded.describe(datetime_is_numeric=True)\n",
    "\n",
    "# The last date is 03-12-2013. We will subtract all the dates from this"
   ]
  },
  {
   "cell_type": "code",
   "execution_count": 78,
   "id": "a0c90b26",
   "metadata": {},
   "outputs": [],
   "source": [
    "# Create a new column for days elapsed\n",
    "train_data[\"days_elapsed\"] =  train_data.date_recorded.map(lambda x: (datetime(2013, 12, 3) - x).days)"
   ]
  },
  {
   "cell_type": "code",
   "execution_count": 79,
   "id": "663a069a",
   "metadata": {},
   "outputs": [
    {
     "data": {
      "text/plain": [
       "dtype('int64')"
      ]
     },
     "execution_count": 79,
     "metadata": {},
     "output_type": "execute_result"
    }
   ],
   "source": [
    "# check the data\n",
    "train_data.days_elapsed.dtype"
   ]
  },
  {
   "cell_type": "code",
   "execution_count": 80,
   "id": "ec0e9e6e",
   "metadata": {},
   "outputs": [],
   "source": [
    "# drop the date_recorded column\n",
    "train_data.drop(columns=[\"date_recorded\"], inplace=True)"
   ]
  },
  {
   "cell_type": "code",
   "execution_count": 81,
   "id": "c1b2d597",
   "metadata": {},
   "outputs": [
    {
     "data": {
      "text/plain": [
       "0       20709\n",
       "2010     2645\n",
       "2008     2613\n",
       "2009     2533\n",
       "2000     2091\n",
       "2007     1587\n",
       "2006     1471\n",
       "2003     1286\n",
       "2011     1256\n",
       "2004     1123\n",
       "2012     1084\n",
       "2002     1075\n",
       "1978     1037\n",
       "1995     1014\n",
       "2005     1011\n",
       "1999      979\n",
       "1998      966\n",
       "1990      954\n",
       "1985      945\n",
       "1980      811\n",
       "1996      811\n",
       "1984      779\n",
       "1982      744\n",
       "1994      738\n",
       "1972      708\n",
       "1974      676\n",
       "1997      644\n",
       "1992      640\n",
       "1993      608\n",
       "2001      540\n",
       "1988      521\n",
       "1983      488\n",
       "1975      437\n",
       "1986      434\n",
       "1976      414\n",
       "1970      411\n",
       "1991      324\n",
       "1989      316\n",
       "1987      302\n",
       "1981      238\n",
       "1977      202\n",
       "1979      192\n",
       "1973      184\n",
       "2013      176\n",
       "1971      145\n",
       "1960      102\n",
       "1967       88\n",
       "1963       85\n",
       "1968       77\n",
       "1969       59\n",
       "1964       40\n",
       "1962       30\n",
       "1961       21\n",
       "1965       19\n",
       "1966       17\n",
       "Name: construction_year, dtype: int64"
      ]
     },
     "execution_count": 81,
     "metadata": {},
     "output_type": "execute_result"
    }
   ],
   "source": [
    "# inspect \"construction_year\" column\n",
    "train_data.construction_year.value_counts()"
   ]
  },
  {
   "cell_type": "code",
   "execution_count": 82,
   "id": "f1626461",
   "metadata": {},
   "outputs": [],
   "source": [
    "# Create a function to group the years into decades\n",
    "\n",
    "def constructionYearMerger(year):\n",
    "    '''\n",
    "    Input:\n",
    "    year: int, year of construction\n",
    "    \n",
    "    Output:\n",
    "    decade: string, last digits of the decade\n",
    "    '''\n",
    "    if year >= 1960 and year < 1970:\n",
    "        return '60s'\n",
    "    elif year >= 1970 and year < 1980:\n",
    "        return '70s'\n",
    "    elif year >= 1980 and year < 1990:\n",
    "        return '80s'\n",
    "    elif year >= 1990 and year < 2000:\n",
    "        return '90s'\n",
    "    elif year >= 2000 and year < 2010:\n",
    "        return '00s'\n",
    "    elif year >= 2010:\n",
    "        return '10s'\n",
    "    else:\n",
    "        return 'unknown'"
   ]
  },
  {
   "cell_type": "code",
   "execution_count": 83,
   "id": "6e753af2",
   "metadata": {},
   "outputs": [
    {
     "data": {
      "text/plain": [
       "unknown    20709\n",
       "00s        15330\n",
       "90s         7678\n",
       "80s         5578\n",
       "10s         5161\n",
       "70s         4406\n",
       "60s          538\n",
       "Name: construction_year, dtype: int64"
      ]
     },
     "execution_count": 83,
     "metadata": {},
     "output_type": "execute_result"
    }
   ],
   "source": [
    "# apply the function to the construction_year column\n",
    "train_data[\"construction_year\"] = train_data.construction_year.apply(constructionYearMerger)\n",
    "\n",
    "# check the value counts\n",
    "train_data.construction_year.value_counts()"
   ]
  },
  {
   "cell_type": "markdown",
   "id": "590e4345",
   "metadata": {},
   "source": [
    "###### Inspect all the remaining columns"
   ]
  },
  {
   "cell_type": "code",
   "execution_count": 84,
   "id": "b9570176",
   "metadata": {},
   "outputs": [
    {
     "data": {
      "text/plain": [
       "amount_tsh             98\n",
       "funder                  6\n",
       "installer               6\n",
       "basin                   9\n",
       "region                  6\n",
       "population           1049\n",
       "public_meeting          2\n",
       "scheme_management       9\n",
       "permit                  2\n",
       "construction_year       7\n",
       "extraction_type         4\n",
       "payment                 7\n",
       "water_quality           8\n",
       "quantity                5\n",
       "source                 10\n",
       "source_class            3\n",
       "waterpoint_type         7\n",
       "status_group            3\n",
       "days_elapsed          356\n",
       "dtype: int64"
      ]
     },
     "execution_count": 84,
     "metadata": {},
     "output_type": "execute_result"
    }
   ],
   "source": [
    "# inspect all columns\n",
    "train_data.apply(lambda x: len(x.unique()))"
   ]
  },
  {
   "cell_type": "code",
   "execution_count": 85,
   "id": "534ce57e",
   "metadata": {},
   "outputs": [
    {
     "name": "stdout",
     "output_type": "stream",
     "text": [
      "<class 'pandas.core.frame.DataFrame'>\n",
      "Int64Index: 59400 entries, 0 to 59399\n",
      "Data columns (total 19 columns):\n",
      " #   Column             Non-Null Count  Dtype  \n",
      "---  ------             --------------  -----  \n",
      " 0   amount_tsh         59400 non-null  float64\n",
      " 1   funder             59400 non-null  object \n",
      " 2   installer          59400 non-null  object \n",
      " 3   basin              59400 non-null  object \n",
      " 4   region             59400 non-null  object \n",
      " 5   population         59400 non-null  int64  \n",
      " 6   public_meeting     59400 non-null  bool   \n",
      " 7   scheme_management  59400 non-null  object \n",
      " 8   permit             59400 non-null  bool   \n",
      " 9   construction_year  59400 non-null  object \n",
      " 10  extraction_type    59400 non-null  object \n",
      " 11  payment            59400 non-null  object \n",
      " 12  water_quality      59400 non-null  object \n",
      " 13  quantity           59400 non-null  object \n",
      " 14  source             59400 non-null  object \n",
      " 15  source_class       59400 non-null  object \n",
      " 16  waterpoint_type    59400 non-null  object \n",
      " 17  status_group       59400 non-null  object \n",
      " 18  days_elapsed       59400 non-null  int64  \n",
      "dtypes: bool(2), float64(1), int64(2), object(14)\n",
      "memory usage: 8.3+ MB\n"
     ]
    }
   ],
   "source": [
    "# check data types\n",
    "train_data.info()"
   ]
  },
  {
   "cell_type": "markdown",
   "id": "b138c576",
   "metadata": {},
   "source": [
    "### Exploratory Data Analysis"
   ]
  },
  {
   "cell_type": "code",
   "execution_count": 86,
   "id": "2a3c183c",
   "metadata": {},
   "outputs": [
    {
     "data": {
      "image/png": "[encoded data removed]",
      "text/plain": [
       "<Figure size 1400x700 with 1 Axes>"
      ]
     },
     "metadata": {},
     "output_type": "display_data"
    }
   ],
   "source": [
    "#A bar chart of the value counts of status groups of pumps\n",
    "# Plot value counts of `\"status_group\"`\n",
    "fig, ax = plt.subplots(figsize=(14, 7))\n",
    "train_data[\"status_group\"].value_counts(normalize=True).plot(\n",
    "    kind=\"bar\", xlabel=\"Class\", ylabel=\"Relative Frequency\", title=\"Class Balance\"\n",
    ");"
   ]
  },
  {
   "cell_type": "code",
   "execution_count": 87,
   "id": "0373ecfd",
   "metadata": {},
   "outputs": [
    {
     "data": {
      "image/png": "[encoded data removed]",
      "text/plain": [
       "<Figure size 1600x800 with 1 Axes>"
      ]
     },
     "metadata": {},
     "output_type": "display_data"
    }
   ],
   "source": [
    "# Plot a distribution plot for the population using the different wells\n",
    "fig, ax = plt.subplots(figsize=(16, 8))\n",
    "\n",
    "sns.histplot(train_data.population, stat=\"density\", kde=True, ax=ax)\n",
    "plt.ylim(0, 0.01) # restrict y limit\n",
    "\n",
    "# add title labels\n",
    "plt.title(\"Distribution of Population using Wells\");"
   ]
  },
  {
   "cell_type": "code",
   "execution_count": 88,
   "id": "39fcd8c2",
   "metadata": {},
   "outputs": [
    {
     "data": {
      "image/png": "[encoded data removed]",
      "text/plain": [
       "<Figure size 640x480 with 1 Axes>"
      ]
     },
     "metadata": {},
     "output_type": "display_data"
    }
   ],
   "source": [
    "# bar plot of permit\n",
    "# Check the functionality of pumpsa ccording to whether they had permits or not\n",
    "fig, ax = plt.subplots()\n",
    "\n",
    "# replace boolean with string\n",
    "train_data['permit'] = train_data['permit'].replace({True: \"permitted\", False: \"not_permitted\"})\n",
    "\n",
    "# plot a histplot\n",
    "sns.histplot(x='permit', hue='status_group', data=train_data, multiple=\"dodge\", ax = ax, shrink=.4)\n",
    "\n",
    "plt.show();"
   ]
  },
  {
   "cell_type": "code",
   "execution_count": 89,
   "id": "0b9febd3",
   "metadata": {},
   "outputs": [
    {
     "data": {
      "image/png": "[encoded data removed]",
      "text/plain": [
       "<Figure size 640x480 with 1 Axes>"
      ]
     },
     "metadata": {},
     "output_type": "display_data"
    }
   ],
   "source": [
    "# Create boxplot to show the distributions of days elapsed from most recent date for the groups in the \"status_group\" column\n",
    "fig, ax = plt.subplots()\n",
    "\n",
    "sns.boxplot(x=\"status_group\", y=\"days_elapsed\", data=train_data, ax=ax)\n",
    "# Label axes\n",
    "plt.xlabel(\"Pump Status Group\")\n",
    "plt.ylabel(\"Days Elapsed\")\n",
    "plt.title(\"Distribution of Days Elapsed by Class\")\n",
    "\n",
    "plt.show();"
   ]
  },
  {
   "cell_type": "markdown",
   "id": "5e1c9dbe",
   "metadata": {},
   "source": [
    "#### Correlation Matrix"
   ]
  },
  {
   "cell_type": "code",
   "execution_count": 90,
   "id": "4fd6780e",
   "metadata": {},
   "outputs": [
    {
     "data": {
      "text/html": [
       "<div>\n",
       "<style scoped>\n",
       "    .dataframe tbody tr th:only-of-type {\n",
       "        vertical-align: middle;\n",
       "    }\n",
       "\n",
       "    .dataframe tbody tr th {\n",
       "        vertical-align: top;\n",
       "    }\n",
       "\n",
       "    .dataframe thead th {\n",
       "        text-align: right;\n",
       "    }\n",
       "</style>\n",
       "<table border=\"1\" class=\"dataframe\">\n",
       "  <thead>\n",
       "    <tr style=\"text-align: right;\">\n",
       "      <th></th>\n",
       "      <th>amount_tsh</th>\n",
       "      <th>population</th>\n",
       "      <th>public_meeting</th>\n",
       "      <th>days_elapsed</th>\n",
       "    </tr>\n",
       "  </thead>\n",
       "  <tbody>\n",
       "    <tr>\n",
       "      <th>amount_tsh</th>\n",
       "      <td>1.000000</td>\n",
       "      <td>0.016288</td>\n",
       "      <td>0.015798</td>\n",
       "      <td>0.014629</td>\n",
       "    </tr>\n",
       "    <tr>\n",
       "      <th>population</th>\n",
       "      <td>0.016288</td>\n",
       "      <td>1.000000</td>\n",
       "      <td>0.006575</td>\n",
       "      <td>-0.099737</td>\n",
       "    </tr>\n",
       "    <tr>\n",
       "      <th>public_meeting</th>\n",
       "      <td>0.015798</td>\n",
       "      <td>0.006575</td>\n",
       "      <td>1.000000</td>\n",
       "      <td>0.025712</td>\n",
       "    </tr>\n",
       "    <tr>\n",
       "      <th>days_elapsed</th>\n",
       "      <td>0.014629</td>\n",
       "      <td>-0.099737</td>\n",
       "      <td>0.025712</td>\n",
       "      <td>1.000000</td>\n",
       "    </tr>\n",
       "  </tbody>\n",
       "</table>\n",
       "</div>"
      ],
      "text/plain": [
       "                amount_tsh  population  public_meeting  days_elapsed\n",
       "amount_tsh        1.000000    0.016288        0.015798      0.014629\n",
       "population        0.016288    1.000000        0.006575     -0.099737\n",
       "public_meeting    0.015798    0.006575        1.000000      0.025712\n",
       "days_elapsed      0.014629   -0.099737        0.025712      1.000000"
      ]
     },
     "execution_count": 90,
     "metadata": {},
     "output_type": "execute_result"
    }
   ],
   "source": [
    "# Find the correlation matrix of the dataset\n",
    "train_data.corr()"
   ]
  },
  {
   "cell_type": "markdown",
   "id": "9d9b47d4",
   "metadata": {},
   "source": [
    "### Label Encoding"
   ]
  },
  {
   "cell_type": "code",
   "execution_count": 91,
   "id": "5cf8238e",
   "metadata": {},
   "outputs": [
    {
     "data": {
      "text/plain": [
       "['funder',\n",
       " 'installer',\n",
       " 'basin',\n",
       " 'region',\n",
       " 'scheme_management',\n",
       " 'permit',\n",
       " 'construction_year',\n",
       " 'extraction_type',\n",
       " 'payment',\n",
       " 'water_quality',\n",
       " 'quantity',\n",
       " 'source',\n",
       " 'source_class',\n",
       " 'waterpoint_type']"
      ]
     },
     "execution_count": 91,
     "metadata": {},
     "output_type": "execute_result"
    }
   ],
   "source": [
    "# select the categorical columns\n",
    "categorical_cols = [colname for colname in train_data.columns if train_data[colname].dtype == \"object\"]\n",
    "\n",
    "categorical_cols = categorical_cols[:-1]\n",
    "categorical_cols"
   ]
  },
  {
   "cell_type": "code",
   "execution_count": 92,
   "id": "b053638c",
   "metadata": {},
   "outputs": [],
   "source": [
    "# Encode the labels of the above categorical variables\n",
    "train_data[categorical_cols] = train_data[categorical_cols].apply(LabelEncoder().fit_transform)"
   ]
  },
  {
   "cell_type": "code",
   "execution_count": 93,
   "id": "0ca91c4c",
   "metadata": {},
   "outputs": [],
   "source": [
    "# Encode the two boolean columns, \"permit\" and \"public_meeting\"\n",
    "train_data['public_meeting'] = train_data['public_meeting'].replace({True: 1, False: 0})\n",
    "train_data['permit'] = train_data['permit'].replace({\"permitted\": 1, \"not_permitted\": 0})"
   ]
  },
  {
   "cell_type": "code",
   "execution_count": 94,
   "id": "ca6d3c6a",
   "metadata": {},
   "outputs": [
    {
     "data": {
      "text/plain": [
       "2    32259\n",
       "0    22824\n",
       "1     4317\n",
       "Name: status_group, dtype: int64"
      ]
     },
     "execution_count": 94,
     "metadata": {},
     "output_type": "execute_result"
    }
   ],
   "source": [
    "# Manually encode the target variable\n",
    "\n",
    "# map out the current groups to their respective values\n",
    "map_status_group = {\n",
    "    \"functional\": 2,\n",
    "    \"functional needs repair\": 1,\n",
    "    \"non functional\": 0\n",
    "}\n",
    "\n",
    "# apply the map to the status_group column\n",
    "train_data[\"status_group\"] = train_data[\"status_group\"].map(map_status_group)\n",
    "\n",
    "# check the encoded values\n",
    "train_data.status_group.value_counts()"
   ]
  },
  {
   "cell_type": "code",
   "execution_count": 95,
   "id": "e7b3f423",
   "metadata": {},
   "outputs": [
    {
     "data": {
      "text/html": [
       "<div>\n",
       "<style scoped>\n",
       "    .dataframe tbody tr th:only-of-type {\n",
       "        vertical-align: middle;\n",
       "    }\n",
       "\n",
       "    .dataframe tbody tr th {\n",
       "        vertical-align: top;\n",
       "    }\n",
       "\n",
       "    .dataframe thead th {\n",
       "        text-align: right;\n",
       "    }\n",
       "</style>\n",
       "<table border=\"1\" class=\"dataframe\">\n",
       "  <thead>\n",
       "    <tr style=\"text-align: right;\">\n",
       "      <th></th>\n",
       "      <th>amount_tsh</th>\n",
       "      <th>funder</th>\n",
       "      <th>installer</th>\n",
       "      <th>basin</th>\n",
       "      <th>region</th>\n",
       "      <th>population</th>\n",
       "      <th>public_meeting</th>\n",
       "      <th>scheme_management</th>\n",
       "      <th>permit</th>\n",
       "      <th>construction_year</th>\n",
       "      <th>extraction_type</th>\n",
       "      <th>payment</th>\n",
       "      <th>water_quality</th>\n",
       "      <th>quantity</th>\n",
       "      <th>source</th>\n",
       "      <th>source_class</th>\n",
       "      <th>waterpoint_type</th>\n",
       "      <th>status_group</th>\n",
       "      <th>days_elapsed</th>\n",
       "    </tr>\n",
       "  </thead>\n",
       "  <tbody>\n",
       "    <tr>\n",
       "      <th>0</th>\n",
       "      <td>6000.0</td>\n",
       "      <td>3</td>\n",
       "      <td>4</td>\n",
       "      <td>1</td>\n",
       "      <td>1</td>\n",
       "      <td>109</td>\n",
       "      <td>1</td>\n",
       "      <td>4</td>\n",
       "      <td>0</td>\n",
       "      <td>5</td>\n",
       "      <td>1</td>\n",
       "      <td>2</td>\n",
       "      <td>6</td>\n",
       "      <td>1</td>\n",
       "      <td>8</td>\n",
       "      <td>0</td>\n",
       "      <td>1</td>\n",
       "      <td>2</td>\n",
       "      <td>995</td>\n",
       "    </tr>\n",
       "    <tr>\n",
       "      <th>1</th>\n",
       "      <td>0.0</td>\n",
       "      <td>3</td>\n",
       "      <td>4</td>\n",
       "      <td>4</td>\n",
       "      <td>0</td>\n",
       "      <td>280</td>\n",
       "      <td>1</td>\n",
       "      <td>1</td>\n",
       "      <td>1</td>\n",
       "      <td>1</td>\n",
       "      <td>1</td>\n",
       "      <td>0</td>\n",
       "      <td>6</td>\n",
       "      <td>2</td>\n",
       "      <td>5</td>\n",
       "      <td>1</td>\n",
       "      <td>1</td>\n",
       "      <td>2</td>\n",
       "      <td>272</td>\n",
       "    </tr>\n",
       "    <tr>\n",
       "      <th>2</th>\n",
       "      <td>25.0</td>\n",
       "      <td>3</td>\n",
       "      <td>4</td>\n",
       "      <td>5</td>\n",
       "      <td>0</td>\n",
       "      <td>250</td>\n",
       "      <td>1</td>\n",
       "      <td>4</td>\n",
       "      <td>1</td>\n",
       "      <td>0</td>\n",
       "      <td>1</td>\n",
       "      <td>4</td>\n",
       "      <td>6</td>\n",
       "      <td>1</td>\n",
       "      <td>0</td>\n",
       "      <td>1</td>\n",
       "      <td>2</td>\n",
       "      <td>2</td>\n",
       "      <td>281</td>\n",
       "    </tr>\n",
       "    <tr>\n",
       "      <th>3</th>\n",
       "      <td>0.0</td>\n",
       "      <td>3</td>\n",
       "      <td>4</td>\n",
       "      <td>7</td>\n",
       "      <td>0</td>\n",
       "      <td>58</td>\n",
       "      <td>1</td>\n",
       "      <td>4</td>\n",
       "      <td>1</td>\n",
       "      <td>4</td>\n",
       "      <td>3</td>\n",
       "      <td>0</td>\n",
       "      <td>6</td>\n",
       "      <td>0</td>\n",
       "      <td>3</td>\n",
       "      <td>0</td>\n",
       "      <td>2</td>\n",
       "      <td>0</td>\n",
       "      <td>309</td>\n",
       "    </tr>\n",
       "    <tr>\n",
       "      <th>4</th>\n",
       "      <td>0.0</td>\n",
       "      <td>3</td>\n",
       "      <td>4</td>\n",
       "      <td>4</td>\n",
       "      <td>0</td>\n",
       "      <td>0</td>\n",
       "      <td>1</td>\n",
       "      <td>1</td>\n",
       "      <td>1</td>\n",
       "      <td>6</td>\n",
       "      <td>1</td>\n",
       "      <td>0</td>\n",
       "      <td>6</td>\n",
       "      <td>3</td>\n",
       "      <td>5</td>\n",
       "      <td>1</td>\n",
       "      <td>1</td>\n",
       "      <td>2</td>\n",
       "      <td>874</td>\n",
       "    </tr>\n",
       "    <tr>\n",
       "      <th>5</th>\n",
       "      <td>20.0</td>\n",
       "      <td>3</td>\n",
       "      <td>1</td>\n",
       "      <td>5</td>\n",
       "      <td>0</td>\n",
       "      <td>1</td>\n",
       "      <td>1</td>\n",
       "      <td>4</td>\n",
       "      <td>1</td>\n",
       "      <td>0</td>\n",
       "      <td>3</td>\n",
       "      <td>4</td>\n",
       "      <td>4</td>\n",
       "      <td>1</td>\n",
       "      <td>4</td>\n",
       "      <td>2</td>\n",
       "      <td>2</td>\n",
       "      <td>2</td>\n",
       "      <td>996</td>\n",
       "    </tr>\n",
       "    <tr>\n",
       "      <th>6</th>\n",
       "      <td>0.0</td>\n",
       "      <td>3</td>\n",
       "      <td>4</td>\n",
       "      <td>0</td>\n",
       "      <td>5</td>\n",
       "      <td>0</td>\n",
       "      <td>1</td>\n",
       "      <td>4</td>\n",
       "      <td>1</td>\n",
       "      <td>6</td>\n",
       "      <td>0</td>\n",
       "      <td>0</td>\n",
       "      <td>6</td>\n",
       "      <td>1</td>\n",
       "      <td>3</td>\n",
       "      <td>0</td>\n",
       "      <td>4</td>\n",
       "      <td>0</td>\n",
       "      <td>428</td>\n",
       "    </tr>\n",
       "    <tr>\n",
       "      <th>7</th>\n",
       "      <td>0.0</td>\n",
       "      <td>4</td>\n",
       "      <td>1</td>\n",
       "      <td>3</td>\n",
       "      <td>5</td>\n",
       "      <td>0</td>\n",
       "      <td>1</td>\n",
       "      <td>1</td>\n",
       "      <td>1</td>\n",
       "      <td>6</td>\n",
       "      <td>2</td>\n",
       "      <td>6</td>\n",
       "      <td>3</td>\n",
       "      <td>1</td>\n",
       "      <td>7</td>\n",
       "      <td>0</td>\n",
       "      <td>4</td>\n",
       "      <td>0</td>\n",
       "      <td>420</td>\n",
       "    </tr>\n",
       "    <tr>\n",
       "      <th>8</th>\n",
       "      <td>0.0</td>\n",
       "      <td>3</td>\n",
       "      <td>4</td>\n",
       "      <td>3</td>\n",
       "      <td>0</td>\n",
       "      <td>0</td>\n",
       "      <td>1</td>\n",
       "      <td>4</td>\n",
       "      <td>1</td>\n",
       "      <td>6</td>\n",
       "      <td>0</td>\n",
       "      <td>0</td>\n",
       "      <td>4</td>\n",
       "      <td>3</td>\n",
       "      <td>3</td>\n",
       "      <td>0</td>\n",
       "      <td>4</td>\n",
       "      <td>0</td>\n",
       "      <td>395</td>\n",
       "    </tr>\n",
       "    <tr>\n",
       "      <th>9</th>\n",
       "      <td>0.0</td>\n",
       "      <td>3</td>\n",
       "      <td>4</td>\n",
       "      <td>4</td>\n",
       "      <td>0</td>\n",
       "      <td>0</td>\n",
       "      <td>1</td>\n",
       "      <td>1</td>\n",
       "      <td>1</td>\n",
       "      <td>6</td>\n",
       "      <td>2</td>\n",
       "      <td>0</td>\n",
       "      <td>6</td>\n",
       "      <td>1</td>\n",
       "      <td>7</td>\n",
       "      <td>0</td>\n",
       "      <td>4</td>\n",
       "      <td>2</td>\n",
       "      <td>853</td>\n",
       "    </tr>\n",
       "  </tbody>\n",
       "</table>\n",
       "</div>"
      ],
      "text/plain": [
       "   amount_tsh  funder  installer  basin  region  population  public_meeting  \\\n",
       "0      6000.0       3          4      1       1         109               1   \n",
       "1         0.0       3          4      4       0         280               1   \n",
       "2        25.0       3          4      5       0         250               1   \n",
       "3         0.0       3          4      7       0          58               1   \n",
       "4         0.0       3          4      4       0           0               1   \n",
       "5        20.0       3          1      5       0           1               1   \n",
       "6         0.0       3          4      0       5           0               1   \n",
       "7         0.0       4          1      3       5           0               1   \n",
       "8         0.0       3          4      3       0           0               1   \n",
       "9         0.0       3          4      4       0           0               1   \n",
       "\n",
       "   scheme_management  permit  construction_year  extraction_type  payment  \\\n",
       "0                  4       0                  5                1        2   \n",
       "1                  1       1                  1                1        0   \n",
       "2                  4       1                  0                1        4   \n",
       "3                  4       1                  4                3        0   \n",
       "4                  1       1                  6                1        0   \n",
       "5                  4       1                  0                3        4   \n",
       "6                  4       1                  6                0        0   \n",
       "7                  1       1                  6                2        6   \n",
       "8                  4       1                  6                0        0   \n",
       "9                  1       1                  6                2        0   \n",
       "\n",
       "   water_quality  quantity  source  source_class  waterpoint_type  \\\n",
       "0              6         1       8             0                1   \n",
       "1              6         2       5             1                1   \n",
       "2              6         1       0             1                2   \n",
       "3              6         0       3             0                2   \n",
       "4              6         3       5             1                1   \n",
       "5              4         1       4             2                2   \n",
       "6              6         1       3             0                4   \n",
       "7              3         1       7             0                4   \n",
       "8              4         3       3             0                4   \n",
       "9              6         1       7             0                4   \n",
       "\n",
       "   status_group  days_elapsed  \n",
       "0             2           995  \n",
       "1             2           272  \n",
       "2             2           281  \n",
       "3             0           309  \n",
       "4             2           874  \n",
       "5             2           996  \n",
       "6             0           428  \n",
       "7             0           420  \n",
       "8             0           395  \n",
       "9             2           853  "
      ]
     },
     "execution_count": 95,
     "metadata": {},
     "output_type": "execute_result"
    }
   ],
   "source": [
    "# Check the top 10 rows of the encoded data\n",
    "train_data.head(10)"
   ]
  },
  {
   "cell_type": "code",
   "execution_count": 96,
   "id": "1c503a75",
   "metadata": {},
   "outputs": [
    {
     "name": "stdout",
     "output_type": "stream",
     "text": [
      "<class 'pandas.core.frame.DataFrame'>\n",
      "Int64Index: 59400 entries, 0 to 59399\n",
      "Data columns (total 19 columns):\n",
      " #   Column             Non-Null Count  Dtype  \n",
      "---  ------             --------------  -----  \n",
      " 0   amount_tsh         59400 non-null  float64\n",
      " 1   funder             59400 non-null  int32  \n",
      " 2   installer          59400 non-null  int32  \n",
      " 3   basin              59400 non-null  int32  \n",
      " 4   region             59400 non-null  int32  \n",
      " 5   population         59400 non-null  int64  \n",
      " 6   public_meeting     59400 non-null  int64  \n",
      " 7   scheme_management  59400 non-null  int32  \n",
      " 8   permit             59400 non-null  int32  \n",
      " 9   construction_year  59400 non-null  int32  \n",
      " 10  extraction_type    59400 non-null  int32  \n",
      " 11  payment            59400 non-null  int32  \n",
      " 12  water_quality      59400 non-null  int32  \n",
      " 13  quantity           59400 non-null  int32  \n",
      " 14  source             59400 non-null  int32  \n",
      " 15  source_class       59400 non-null  int32  \n",
      " 16  waterpoint_type    59400 non-null  int32  \n",
      " 17  status_group       59400 non-null  int64  \n",
      " 18  days_elapsed       59400 non-null  int64  \n",
      "dtypes: float64(1), int32(14), int64(4)\n",
      "memory usage: 5.9 MB\n"
     ]
    }
   ],
   "source": [
    "train_data.info()"
   ]
  },
  {
   "cell_type": "markdown",
   "id": "586254ce",
   "metadata": {},
   "source": [
    "##### There is no strong correlation between the independent features."
   ]
  },
  {
   "cell_type": "markdown",
   "id": "6c3a7cc8",
   "metadata": {},
   "source": [
    "### Data Preparation for the Test Set"
   ]
  },
  {
   "cell_type": "markdown",
   "id": "ee4b56b5",
   "metadata": {},
   "source": [
    "##### Handling missing values "
   ]
  },
  {
   "cell_type": "code",
   "execution_count": 97,
   "id": "e3cae09a",
   "metadata": {},
   "outputs": [
    {
     "data": {
      "text/plain": [
       "id                          0\n",
       "amount_tsh                  0\n",
       "date_recorded               0\n",
       "funder                      0\n",
       "gps_height                  0\n",
       "installer                   0\n",
       "longitude                   0\n",
       "latitude                    0\n",
       "wpt_name                    0\n",
       "num_private                 0\n",
       "basin                       0\n",
       "subvillage                 99\n",
       "region                      0\n",
       "region_code                 0\n",
       "district_code               0\n",
       "lga                         0\n",
       "ward                        0\n",
       "population                  0\n",
       "public_meeting              0\n",
       "recorded_by                 0\n",
       "scheme_management           0\n",
       "scheme_name              7092\n",
       "permit                      0\n",
       "construction_year           0\n",
       "extraction_type             0\n",
       "extraction_type_group       0\n",
       "extraction_type_class       0\n",
       "management                  0\n",
       "management_group            0\n",
       "payment                     0\n",
       "payment_type                0\n",
       "water_quality               0\n",
       "quality_group               0\n",
       "quantity                    0\n",
       "quantity_group              0\n",
       "source                      0\n",
       "source_type                 0\n",
       "source_class                0\n",
       "waterpoint_type             0\n",
       "waterpoint_type_group       0\n",
       "dtype: int64"
      ]
     },
     "execution_count": 97,
     "metadata": {},
     "output_type": "execute_result"
    }
   ],
   "source": [
    "# check for missing values\n",
    "test_values.apply(lambda x: sum(x.isnull()))\n",
    "\n",
    "# apply 'mergeFunder' function to the funder column\n",
    "test_values[\"funder\"] = test_values.funder.apply(mergeFunders)\n",
    "\n",
    "# Apply the 'mergeInstaller' function to the 'installer' column\n",
    "test_values[\"installer\"] = test_values.installer.apply(mergeInstallers)\n",
    "\n",
    "# Ignore the missing values in the 'subvillage' column because it will be dropped.\n",
    "\n",
    "# Fill the NAs on the 'public_meeting' column with the mode value\n",
    "test_values[\"public_meeting\"] = test_values.public_meeting.fillna(test_values.public_meeting.mode()[0])\n",
    "\n",
    "# Apply the 'mergeSchemeManagement' function to the 'scheme_management' column\n",
    "test_values[\"scheme_management\"] = test_values.scheme_management.apply(mergeSchemeManagement)\n",
    "\n",
    "# Ignore the scheme name column because it will be dropped\n",
    "\n",
    "# Impute the missing values with the mode\n",
    "test_values[\"permit\"] = test_values.permit.fillna(test_values.permit.mode()[0])\n",
    "\n",
    "# check again for missing values in the data\n",
    "test_values.isnull().sum()"
   ]
  },
  {
   "cell_type": "markdown",
   "id": "4cabe875",
   "metadata": {},
   "source": [
    "##### Handle data types and merging values"
   ]
  },
  {
   "cell_type": "code",
   "execution_count": 98,
   "id": "40e54cac",
   "metadata": {},
   "outputs": [],
   "source": [
    "# Apply the 'mergeRegion' function to the 'region' column\n",
    "test_values[\"region\"] = test_values.region.apply(mergeRegion)\n",
    "\n",
    "# Apply the 'mergeExtraction' function to the 'extraction_type' column\n",
    "test_values[\"extraction_type\"] = test_values.extraction_type.apply(mergeExtraction)\n",
    "\n",
    "# create a new column 'days_elapsed' to represent the number of days that have elapsed since the date \n",
    "# the data for that project was recorded and the date of the most recent recorded project.\n",
    "test_values.date_recorded = pd.to_datetime(test_values.date_recorded)\n",
    "test_values[\"days_elapsed\"] =  test_values.date_recorded.map(lambda x: (datetime(2013, 12, 3) - x).days)\n",
    "\n",
    "# apply the 'constructonYearMerger' function to the construction_year column\n",
    "test_values[\"construction_year\"] = test_values.construction_year.apply(constructionYearMerger)"
   ]
  },
  {
   "cell_type": "markdown",
   "id": "f8bed0f0",
   "metadata": {},
   "source": [
    "##### Drop unnecessary columns"
   ]
  },
  {
   "cell_type": "code",
   "execution_count": 99,
   "id": "44ffa775",
   "metadata": {},
   "outputs": [],
   "source": [
    "# drop the unnecessary columns that were dropped in the training set\n",
    "cols_to_drop = [\"id\", \"date_recorded\", \"gps_height\", \"longitude\", \"latitude\", \"wpt_name\", \"num_private\", \"subvillage\", \"region_code\",\n",
    "               \"district_code\", \"lga\", \"ward\", \"recorded_by\", \"scheme_name\", \"extraction_type_group\", \"extraction_type_class\", \n",
    "               \"management\", \"management_group\", \"payment_type\", \"quality_group\", \"quantity_group\", \"source_type\", \"waterpoint_type_group\"]\n",
    "test_values.drop(columns=cols_to_drop, inplace=True)"
   ]
  },
  {
   "cell_type": "code",
   "execution_count": 100,
   "id": "4b7d68e3",
   "metadata": {},
   "outputs": [
    {
     "name": "stdout",
     "output_type": "stream",
     "text": [
      "<class 'pandas.core.frame.DataFrame'>\n",
      "RangeIndex: 14850 entries, 0 to 14849\n",
      "Data columns (total 18 columns):\n",
      " #   Column             Non-Null Count  Dtype  \n",
      "---  ------             --------------  -----  \n",
      " 0   amount_tsh         14850 non-null  float64\n",
      " 1   funder             14850 non-null  object \n",
      " 2   installer          14850 non-null  object \n",
      " 3   basin              14850 non-null  object \n",
      " 4   region             14850 non-null  object \n",
      " 5   population         14850 non-null  int64  \n",
      " 6   public_meeting     14850 non-null  bool   \n",
      " 7   scheme_management  14850 non-null  object \n",
      " 8   permit             14850 non-null  bool   \n",
      " 9   construction_year  14850 non-null  object \n",
      " 10  extraction_type    14850 non-null  object \n",
      " 11  payment            14850 non-null  object \n",
      " 12  water_quality      14850 non-null  object \n",
      " 13  quantity           14850 non-null  object \n",
      " 14  source             14850 non-null  object \n",
      " 15  source_class       14850 non-null  object \n",
      " 16  waterpoint_type    14850 non-null  object \n",
      " 17  days_elapsed       14850 non-null  int64  \n",
      "dtypes: bool(2), float64(1), int64(2), object(13)\n",
      "memory usage: 1.8+ MB\n"
     ]
    }
   ],
   "source": [
    "# Inspect the remaining columns (check data types)\n",
    "test_values.info()"
   ]
  },
  {
   "cell_type": "markdown",
   "id": "60d705f6",
   "metadata": {},
   "source": [
    "##### Label Encoding"
   ]
  },
  {
   "cell_type": "code",
   "execution_count": 101,
   "id": "143293fd",
   "metadata": {},
   "outputs": [],
   "source": [
    "# Encode the labels of the categorical variables\n",
    "test_values[categorical_cols] = test_values[categorical_cols].apply(LabelEncoder().fit_transform)\n",
    "\n",
    "# Encode the two boolean columns, \"permit\" and \"public_meeting\"\n",
    "test_values['public_meeting'] = test_values['public_meeting'].replace({True: 1, False: 0})\n",
    "test_values['permit'] = test_values['permit'].replace({True: 1, False: 0})"
   ]
  },
  {
   "cell_type": "code",
   "execution_count": 102,
   "id": "6cdbd5ea",
   "metadata": {},
   "outputs": [
    {
     "data": {
      "text/html": [
       "<div>\n",
       "<style scoped>\n",
       "    .dataframe tbody tr th:only-of-type {\n",
       "        vertical-align: middle;\n",
       "    }\n",
       "\n",
       "    .dataframe tbody tr th {\n",
       "        vertical-align: top;\n",
       "    }\n",
       "\n",
       "    .dataframe thead th {\n",
       "        text-align: right;\n",
       "    }\n",
       "</style>\n",
       "<table border=\"1\" class=\"dataframe\">\n",
       "  <thead>\n",
       "    <tr style=\"text-align: right;\">\n",
       "      <th></th>\n",
       "      <th>amount_tsh</th>\n",
       "      <th>funder</th>\n",
       "      <th>installer</th>\n",
       "      <th>basin</th>\n",
       "      <th>region</th>\n",
       "      <th>population</th>\n",
       "      <th>public_meeting</th>\n",
       "      <th>scheme_management</th>\n",
       "      <th>permit</th>\n",
       "      <th>construction_year</th>\n",
       "      <th>extraction_type</th>\n",
       "      <th>payment</th>\n",
       "      <th>water_quality</th>\n",
       "      <th>quantity</th>\n",
       "      <th>source</th>\n",
       "      <th>source_class</th>\n",
       "      <th>waterpoint_type</th>\n",
       "      <th>days_elapsed</th>\n",
       "    </tr>\n",
       "  </thead>\n",
       "  <tbody>\n",
       "    <tr>\n",
       "      <th>0</th>\n",
       "      <td>0.0</td>\n",
       "      <td>3</td>\n",
       "      <td>4</td>\n",
       "      <td>0</td>\n",
       "      <td>0</td>\n",
       "      <td>321</td>\n",
       "      <td>1</td>\n",
       "      <td>2</td>\n",
       "      <td>1</td>\n",
       "      <td>1</td>\n",
       "      <td>0</td>\n",
       "      <td>0</td>\n",
       "      <td>6</td>\n",
       "      <td>3</td>\n",
       "      <td>5</td>\n",
       "      <td>1</td>\n",
       "      <td>6</td>\n",
       "      <td>302</td>\n",
       "    </tr>\n",
       "    <tr>\n",
       "      <th>1</th>\n",
       "      <td>0.0</td>\n",
       "      <td>1</td>\n",
       "      <td>1</td>\n",
       "      <td>5</td>\n",
       "      <td>0</td>\n",
       "      <td>300</td>\n",
       "      <td>1</td>\n",
       "      <td>4</td>\n",
       "      <td>1</td>\n",
       "      <td>0</td>\n",
       "      <td>1</td>\n",
       "      <td>0</td>\n",
       "      <td>6</td>\n",
       "      <td>2</td>\n",
       "      <td>8</td>\n",
       "      <td>0</td>\n",
       "      <td>1</td>\n",
       "      <td>302</td>\n",
       "    </tr>\n",
       "    <tr>\n",
       "      <th>2</th>\n",
       "      <td>0.0</td>\n",
       "      <td>3</td>\n",
       "      <td>4</td>\n",
       "      <td>0</td>\n",
       "      <td>0</td>\n",
       "      <td>500</td>\n",
       "      <td>1</td>\n",
       "      <td>4</td>\n",
       "      <td>1</td>\n",
       "      <td>1</td>\n",
       "      <td>0</td>\n",
       "      <td>0</td>\n",
       "      <td>6</td>\n",
       "      <td>2</td>\n",
       "      <td>5</td>\n",
       "      <td>1</td>\n",
       "      <td>6</td>\n",
       "      <td>305</td>\n",
       "    </tr>\n",
       "    <tr>\n",
       "      <th>3</th>\n",
       "      <td>0.0</td>\n",
       "      <td>3</td>\n",
       "      <td>4</td>\n",
       "      <td>7</td>\n",
       "      <td>0</td>\n",
       "      <td>250</td>\n",
       "      <td>1</td>\n",
       "      <td>4</td>\n",
       "      <td>1</td>\n",
       "      <td>4</td>\n",
       "      <td>0</td>\n",
       "      <td>6</td>\n",
       "      <td>6</td>\n",
       "      <td>0</td>\n",
       "      <td>7</td>\n",
       "      <td>0</td>\n",
       "      <td>6</td>\n",
       "      <td>315</td>\n",
       "    </tr>\n",
       "    <tr>\n",
       "      <th>4</th>\n",
       "      <td>500.0</td>\n",
       "      <td>3</td>\n",
       "      <td>4</td>\n",
       "      <td>7</td>\n",
       "      <td>0</td>\n",
       "      <td>60</td>\n",
       "      <td>1</td>\n",
       "      <td>7</td>\n",
       "      <td>1</td>\n",
       "      <td>0</td>\n",
       "      <td>1</td>\n",
       "      <td>3</td>\n",
       "      <td>6</td>\n",
       "      <td>1</td>\n",
       "      <td>8</td>\n",
       "      <td>0</td>\n",
       "      <td>1</td>\n",
       "      <td>251</td>\n",
       "    </tr>\n",
       "    <tr>\n",
       "      <th>5</th>\n",
       "      <td>0.0</td>\n",
       "      <td>1</td>\n",
       "      <td>1</td>\n",
       "      <td>5</td>\n",
       "      <td>0</td>\n",
       "      <td>200</td>\n",
       "      <td>1</td>\n",
       "      <td>4</td>\n",
       "      <td>1</td>\n",
       "      <td>5</td>\n",
       "      <td>1</td>\n",
       "      <td>0</td>\n",
       "      <td>6</td>\n",
       "      <td>1</td>\n",
       "      <td>8</td>\n",
       "      <td>0</td>\n",
       "      <td>1</td>\n",
       "      <td>274</td>\n",
       "    </tr>\n",
       "    <tr>\n",
       "      <th>6</th>\n",
       "      <td>0.0</td>\n",
       "      <td>1</td>\n",
       "      <td>4</td>\n",
       "      <td>6</td>\n",
       "      <td>1</td>\n",
       "      <td>600</td>\n",
       "      <td>1</td>\n",
       "      <td>4</td>\n",
       "      <td>1</td>\n",
       "      <td>0</td>\n",
       "      <td>0</td>\n",
       "      <td>0</td>\n",
       "      <td>4</td>\n",
       "      <td>1</td>\n",
       "      <td>3</td>\n",
       "      <td>0</td>\n",
       "      <td>4</td>\n",
       "      <td>1007</td>\n",
       "    </tr>\n",
       "    <tr>\n",
       "      <th>7</th>\n",
       "      <td>0.0</td>\n",
       "      <td>3</td>\n",
       "      <td>4</td>\n",
       "      <td>7</td>\n",
       "      <td>0</td>\n",
       "      <td>1</td>\n",
       "      <td>1</td>\n",
       "      <td>7</td>\n",
       "      <td>1</td>\n",
       "      <td>4</td>\n",
       "      <td>3</td>\n",
       "      <td>0</td>\n",
       "      <td>6</td>\n",
       "      <td>0</td>\n",
       "      <td>3</td>\n",
       "      <td>0</td>\n",
       "      <td>2</td>\n",
       "      <td>312</td>\n",
       "    </tr>\n",
       "    <tr>\n",
       "      <th>8</th>\n",
       "      <td>30.0</td>\n",
       "      <td>3</td>\n",
       "      <td>4</td>\n",
       "      <td>7</td>\n",
       "      <td>0</td>\n",
       "      <td>40</td>\n",
       "      <td>1</td>\n",
       "      <td>4</td>\n",
       "      <td>0</td>\n",
       "      <td>5</td>\n",
       "      <td>1</td>\n",
       "      <td>4</td>\n",
       "      <td>6</td>\n",
       "      <td>2</td>\n",
       "      <td>8</td>\n",
       "      <td>0</td>\n",
       "      <td>1</td>\n",
       "      <td>314</td>\n",
       "    </tr>\n",
       "    <tr>\n",
       "      <th>9</th>\n",
       "      <td>0.0</td>\n",
       "      <td>3</td>\n",
       "      <td>4</td>\n",
       "      <td>5</td>\n",
       "      <td>2</td>\n",
       "      <td>1</td>\n",
       "      <td>1</td>\n",
       "      <td>7</td>\n",
       "      <td>1</td>\n",
       "      <td>0</td>\n",
       "      <td>1</td>\n",
       "      <td>3</td>\n",
       "      <td>6</td>\n",
       "      <td>1</td>\n",
       "      <td>8</td>\n",
       "      <td>0</td>\n",
       "      <td>1</td>\n",
       "      <td>260</td>\n",
       "    </tr>\n",
       "  </tbody>\n",
       "</table>\n",
       "</div>"
      ],
      "text/plain": [
       "   amount_tsh  funder  installer  basin  region  population  public_meeting  \\\n",
       "0         0.0       3          4      0       0         321               1   \n",
       "1         0.0       1          1      5       0         300               1   \n",
       "2         0.0       3          4      0       0         500               1   \n",
       "3         0.0       3          4      7       0         250               1   \n",
       "4       500.0       3          4      7       0          60               1   \n",
       "5         0.0       1          1      5       0         200               1   \n",
       "6         0.0       1          4      6       1         600               1   \n",
       "7         0.0       3          4      7       0           1               1   \n",
       "8        30.0       3          4      7       0          40               1   \n",
       "9         0.0       3          4      5       2           1               1   \n",
       "\n",
       "   scheme_management  permit  construction_year  extraction_type  payment  \\\n",
       "0                  2       1                  1                0        0   \n",
       "1                  4       1                  0                1        0   \n",
       "2                  4       1                  1                0        0   \n",
       "3                  4       1                  4                0        6   \n",
       "4                  7       1                  0                1        3   \n",
       "5                  4       1                  5                1        0   \n",
       "6                  4       1                  0                0        0   \n",
       "7                  7       1                  4                3        0   \n",
       "8                  4       0                  5                1        4   \n",
       "9                  7       1                  0                1        3   \n",
       "\n",
       "   water_quality  quantity  source  source_class  waterpoint_type  \\\n",
       "0              6         3       5             1                6   \n",
       "1              6         2       8             0                1   \n",
       "2              6         2       5             1                6   \n",
       "3              6         0       7             0                6   \n",
       "4              6         1       8             0                1   \n",
       "5              6         1       8             0                1   \n",
       "6              4         1       3             0                4   \n",
       "7              6         0       3             0                2   \n",
       "8              6         2       8             0                1   \n",
       "9              6         1       8             0                1   \n",
       "\n",
       "   days_elapsed  \n",
       "0           302  \n",
       "1           302  \n",
       "2           305  \n",
       "3           315  \n",
       "4           251  \n",
       "5           274  \n",
       "6          1007  \n",
       "7           312  \n",
       "8           314  \n",
       "9           260  "
      ]
     },
     "execution_count": 102,
     "metadata": {},
     "output_type": "execute_result"
    }
   ],
   "source": [
    "# Check the top 10 rows of the encoded data\n",
    "test_values.head(10)"
   ]
  },
  {
   "cell_type": "code",
   "execution_count": 103,
   "id": "6ed8211d",
   "metadata": {},
   "outputs": [
    {
     "name": "stdout",
     "output_type": "stream",
     "text": [
      "<class 'pandas.core.frame.DataFrame'>\n",
      "RangeIndex: 14850 entries, 0 to 14849\n",
      "Data columns (total 18 columns):\n",
      " #   Column             Non-Null Count  Dtype  \n",
      "---  ------             --------------  -----  \n",
      " 0   amount_tsh         14850 non-null  float64\n",
      " 1   funder             14850 non-null  int32  \n",
      " 2   installer          14850 non-null  int32  \n",
      " 3   basin              14850 non-null  int32  \n",
      " 4   region             14850 non-null  int32  \n",
      " 5   population         14850 non-null  int64  \n",
      " 6   public_meeting     14850 non-null  int64  \n",
      " 7   scheme_management  14850 non-null  int32  \n",
      " 8   permit             14850 non-null  int64  \n",
      " 9   construction_year  14850 non-null  int32  \n",
      " 10  extraction_type    14850 non-null  int32  \n",
      " 11  payment            14850 non-null  int32  \n",
      " 12  water_quality      14850 non-null  int32  \n",
      " 13  quantity           14850 non-null  int32  \n",
      " 14  source             14850 non-null  int32  \n",
      " 15  source_class       14850 non-null  int32  \n",
      " 16  waterpoint_type    14850 non-null  int32  \n",
      " 17  days_elapsed       14850 non-null  int64  \n",
      "dtypes: float64(1), int32(13), int64(4)\n",
      "memory usage: 1.3 MB\n"
     ]
    }
   ],
   "source": [
    "# confirm that all the columns are good\n",
    "test_values.info()"
   ]
  },
  {
   "cell_type": "markdown",
   "id": "0b601361",
   "metadata": {},
   "source": [
    "###### The test set is now ready."
   ]
  },
  {
   "cell_type": "markdown",
   "id": "3545ab88",
   "metadata": {},
   "source": [
    "### Data Pre-processing and Selection"
   ]
  },
  {
   "cell_type": "code",
   "execution_count": 104,
   "id": "94a6fd2d",
   "metadata": {},
   "outputs": [
    {
     "data": {
      "text/html": [
       "<div>\n",
       "<style scoped>\n",
       "    .dataframe tbody tr th:only-of-type {\n",
       "        vertical-align: middle;\n",
       "    }\n",
       "\n",
       "    .dataframe tbody tr th {\n",
       "        vertical-align: top;\n",
       "    }\n",
       "\n",
       "    .dataframe thead th {\n",
       "        text-align: right;\n",
       "    }\n",
       "</style>\n",
       "<table border=\"1\" class=\"dataframe\">\n",
       "  <thead>\n",
       "    <tr style=\"text-align: right;\">\n",
       "      <th></th>\n",
       "      <th>amount_tsh</th>\n",
       "      <th>funder</th>\n",
       "      <th>installer</th>\n",
       "      <th>basin</th>\n",
       "      <th>region</th>\n",
       "      <th>population</th>\n",
       "      <th>public_meeting</th>\n",
       "      <th>scheme_management</th>\n",
       "      <th>permit</th>\n",
       "      <th>construction_year</th>\n",
       "      <th>extraction_type</th>\n",
       "      <th>payment</th>\n",
       "      <th>water_quality</th>\n",
       "      <th>quantity</th>\n",
       "      <th>source</th>\n",
       "      <th>source_class</th>\n",
       "      <th>waterpoint_type</th>\n",
       "      <th>days_elapsed</th>\n",
       "    </tr>\n",
       "  </thead>\n",
       "  <tbody>\n",
       "    <tr>\n",
       "      <th>0</th>\n",
       "      <td>6000.0</td>\n",
       "      <td>3</td>\n",
       "      <td>4</td>\n",
       "      <td>1</td>\n",
       "      <td>1</td>\n",
       "      <td>109</td>\n",
       "      <td>1</td>\n",
       "      <td>4</td>\n",
       "      <td>0</td>\n",
       "      <td>5</td>\n",
       "      <td>1</td>\n",
       "      <td>2</td>\n",
       "      <td>6</td>\n",
       "      <td>1</td>\n",
       "      <td>8</td>\n",
       "      <td>0</td>\n",
       "      <td>1</td>\n",
       "      <td>995</td>\n",
       "    </tr>\n",
       "    <tr>\n",
       "      <th>1</th>\n",
       "      <td>0.0</td>\n",
       "      <td>3</td>\n",
       "      <td>4</td>\n",
       "      <td>4</td>\n",
       "      <td>0</td>\n",
       "      <td>280</td>\n",
       "      <td>1</td>\n",
       "      <td>1</td>\n",
       "      <td>1</td>\n",
       "      <td>1</td>\n",
       "      <td>1</td>\n",
       "      <td>0</td>\n",
       "      <td>6</td>\n",
       "      <td>2</td>\n",
       "      <td>5</td>\n",
       "      <td>1</td>\n",
       "      <td>1</td>\n",
       "      <td>272</td>\n",
       "    </tr>\n",
       "    <tr>\n",
       "      <th>2</th>\n",
       "      <td>25.0</td>\n",
       "      <td>3</td>\n",
       "      <td>4</td>\n",
       "      <td>5</td>\n",
       "      <td>0</td>\n",
       "      <td>250</td>\n",
       "      <td>1</td>\n",
       "      <td>4</td>\n",
       "      <td>1</td>\n",
       "      <td>0</td>\n",
       "      <td>1</td>\n",
       "      <td>4</td>\n",
       "      <td>6</td>\n",
       "      <td>1</td>\n",
       "      <td>0</td>\n",
       "      <td>1</td>\n",
       "      <td>2</td>\n",
       "      <td>281</td>\n",
       "    </tr>\n",
       "    <tr>\n",
       "      <th>3</th>\n",
       "      <td>0.0</td>\n",
       "      <td>3</td>\n",
       "      <td>4</td>\n",
       "      <td>7</td>\n",
       "      <td>0</td>\n",
       "      <td>58</td>\n",
       "      <td>1</td>\n",
       "      <td>4</td>\n",
       "      <td>1</td>\n",
       "      <td>4</td>\n",
       "      <td>3</td>\n",
       "      <td>0</td>\n",
       "      <td>6</td>\n",
       "      <td>0</td>\n",
       "      <td>3</td>\n",
       "      <td>0</td>\n",
       "      <td>2</td>\n",
       "      <td>309</td>\n",
       "    </tr>\n",
       "    <tr>\n",
       "      <th>4</th>\n",
       "      <td>0.0</td>\n",
       "      <td>3</td>\n",
       "      <td>4</td>\n",
       "      <td>4</td>\n",
       "      <td>0</td>\n",
       "      <td>0</td>\n",
       "      <td>1</td>\n",
       "      <td>1</td>\n",
       "      <td>1</td>\n",
       "      <td>6</td>\n",
       "      <td>1</td>\n",
       "      <td>0</td>\n",
       "      <td>6</td>\n",
       "      <td>3</td>\n",
       "      <td>5</td>\n",
       "      <td>1</td>\n",
       "      <td>1</td>\n",
       "      <td>874</td>\n",
       "    </tr>\n",
       "  </tbody>\n",
       "</table>\n",
       "</div>"
      ],
      "text/plain": [
       "   amount_tsh  funder  installer  basin  region  population  public_meeting  \\\n",
       "0      6000.0       3          4      1       1         109               1   \n",
       "1         0.0       3          4      4       0         280               1   \n",
       "2        25.0       3          4      5       0         250               1   \n",
       "3         0.0       3          4      7       0          58               1   \n",
       "4         0.0       3          4      4       0           0               1   \n",
       "\n",
       "   scheme_management  permit  construction_year  extraction_type  payment  \\\n",
       "0                  4       0                  5                1        2   \n",
       "1                  1       1                  1                1        0   \n",
       "2                  4       1                  0                1        4   \n",
       "3                  4       1                  4                3        0   \n",
       "4                  1       1                  6                1        0   \n",
       "\n",
       "   water_quality  quantity  source  source_class  waterpoint_type  \\\n",
       "0              6         1       8             0                1   \n",
       "1              6         2       5             1                1   \n",
       "2              6         1       0             1                2   \n",
       "3              6         0       3             0                2   \n",
       "4              6         3       5             1                1   \n",
       "\n",
       "   days_elapsed  \n",
       "0           995  \n",
       "1           272  \n",
       "2           281  \n",
       "3           309  \n",
       "4           874  "
      ]
     },
     "execution_count": 104,
     "metadata": {},
     "output_type": "execute_result"
    }
   ],
   "source": [
    "# Define the independent features\n",
    "X = train_data.drop('status_group', axis=1)\n",
    "X.head()"
   ]
  },
  {
   "cell_type": "code",
   "execution_count": 105,
   "id": "347d780a",
   "metadata": {},
   "outputs": [
    {
     "data": {
      "text/plain": [
       "0    2\n",
       "1    2\n",
       "2    2\n",
       "3    0\n",
       "4    2\n",
       "Name: status_group, dtype: int64"
      ]
     },
     "execution_count": 105,
     "metadata": {},
     "output_type": "execute_result"
    }
   ],
   "source": [
    "# Define the target feature\n",
    "y = train_data['status_group']\n",
    "y.head()"
   ]
  },
  {
   "cell_type": "code",
   "execution_count": 106,
   "id": "4295190f",
   "metadata": {},
   "outputs": [
    {
     "data": {
      "text/plain": [
       "array([[ 1.89566509,  0.42159706,  0.69535865, -1.24427648, -0.09366826,\n",
       "        -0.15039928,  0.30498662, -0.11159635, -1.54784951,  0.62433042,\n",
       "         0.03829432, -0.14001756,  0.27276163, -0.40530054,  0.9521323 ,\n",
       "        -0.53841035, -0.8836145 ,  1.14113571],\n",
       "       [-0.10597003,  0.42159706,  0.69535865, -0.03120494, -0.67915646,\n",
       "         0.21228981,  0.30498662, -1.91209148,  0.64605764, -0.97781354,\n",
       "         0.03829432, -1.02059384,  0.27276163,  0.83887787, -0.52266887,\n",
       "         1.76507387, -0.8836145 , -1.02215173],\n",
       "       [-0.09762988,  0.42159706,  0.69535865,  0.37315224, -0.67915646,\n",
       "         0.14866014,  0.30498662, -0.11159635,  0.64605764, -1.37834953,\n",
       "         0.03829432,  0.74055872,  0.27276163, -0.40530054, -2.98067083,\n",
       "         1.76507387, -0.32226541, -0.99522284],\n",
       "       [-0.10597003,  0.42159706,  0.69535865,  1.1818666 , -0.67915646,\n",
       "        -0.25856971,  0.30498662, -0.11159635,  0.64605764,  0.22379443,\n",
       "         2.29045539, -1.02059384,  0.27276163, -1.64947895, -1.50586966,\n",
       "        -0.53841035, -0.32226541, -0.91144407],\n",
       "       [-0.10597003,  0.42159706,  0.69535865, -0.03120494, -0.67915646,\n",
       "        -0.38158706,  0.30498662, -1.91209148,  0.64605764,  1.02486641,\n",
       "         0.03829432, -1.02059384,  0.27276163,  2.08305628, -0.52266887,\n",
       "         1.76507387, -0.8836145 ,  0.77909176]])"
      ]
     },
     "execution_count": 106,
     "metadata": {},
     "output_type": "execute_result"
    }
   ],
   "source": [
    "#Normalize the data\n",
    "X = StandardScaler().fit(X).transform(X)\n",
    "X[0:5]"
   ]
  },
  {
   "cell_type": "code",
   "execution_count": 107,
   "id": "4861ee41",
   "metadata": {},
   "outputs": [
    {
     "data": {
      "text/plain": [
       "array([[-0.12857104,  0.41768436,  0.69743234, -1.6733681 , -0.68504285,\n",
       "         0.29156676,  0.30856687, -1.28632514,  0.64459212, -0.98103753,\n",
       "        -1.06684312, -1.01677397,  0.27441127,  2.09309852, -0.51663201,\n",
       "         1.77972569,  1.91178742, -0.93468486],\n",
       "       [-0.12857104, -1.5340503 , -1.39205056,  0.35456788, -0.68504285,\n",
       "         0.24683676,  0.30856687, -0.10617388,  0.64459212, -1.38031419,\n",
       "         0.04577858, -1.01677397,  0.27441127,  0.8428466 ,  0.94981947,\n",
       "        -0.53393329, -0.88603298, -0.93468486],\n",
       "       [-0.12857104,  0.41768436,  0.69743234, -1.6733681 , -0.68504285,\n",
       "         0.6728368 ,  0.30856687, -0.10617388,  0.64459212, -0.98103753,\n",
       "        -1.06684312, -1.01677397,  0.27441127,  0.8428466 , -0.51663201,\n",
       "         1.77972569,  1.91178742, -0.92582464],\n",
       "       [-0.12857104,  0.41768436,  0.69743234,  1.16574227, -0.68504285,\n",
       "         0.14033675,  0.30856687, -0.10617388,  0.64459212,  0.21679244,\n",
       "        -1.06684312,  1.6381673 ,  0.27441127, -1.65765725,  0.46100231,\n",
       "        -0.53393329,  1.91178742, -0.89629061],\n",
       "       [ 0.07056201,  0.41768436,  0.69743234,  1.16574227, -0.68504285,\n",
       "        -0.26436329,  0.30856687,  1.66405302,  0.64459212, -1.38031419,\n",
       "         0.04577858,  0.31069666,  0.27441127, -0.40740532,  0.94981947,\n",
       "        -0.53393329, -0.88603298, -1.08530844]])"
      ]
     },
     "execution_count": 107,
     "metadata": {},
     "output_type": "execute_result"
    }
   ],
   "source": [
    "#Normalize the test data\n",
    "X_test = StandardScaler().fit(test_values).transform(test_values)\n",
    "X_test[0:5]"
   ]
  },
  {
   "cell_type": "markdown",
   "id": "910231e5",
   "metadata": {},
   "source": [
    "###### We have normalized the data and is now ready for modeling."
   ]
  },
  {
   "cell_type": "markdown",
   "id": "659ac90b",
   "metadata": {},
   "source": [
    "### Model Building"
   ]
  },
  {
   "cell_type": "markdown",
   "id": "191e45a0",
   "metadata": {},
   "source": [
    "###### Split the data into training and validation sets"
   ]
  },
  {
   "cell_type": "code",
   "execution_count": 108,
   "id": "cd1eb09c",
   "metadata": {},
   "outputs": [
    {
     "name": "stdout",
     "output_type": "stream",
     "text": [
      "Train set: (47520, 18) (47520,)\n",
      "Test set: (11880, 18) (11880,)\n"
     ]
    }
   ],
   "source": [
    "X_train, X_val, y_train, y_val = train_test_split(X, y, test_size=0.2, random_state=6)\n",
    "print('Train set:', X_train.shape, y_train.shape)\n",
    "print('Test set:', X_val.shape, y_val.shape)"
   ]
  },
  {
   "cell_type": "code",
   "execution_count": 109,
   "id": "89fe30e1",
   "metadata": {},
   "outputs": [
    {
     "data": {
      "text/plain": [
       "2    6374\n",
       "0    4613\n",
       "1     893\n",
       "Name: status_group, dtype: int64"
      ]
     },
     "execution_count": 109,
     "metadata": {},
     "output_type": "execute_result"
    }
   ],
   "source": [
    "y_val.value_counts()"
   ]
  },
  {
   "cell_type": "code",
   "execution_count": 110,
   "id": "27a4a26d",
   "metadata": {},
   "outputs": [],
   "source": [
    "# maintain the test data as it is\n",
    "X_test = X_test"
   ]
  },
  {
   "cell_type": "markdown",
   "id": "b8bd26f4",
   "metadata": {},
   "source": [
    "#### Modeling"
   ]
  },
  {
   "cell_type": "markdown",
   "id": "e5f19c4e",
   "metadata": {},
   "source": [
    "##### 1. Logistic Regression"
   ]
  },
  {
   "cell_type": "code",
   "execution_count": 111,
   "id": "77a08ff8",
   "metadata": {},
   "outputs": [
    {
     "data": {
      "text/plain": [
       "LogisticRegression(random_state=0, solver='newton-cg')"
      ]
     },
     "execution_count": 111,
     "metadata": {},
     "output_type": "execute_result"
    }
   ],
   "source": [
    "#Fit a Logistic Regression model\n",
    "LR_model =LogisticRegression(C=1.0, solver='newton-cg', random_state=0).fit(X_train, y_train)\n",
    "LR_model"
   ]
  },
  {
   "cell_type": "code",
   "execution_count": 112,
   "id": "10759468",
   "metadata": {},
   "outputs": [
    {
     "data": {
      "text/plain": [
       "array([2, 2, 2, ..., 0, 2, 2], dtype=int64)"
      ]
     },
     "execution_count": 112,
     "metadata": {},
     "output_type": "execute_result"
    }
   ],
   "source": [
    "# Make predictions\n",
    "y_val_hat = LR_model.predict(X_val)\n",
    "y_val_hat"
   ]
  },
  {
   "cell_type": "code",
   "execution_count": 113,
   "id": "c9b10b19",
   "metadata": {},
   "outputs": [
    {
     "name": "stdout",
     "output_type": "stream",
     "text": [
      "Mean Squared Error: 1.214983164983165\n",
      "Root Mean Squared Error: 1.1022627477072628\n",
      "Accuracy score: 0.6398148148148148\n",
      "Precision score: 0.5929563758882657\n",
      "Recall score: 0.6398148148148148\n"
     ]
    },
    {
     "data": {
      "image/png": "[encoded data removed]",
      "text/plain": [
       "<Figure size 640x480 with 1 Axes>"
      ]
     },
     "metadata": {},
     "output_type": "display_data"
    }
   ],
   "source": [
    "# model evaluation\n",
    "\n",
    "#mse\n",
    "mse = mean_squared_error(y_val, y_val_hat)\n",
    "print('Mean Squared Error:', mse)\n",
    "\n",
    "#rmse\n",
    "rmse = mean_squared_error(y_val, y_val_hat, squared=False)\n",
    "print('Root Mean Squared Error:', rmse)\n",
    "\n",
    "#accuracy score\n",
    "acc_score = accuracy_score(y_val, y_val_hat)\n",
    "print('Accuracy score:', acc_score)\n",
    "\n",
    "#precision score\n",
    "pre_score = precision_score(y_val, y_val_hat, average=\"weighted\")\n",
    "print('Precision score:', pre_score)\n",
    "\n",
    "#recall score\n",
    "rec_score = recall_score(y_val, y_val_hat, average=\"weighted\")\n",
    "print('Recall score:', rec_score)\n",
    "\n",
    "#plot the confusion matrix\n",
    "ConfusionMatrixDisplay.from_estimator(LR_model, X_val, y_val, colorbar=False);"
   ]
  },
  {
   "cell_type": "markdown",
   "id": "99b7f493",
   "metadata": {},
   "source": [
    "##### 2. Random Forest Classifier"
   ]
  },
  {
   "cell_type": "code",
   "execution_count": 114,
   "id": "caad82d6",
   "metadata": {},
   "outputs": [
    {
     "name": "stdout",
     "output_type": "stream",
     "text": [
      "max_depth: 1\n",
      "MSE: 1.0502525252525252\n",
      "Accuracy: 0.681060606060606\n",
      "\n",
      "\n",
      "max_depth: 2\n",
      "MSE: 1.0044612794612795\n",
      "Accuracy: 0.6925084175084175\n",
      "\n",
      "\n",
      "max_depth: 3\n",
      "MSE: 0.9963804713804714\n",
      "Accuracy: 0.6945286195286196\n",
      "\n",
      "\n",
      "max_depth: 4\n",
      "MSE: 0.9724747474747475\n",
      "Accuracy: 0.7005050505050505\n",
      "\n",
      "\n",
      "max_depth: 5\n",
      "MSE: 0.9233164983164983\n",
      "Accuracy: 0.7127946127946128\n",
      "\n",
      "\n",
      "max_depth: 6\n",
      "MSE: 0.8876262626262627\n",
      "Accuracy: 0.7217171717171718\n",
      "\n",
      "\n",
      "max_depth: 7\n",
      "MSE: 0.8617003367003367\n",
      "Accuracy: 0.7281986531986532\n",
      "\n",
      "\n",
      "max_depth: 8\n",
      "MSE: 0.8367845117845117\n",
      "Accuracy: 0.7346801346801347\n",
      "\n",
      "\n",
      "max_depth: 9\n",
      "MSE: 0.8056397306397306\n",
      "Accuracy: 0.7436026936026936\n",
      "\n",
      "\n",
      "max_depth: 10\n",
      "MSE: 0.7845959595959596\n",
      "Accuracy: 0.7494949494949495\n",
      "\n",
      "\n",
      "max_depth: 11\n",
      "MSE: 0.7537037037037037\n",
      "Accuracy: 0.7584175084175084\n",
      "\n",
      "\n",
      "max_depth: 12\n",
      "MSE: 0.7261784511784511\n",
      "Accuracy: 0.765993265993266\n",
      "\n",
      "\n",
      "max_depth: 13\n",
      "MSE: 0.6903198653198653\n",
      "Accuracy: 0.7765993265993266\n",
      "\n",
      "\n",
      "max_depth: 14\n",
      "MSE: 0.6667508417508418\n",
      "Accuracy: 0.7824915824915825\n",
      "\n",
      "\n",
      "max_depth: 15\n",
      "MSE: 0.6495791245791246\n",
      "Accuracy: 0.7872895622895623\n",
      "\n",
      "\n",
      "max_depth: 16\n",
      "MSE: 0.6308922558922558\n",
      "Accuracy: 0.7923400673400673\n",
      "\n",
      "\n",
      "max_depth: 17\n",
      "MSE: 0.6184343434343434\n",
      "Accuracy: 0.7954545454545454\n",
      "\n",
      "\n",
      "max_depth: 18\n",
      "MSE: 0.6017676767676767\n",
      "Accuracy: 0.7987373737373737\n",
      "\n",
      "\n",
      "max_depth: 19\n",
      "MSE: 0.6067340067340067\n",
      "Accuracy: 0.7962962962962963\n",
      "\n",
      "\n",
      "max_depth: 20\n",
      "MSE: 0.603030303030303\n",
      "Accuracy: 0.796969696969697\n",
      "\n",
      "\n"
     ]
    }
   ],
   "source": [
    "#Random Forest Classification function\n",
    "#Hyperparameter tuning\n",
    "def rf(k):\n",
    "    model = RandomForestClassifier(n_estimators=100, oob_score=True, max_depth=k, random_state=0)\n",
    "    return model\n",
    "\n",
    "for k in range(1, 21):\n",
    "    model = rf(k)\n",
    "    model.fit(X_train, y_train)\n",
    "    \n",
    "    y_pred = model.predict(X_val)\n",
    "    \n",
    "    #evaluation\n",
    "    print(f\"max_depth: {k}\")\n",
    "    print(f\"MSE: {mean_squared_error(y_val, y_pred)}\")\n",
    "    print(f\"Accuracy: {accuracy_score(y_val, y_pred)}\")\n",
    "    print('\\n')\n",
    "    \n",
    "# The model performed the best at max_depth of 18."
   ]
  },
  {
   "cell_type": "markdown",
   "id": "81f56c19",
   "metadata": {},
   "source": [
    "###### The random forest model performs best when the maximum depth is 18. "
   ]
  },
  {
   "cell_type": "code",
   "execution_count": 115,
   "id": "1e94d98c",
   "metadata": {},
   "outputs": [
    {
     "data": {
      "text/plain": [
       "RandomForestClassifier(max_depth=18, oob_score=True, random_state=0)"
      ]
     },
     "execution_count": 115,
     "metadata": {},
     "output_type": "execute_result"
    }
   ],
   "source": [
    "#initiate the model\n",
    "RF_model = RandomForestClassifier(n_estimators=100, oob_score=True, max_depth=18, random_state=0)\n",
    "\n",
    "#fit the model\n",
    "RF_model.fit(X_train, y_train)"
   ]
  },
  {
   "cell_type": "code",
   "execution_count": 116,
   "id": "690609e9",
   "metadata": {},
   "outputs": [
    {
     "data": {
      "text/plain": [
       "array([2, 2, 2, ..., 0, 2, 2], dtype=int64)"
      ]
     },
     "execution_count": 116,
     "metadata": {},
     "output_type": "execute_result"
    }
   ],
   "source": [
    "#make predictions\n",
    "y_val_hat = RF_model.predict(X_val)\n",
    "y_val_hat"
   ]
  },
  {
   "cell_type": "code",
   "execution_count": 117,
   "id": "87a08e9c",
   "metadata": {},
   "outputs": [
    {
     "name": "stdout",
     "output_type": "stream",
     "text": [
      "Mean Squared Error: 0.6017676767676767\n",
      "Root Mean Squared Error: 0.7757368605188726\n",
      "Accuracy score: 0.7987373737373737\n",
      "Precision score: 0.7967535259028428\n",
      "Recall score: 0.7987373737373737\n"
     ]
    },
    {
     "data": {
      "image/png": "[encoded data removed]",
      "text/plain": [
       "<Figure size 640x480 with 1 Axes>"
      ]
     },
     "metadata": {},
     "output_type": "display_data"
    }
   ],
   "source": [
    "# model evaluation\n",
    "#mse\n",
    "mse = mean_squared_error(y_val, y_val_hat)\n",
    "print('Mean Squared Error:', mse)\n",
    "\n",
    "#rmse\n",
    "rmse = mean_squared_error(y_val, y_val_hat, squared=False)\n",
    "print('Root Mean Squared Error:', rmse)\n",
    "\n",
    "#accuracy score\n",
    "acc_score = accuracy_score(y_val, y_val_hat)\n",
    "print('Accuracy score:', acc_score)\n",
    "\n",
    "#precision score\n",
    "pre_score = precision_score(y_val, y_val_hat, average=\"weighted\")\n",
    "print('Precision score:', pre_score)\n",
    "\n",
    "#recall score\n",
    "rec_score = recall_score(y_val, y_val_hat, average=\"weighted\")\n",
    "print('Recall score:', rec_score)\n",
    "\n",
    "#plot the confusion matrix\n",
    "ConfusionMatrixDisplay.from_estimator(RF_model, X_val, y_val, colorbar=False);"
   ]
  },
  {
   "cell_type": "markdown",
   "id": "a03ab05b",
   "metadata": {},
   "source": [
    "##### 3. Gradient Boosting Model"
   ]
  },
  {
   "cell_type": "code",
   "execution_count": 118,
   "id": "dc088434",
   "metadata": {},
   "outputs": [
    {
     "name": "stdout",
     "output_type": "stream",
     "text": [
      "Max_depth: 1\n",
      "MSE: 0.862037037037037\n",
      "Accuracy score: 0.7291245791245792\n",
      "\n",
      "\n",
      "Max_depth: 2\n",
      "MSE: 0.762962962962963\n",
      "Accuracy score: 0.7564814814814815\n",
      "\n",
      "\n",
      "Max_depth: 3\n",
      "MSE: 0.7083333333333334\n",
      "Accuracy score: 0.7707070707070707\n",
      "\n",
      "\n",
      "Max_depth: 4\n",
      "MSE: 0.6687710437710438\n",
      "Accuracy score: 0.7774410774410775\n",
      "\n",
      "\n",
      "Max_depth: 5\n",
      "MSE: 0.6439393939393939\n",
      "Accuracy score: 0.783080808080808\n",
      "\n",
      "\n",
      "Max_depth: 6\n",
      "MSE: 0.6494107744107744\n",
      "Accuracy score: 0.7806397306397307\n",
      "\n",
      "\n",
      "Max_depth: 7\n",
      "MSE: 0.6566498316498316\n",
      "Accuracy score: 0.7771885521885522\n",
      "\n",
      "\n",
      "Max_depth: 8\n",
      "MSE: 0.6819023569023569\n",
      "Accuracy score: 0.7655723905723906\n",
      "\n",
      "\n",
      "Max_depth: 9\n",
      "MSE: 0.7090909090909091\n",
      "Accuracy score: 0.7542929292929293\n",
      "\n",
      "\n",
      "Max_depth: 10\n",
      "MSE: 0.7742424242424243\n",
      "Accuracy score: 0.7265151515151516\n",
      "\n",
      "\n"
     ]
    }
   ],
   "source": [
    "#Gradient Boosting Trees Classification function\n",
    "#Hyperparameter tuning\n",
    "def rf(k):\n",
    "    model = GradientBoostingClassifier(n_estimators=100, learning_rate=1.0, max_depth=k, random_state=0)\n",
    "    return model\n",
    "\n",
    "for k in range(1, 11):\n",
    "    model = rf(k)\n",
    "    model.fit(X_train, y_train)\n",
    "    \n",
    "    y_pred = model.predict(X_val)\n",
    "    \n",
    "    #evaluation\n",
    "    print(f\"Max_depth: {k}\")\n",
    "    print(f\"MSE: {mean_squared_error(y_val, y_pred)}\")\n",
    "    print(f\"Accuracy score: {accuracy_score(y_val, y_pred)}\")\n",
    "    print('\\n')"
   ]
  },
  {
   "cell_type": "markdown",
   "id": "6d95b011",
   "metadata": {},
   "source": [
    "###### The GBT model performs best when the maximum depth is 5."
   ]
  },
  {
   "cell_type": "code",
   "execution_count": 119,
   "id": "65bf4974",
   "metadata": {},
   "outputs": [
    {
     "data": {
      "text/plain": [
       "GradientBoostingClassifier(learning_rate=1.0, max_depth=5, random_state=0)"
      ]
     },
     "execution_count": 119,
     "metadata": {},
     "output_type": "execute_result"
    }
   ],
   "source": [
    "#instantiate the model\n",
    "GBT_model = GradientBoostingClassifier(n_estimators=100, learning_rate=1.0, max_depth=5, random_state=0)\n",
    "\n",
    "#fit model\n",
    "GBT_model.fit(X_train, y_train)"
   ]
  },
  {
   "cell_type": "code",
   "execution_count": 120,
   "id": "140dc85a",
   "metadata": {},
   "outputs": [
    {
     "data": {
      "text/plain": [
       "array([2, 2, 2, ..., 0, 2, 2], dtype=int64)"
      ]
     },
     "execution_count": 120,
     "metadata": {},
     "output_type": "execute_result"
    }
   ],
   "source": [
    "#make predictions\n",
    "y_val_hat = GBT_model.predict(X_val)\n",
    "y_val_hat"
   ]
  },
  {
   "cell_type": "code",
   "execution_count": 121,
   "id": "d5b6b029",
   "metadata": {},
   "outputs": [
    {
     "name": "stdout",
     "output_type": "stream",
     "text": [
      "Mean Squared Error: 0.6439393939393939\n",
      "Root Mean Squared Error: 0.8024583440524461\n",
      "Accuracy score: 0.783080808080808\n",
      "Precision score: 0.777233774232851\n",
      "Recall score: 0.783080808080808\n"
     ]
    },
    {
     "data": {
      "image/png": "[encoded data removed]",
      "text/plain": [
       "<Figure size 640x480 with 1 Axes>"
      ]
     },
     "metadata": {},
     "output_type": "display_data"
    }
   ],
   "source": [
    "# model evaluation\n",
    "\n",
    "#mse\n",
    "mse = mean_squared_error(y_val, y_val_hat)\n",
    "print('Mean Squared Error:', mse)\n",
    "\n",
    "#rmse\n",
    "rmse = mean_squared_error(y_val, y_val_hat, squared=False)\n",
    "print('Root Mean Squared Error:', rmse)\n",
    "\n",
    "#accuracy score\n",
    "acc_score = accuracy_score(y_val, y_val_hat)\n",
    "print('Accuracy score:', acc_score)\n",
    "\n",
    "#precision score\n",
    "pre_score = precision_score(y_val, y_val_hat, average=\"weighted\")\n",
    "print('Precision score:', pre_score)\n",
    "\n",
    "#recall score\n",
    "rec_score = recall_score(y_val, y_val_hat, average=\"weighted\")\n",
    "print('Recall score:', rec_score)\n",
    "\n",
    "#plot the confusion matrix\n",
    "ConfusionMatrixDisplay.from_estimator(GBT_model, X_val, y_val, colorbar=False);"
   ]
  },
  {
   "cell_type": "markdown",
   "id": "1542db60",
   "metadata": {},
   "source": [
    "##### Model selection"
   ]
  },
  {
   "cell_type": "markdown",
   "id": "e2308b39",
   "metadata": {},
   "source": [
    "The `Random Forest Classifier model` with a maximum depth of `18` is the best performing model.    \n",
    "It has an accuracy score of 0.7987. This is an indication that the model is a good fit to the data and in predicting the water pumps functionality."
   ]
  },
  {
   "cell_type": "markdown",
   "id": "fd8305e0",
   "metadata": {},
   "source": [
    "##### Predictions on the test set"
   ]
  },
  {
   "cell_type": "code",
   "execution_count": 122,
   "id": "130b7f46",
   "metadata": {},
   "outputs": [],
   "source": [
    "# make predictions\n",
    "y_predictions = RF_model.predict(X_test)"
   ]
  },
  {
   "cell_type": "code",
   "execution_count": 123,
   "id": "b72b8542",
   "metadata": {},
   "outputs": [
    {
     "data": {
      "text/plain": [
       "array([2, 2, 2, ..., 2, 2, 0], dtype=int64)"
      ]
     },
     "execution_count": 123,
     "metadata": {},
     "output_type": "execute_result"
    }
   ],
   "source": [
    "# have a look at the predicted values\n",
    "y_predictions"
   ]
  },
  {
   "cell_type": "code",
   "execution_count": null,
   "id": "3a532570",
   "metadata": {},
   "outputs": [],
   "source": []
  }
 ],
 "metadata": {
  "kernelspec": {
   "display_name": "Python 3 (ipykernel)",
   "language": "python",
   "name": "python3"
  },
  "language_info": {
   "codemirror_mode": {
    "name": "ipython",
    "version": 3
   },
   "file_extension": ".py",
   "mimetype": "text/x-python",
   "name": "python",
   "nbconvert_exporter": "python",
   "pygments_lexer": "ipython3",
   "version": "3.9.12"
  }
 },
 "nbformat": 4,
 "nbformat_minor": 5
}
